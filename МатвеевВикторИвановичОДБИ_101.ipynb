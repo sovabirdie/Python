{
  "nbformat": 4,
  "nbformat_minor": 0,
  "metadata": {
    "colab": {
      "provenance": [],
      "include_colab_link": true
    },
    "kernelspec": {
      "name": "python3",
      "display_name": "Python 3"
    },
    "language_info": {
      "name": "python"
    }
  },
  "cells": [
    {
      "cell_type": "markdown",
      "metadata": {
        "id": "view-in-github",
        "colab_type": "text"
      },
      "source": [
        "<a href=\"https://colab.research.google.com/github/sovabirdie/Python/blob/main/%D0%9C%D0%B0%D1%82%D0%B2%D0%B5%D0%B5%D0%B2%D0%92%D0%B8%D0%BA%D1%82%D0%BE%D1%80%D0%98%D0%B2%D0%B0%D0%BD%D0%BE%D0%B2%D0%B8%D1%87%D0%9E%D0%94%D0%91%D0%98_101.ipynb\" target=\"_parent\"><img src=\"https://colab.research.google.com/assets/colab-badge.svg\" alt=\"Open In Colab\"/></a>"
      ]
    },
    {
      "cell_type": "markdown",
      "source": [
        "Матвеев Виктор Иванович ОДБИ-101"
      ],
      "metadata": {
        "id": "9tq1jeOKpIuY"
      }
    },
    {
      "cell_type": "code",
      "source": [
        "import math"
      ],
      "metadata": {
        "id": "vCu6xNjCpJno"
      },
      "execution_count": null,
      "outputs": []
    },
    {
      "cell_type": "markdown",
      "source": [
        "1.1. Выведите на экран строковые представления числа 53 в двоичной, восьмеричной и шестнадцатеричной системах счисления.  "
      ],
      "metadata": {
        "id": "7BD33OGVo71I"
      }
    },
    {
      "cell_type": "code",
      "source": [
        "number = 53\n",
        "\n",
        "binary = bin(number)[2:]\n",
        "\n",
        "octal = oct(number)[2:]\n",
        "\n",
        "hexadecimal = hex(number)[2:]\n",
        "\n",
        "print(\"Двоичное:\", binary)\n",
        "print(\"Восьмеричное:\", octal)\n",
        "print(\"Шестнадцатеричное:\", hexadecimal)"
      ],
      "metadata": {
        "colab": {
          "base_uri": "https://localhost:8080/"
        },
        "id": "EigSisI1pFko",
        "outputId": "f3adfe10-9f1c-498d-ba13-25d101f5e9c2"
      },
      "execution_count": null,
      "outputs": [
        {
          "output_type": "stream",
          "name": "stdout",
          "text": [
            "Двоичное: 110101\n",
            "Восьмеричное: 65\n",
            "Шестнадцатеричное: 35\n"
          ]
        }
      ]
    },
    {
      "cell_type": "markdown",
      "source": [
        "1.2. Даны строковые представления чисел: '011011101' (двоичная СС), '357' (восьмеричная СС) и 'AF23D' (шестнадцатеричная СС). Выведите на экран строковые представления этих чисел в десятичной системе счисления."
      ],
      "metadata": {
        "id": "TAx0-9j_pSNo"
      }
    },
    {
      "cell_type": "code",
      "source": [
        "bin_num = '011011101'\n",
        "decimal_from_binary = int(bin_num, 2)\n",
        "\n",
        "octal_num = '357'\n",
        "decimal_from_octal = int(octal_num, 8)\n",
        "\n",
        "hex_num = 'AF23D'\n",
        "decimal_from_hex = int(hex_num, 16)\n",
        "\n",
        "print(f\"Двоичное '{bin_num}' Десятичное: {decimal_from_binary}\")\n",
        "print(f\"Восьмеричное '{octal_num}' Десятичное: {decimal_from_octal}\")\n",
        "print(f\"Шестнадцатеричное '{hex_num}' Десятичное: {decimal_from_hex}\")"
      ],
      "metadata": {
        "colab": {
          "base_uri": "https://localhost:8080/"
        },
        "id": "DNNV8l2Eo5Cy",
        "outputId": "fc8f0a92-caa9-4439-8e8a-2f32476c7c2b"
      },
      "execution_count": null,
      "outputs": [
        {
          "output_type": "stream",
          "name": "stdout",
          "text": [
            "Двоичное '011011101' Десятичное: 221\n",
            "Восьмеричное '357' Десятичное: 239\n",
            "Шестнадцатеричное 'AF23D' Десятичное: 717373\n"
          ]
        }
      ]
    },
    {
      "cell_type": "markdown",
      "source": [
        "1.3. Зная, что 1372 является числом в восьмеричной системе счисления, выведите на экран значение этого числа в десятичной системе счисления."
      ],
      "metadata": {
        "id": "OivgHiYXpbO_"
      }
    },
    {
      "cell_type": "code",
      "source": [
        "oct_num = '1372'\n",
        "dec_num = int(oct_num, 8)\n",
        "\n",
        "print(f\"Восьмеричное число {oct_num} в десятичной системе: {dec_num}\")"
      ],
      "metadata": {
        "colab": {
          "base_uri": "https://localhost:8080/"
        },
        "id": "LpJKdalPpfzn",
        "outputId": "26ba1fe2-a489-4274-9146-27944945553d"
      },
      "execution_count": null,
      "outputs": [
        {
          "output_type": "stream",
          "name": "stdout",
          "text": [
            "Восьмеричное число 1372 в десятичной системе: 762\n"
          ]
        }
      ]
    },
    {
      "cell_type": "markdown",
      "source": [
        "2.1. Составьте и выведите на экран пользователя строку, в которой через запятую перечислите целое, вещественное и комплексное числа в формате «'int', 'float', 'complex'». Реализуйте вывод двумя способами, использовав в качестве внешних двойные и одинарные кавычки."
      ],
      "metadata": {
        "id": "Fx9hpb5-pyrB"
      }
    },
    {
      "cell_type": "code",
      "source": [
        "print(\"'int', 'float', 'complex'\")\n",
        "print('\\'int\\', \\'float\\', \\'complex\\'')"
      ],
      "metadata": {
        "colab": {
          "base_uri": "https://localhost:8080/"
        },
        "id": "JpIlr-F-pzVA",
        "outputId": "98a90214-63fe-4420-a498-12c24cf5a7c1"
      },
      "execution_count": null,
      "outputs": [
        {
          "output_type": "stream",
          "name": "stdout",
          "text": [
            "'int', 'float', 'complex'\n",
            "'int', 'float', 'complex'\n"
          ]
        }
      ]
    },
    {
      "cell_type": "markdown",
      "source": [
        "2.2. Составьте и выведите на экран пользователя строку-матрешку с содержимым «'4 + \"3 + '2 + \"1 + '0' \" ' \" '». Реализуйте вывод четырьмя способами, использовав в качестве внешних все виды кавычек, разрешенных для строк."
      ],
      "metadata": {
        "id": "ATwI0rNLp3yg"
      }
    },
    {
      "cell_type": "code",
      "source": [
        "print('\\'4 + \"3 + \\'2 + \"1 + \\'0\\' \" \\' \" \\'')\n",
        "print(\"\\'4 + \\\"3 + \\'2 + \\\"1 + \\'0\\' \\\" \\' \\\" \\'\")\n",
        "print('''\\'4 + \"3 + \\'2 + \"1 + \\'0\\' \" \\' \" \\'''')\n",
        "print(\"\"\"\\'4 + \\\"3 + \\'2 + \\\"1 + \\'0\\' \\\" \\' \\\" \\'\"\"\")"
      ],
      "metadata": {
        "colab": {
          "base_uri": "https://localhost:8080/"
        },
        "id": "_UWLG7F7p6q_",
        "outputId": "2b51c99d-fffe-42fa-8464-4c8266752ae0"
      },
      "execution_count": null,
      "outputs": [
        {
          "output_type": "stream",
          "name": "stdout",
          "text": [
            "'4 + \"3 + '2 + \"1 + '0' \" ' \" '\n",
            "'4 + \"3 + '2 + \"1 + '0' \" ' \" '\n",
            "'4 + \"3 + '2 + \"1 + '0' \" ' \" '\n",
            "'4 + \"3 + '2 + \"1 + '0' \" ' \" '\n"
          ]
        }
      ]
    },
    {
      "cell_type": "markdown",
      "source": [
        "2.3. Необходимо вывести на экран пользователя строку с адресом '..\\new_dir\\tables.py'. Реализуйте вывод двумя способами."
      ],
      "metadata": {
        "id": "ppVX3Aqfp8-v"
      }
    },
    {
      "cell_type": "code",
      "source": [
        "print('..\\\\new_dir\\\\tables.py')\n",
        "print(r'..\\new_dir\\tables.py')"
      ],
      "metadata": {
        "colab": {
          "base_uri": "https://localhost:8080/"
        },
        "id": "P0Kq0p_qp_A_",
        "outputId": "f4d9991a-8f77-4e29-93bb-f3e8fcb2fae6"
      },
      "execution_count": null,
      "outputs": [
        {
          "output_type": "stream",
          "name": "stdout",
          "text": [
            "..\\new_dir\\tables.py\n",
            "..\\new_dir\\tables.py\n"
          ]
        }
      ]
    },
    {
      "cell_type": "markdown",
      "source": [
        "3.2. Дан список [[1, 2, ['Ok!', 3]], ['list', 4], 5]. Выведите на экран строку 'Ok!', использовав синтаксис доступа к элементу списка по его индексу."
      ],
      "metadata": {
        "id": "2zbXP7zAqBgf"
      }
    },
    {
      "cell_type": "code",
      "source": [
        "lst = [[1, 2, ['Ok!', 3]], ['list', 4], 5]\n",
        "\n",
        "print(lst[0][2][0])"
      ],
      "metadata": {
        "colab": {
          "base_uri": "https://localhost:8080/"
        },
        "id": "4LkhbLg0qFKf",
        "outputId": "bd621cfa-45ad-4913-98f3-98a6f82b1373"
      },
      "execution_count": null,
      "outputs": [
        {
          "output_type": "stream",
          "name": "stdout",
          "text": [
            "Ok!\n"
          ]
        }
      ]
    },
    {
      "cell_type": "markdown",
      "source": [
        "3.4. Дан список ['Санкт', '+', 'Петербург']. Исправьте плюс на дефис и выведите название города на экран использовав доступ к элементам списка по индексам."
      ],
      "metadata": {
        "id": "OpzS9h-MqHXA"
      }
    },
    {
      "cell_type": "code",
      "source": [
        "city = ['Санкт', '+', 'Петербург']\n",
        "city[1] = '-'\n",
        "print(''.join(city))"
      ],
      "metadata": {
        "colab": {
          "base_uri": "https://localhost:8080/"
        },
        "id": "uAyPehxRqHoX",
        "outputId": "20635014-743b-438b-edcb-d85f20de95fe"
      },
      "execution_count": null,
      "outputs": [
        {
          "output_type": "stream",
          "name": "stdout",
          "text": [
            "Санкт-Петербург\n"
          ]
        }
      ]
    },
    {
      "cell_type": "markdown",
      "source": [
        "3.5. Дан список ['a', '1', 'b', '2', 'c', '3']. Разбейте его на два списка: только с буквами и только с числами. Сам список затем удалите, а новые списки выведите на экран, каждый на отдельной строке."
      ],
      "metadata": {
        "id": "r-ahD4YZqR9A"
      }
    },
    {
      "cell_type": "code",
      "source": [
        "original_list = ['a', '1', 'b', '2', 'c', '3']\n",
        "letters = original_list[::2]\n",
        "numbers = original_list[1::2]\n",
        "del original_list\n",
        "\n",
        "print(letters)  # ['a', 'b', 'c']\n",
        "print(numbers)  # ['1', '2', '3']"
      ],
      "metadata": {
        "colab": {
          "base_uri": "https://localhost:8080/"
        },
        "id": "cFKBhqtgqSaf",
        "outputId": "c22a9fc2-dfea-49bd-a498-753896efc5e6"
      },
      "execution_count": null,
      "outputs": [
        {
          "output_type": "stream",
          "name": "stdout",
          "text": [
            "['a', 'b', 'c']\n",
            "['1', '2', '3']\n"
          ]
        }
      ]
    },
    {
      "cell_type": "markdown",
      "source": [
        "4.2. Создайте кортеж-матрешку, в который поместите два элемента: целое число и вложенный кортеж, в который поместите еще два элемента: вещественное число и вложенный кортеж, в который поместите еще два элемента: комплексное число и вложенный кортеж, в который поместите еще два элемента: строку и пустой кортеж. Выведите на экран конечную строку. Обратите внимание на схожесть решения с задачей 3.3."
      ],
      "metadata": {
        "id": "YVGlkI4eqgXf"
      }
    },
    {
      "cell_type": "code",
      "source": [
        "matryoshka = (\n",
        "    52,\n",
        "    (\n",
        "        52.52,\n",
        "        (\n",
        "            52+52j,\n",
        "            (\n",
        "                \"НЕТНЕТОН\",\n",
        "                ()\n",
        "            )\n",
        "        )\n",
        "    )\n",
        ")\n",
        "\n",
        "print(matryoshka[1][1][1][0])"
      ],
      "metadata": {
        "colab": {
          "base_uri": "https://localhost:8080/"
        },
        "id": "Z6VPz3l_qoRP",
        "outputId": "4cb66c99-8fab-4416-e228-eae5eccbd3d5"
      },
      "execution_count": null,
      "outputs": [
        {
          "output_type": "stream",
          "name": "stdout",
          "text": [
            "НЕТНЕТОН\n"
          ]
        }
      ]
    },
    {
      "cell_type": "markdown",
      "source": [
        "4.4. Дан кортеж ((1, 2, ('Ok!', 3)), ('tuple', 4), 5). Выведите на экран строку 'Ok!', использовав синтаксис доступа к элементу кортежа по его индексу. Обратите внимание на схожесть решения и результатов с задачей 3.2."
      ],
      "metadata": {
        "id": "JwKruKJpqr__"
      }
    },
    {
      "cell_type": "code",
      "source": [
        "tpl = ((1, 2, ('Ok!', 3)), ('tuple', 4), 5)\n",
        "\n",
        "print(tpl[0][2][0])"
      ],
      "metadata": {
        "colab": {
          "base_uri": "https://localhost:8080/"
        },
        "id": "rATEcS6mqsYX",
        "outputId": "8caa09b4-a11f-4bf9-8271-c3105a9a239e"
      },
      "execution_count": null,
      "outputs": [
        {
          "output_type": "stream",
          "name": "stdout",
          "text": [
            "Ok!\n"
          ]
        }
      ]
    },
    {
      "cell_type": "markdown",
      "source": [
        "4.5. Дан кортеж (3, 's', 1, 5, 's'). Выведите на экран: количество всех элементов кортежа, количество строк 's', индекс первого вхождения 's' в кортеж."
      ],
      "metadata": {
        "id": "JnDcHzocqwsH"
      }
    },
    {
      "cell_type": "code",
      "source": [
        "tpl = (3, 's', 1, 5, 's')\n",
        "\n",
        "print(len(tpl))\n",
        "print(tpl.count('s'))\n",
        "print(tpl.index('s'))"
      ],
      "metadata": {
        "colab": {
          "base_uri": "https://localhost:8080/"
        },
        "id": "b6eFRxq6qw-w",
        "outputId": "b2951e0a-0110-4d10-f8ed-10438798eb16"
      },
      "execution_count": null,
      "outputs": [
        {
          "output_type": "stream",
          "name": "stdout",
          "text": [
            "5\n",
            "2\n",
            "1\n"
          ]
        }
      ]
    },
    {
      "cell_type": "markdown",
      "source": [
        "5.1. Создайте словарь d = {'1': 0, 2: 0, '3': 0} тремя способами. Выведите полученный словарь на экран."
      ],
      "metadata": {
        "id": "zKVFyeOMq-kH"
      }
    },
    {
      "cell_type": "code",
      "source": [
        "d1 = {'1': 0, 2: 0, '3': 0}\n",
        "print(\"1:\", d1)\n",
        "\n",
        "d2 = dict([('1', 0), (2, 0), ('3', 0)])\n",
        "print(\"2:\", d2)\n",
        "\n",
        "d3 = {}\n",
        "d3['1'] = 0\n",
        "d3[2] = 0\n",
        "d3['3'] = 0\n",
        "print(\"3:\", d3)"
      ],
      "metadata": {
        "colab": {
          "base_uri": "https://localhost:8080/"
        },
        "id": "dSs6DGKtrBH2",
        "outputId": "82942982-60b2-4cbe-d3b2-12a2a8978eac"
      },
      "execution_count": null,
      "outputs": [
        {
          "output_type": "stream",
          "name": "stdout",
          "text": [
            "1: {'1': 0, 2: 0, '3': 0}\n",
            "2: {'1': 0, 2: 0, '3': 0}\n",
            "3: {'1': 0, 2: 0, '3': 0}\n"
          ]
        }
      ]
    },
    {
      "cell_type": "markdown",
      "source": [
        "5.2. Создайте словарь содержащий данные о человеке. В качестве ключей используйте строки 'имя', 'возраст' и 'пол'. Значения придумайте самостоятельно. Выведите полученный словарь на экран."
      ],
      "metadata": {
        "id": "Rm2ks9aWrNtV"
      }
    },
    {
      "cell_type": "code",
      "source": [
        "person = {\n",
        "    'имя': 'Витя',\n",
        "    'возраст': 18,\n",
        "    'пол': 'мужской'\n",
        "}\n",
        "\n",
        "print(person)"
      ],
      "metadata": {
        "colab": {
          "base_uri": "https://localhost:8080/"
        },
        "id": "xLEUsR8nrOKd",
        "outputId": "44a8eb04-eee0-4bca-bba3-fb1e410fe73b"
      },
      "execution_count": null,
      "outputs": [
        {
          "output_type": "stream",
          "name": "stdout",
          "text": [
            "{'имя': 'Витя', 'возраст': 18, 'пол': 'мужской'}\n"
          ]
        }
      ]
    },
    {
      "cell_type": "markdown",
      "source": [
        "5.3. Дан словарь d = {'1': 1.29, '2': 0.43}. Используя доступ к элементам словаря по ключу, найдите произведение 1.29*0.43, после чего добавьте результат в словарь, а затем выведите значение нового элемента на экран."
      ],
      "metadata": {
        "id": "Q89EnPH3rT3j"
      }
    },
    {
      "cell_type": "code",
      "source": [
        "d = {'1': 1.29, '2': 0.43}\n",
        "product = d['1'] * d['2']\n",
        "d['3'] = product\n",
        "\n",
        "print(d['3'])"
      ],
      "metadata": {
        "colab": {
          "base_uri": "https://localhost:8080/"
        },
        "id": "jaEpIcBxrUYz",
        "outputId": "1cdee432-d46d-4fd2-d2e0-c35762740dd8"
      },
      "execution_count": null,
      "outputs": [
        {
          "output_type": "stream",
          "name": "stdout",
          "text": [
            "0.5547\n"
          ]
        }
      ]
    },
    {
      "cell_type": "markdown",
      "source": [
        "6.2. Дано множество {'a', 'b', 'c'}. Удалите из него строку 'c', а затем добавьте элемент 'd'. Выведите итоговое множество на экран."
      ],
      "metadata": {
        "id": "vsKg0GdOraaz"
      }
    },
    {
      "cell_type": "code",
      "source": [
        "my_set = {'a', 'b', 'c'}\n",
        "my_set.remove('c')\n",
        "my_set.add('d')\n",
        "\n",
        "print(my_set)"
      ],
      "metadata": {
        "colab": {
          "base_uri": "https://localhost:8080/"
        },
        "id": "Hklehpywrasj",
        "outputId": "7c46ae34-d616-4bcd-dd65-af0b93ae98c5"
      },
      "execution_count": null,
      "outputs": [
        {
          "output_type": "stream",
          "name": "stdout",
          "text": [
            "{'a', 'd', 'b'}\n"
          ]
        }
      ]
    },
    {
      "cell_type": "markdown",
      "source": [
        "6.5. Дано множество целых чисел {-3, 8, 15, -5, 0, 7}. Выведите на экран произведение максимального и минимального элементов, сумму элементов не превышающих 7."
      ],
      "metadata": {
        "id": "ki4KOl75rjM6"
      }
    },
    {
      "cell_type": "code",
      "source": [
        "numbers = {-3, 8, 15, -5, 0, 7}\n",
        "max_num = max(numbers)\n",
        "min_num = min(numbers)\n",
        "product = max_num * min_num\n",
        "sum_less_than_7 = sum(x for x in numbers if x <= 7)\n",
        "print(f\"Произведение максимального и минимального элементов: {product}\")\n",
        "print(f\"Сумма элементов, не превышающих 7: {sum_less_than_7}\")"
      ],
      "metadata": {
        "colab": {
          "base_uri": "https://localhost:8080/"
        },
        "id": "Dpb70NBtrjb5",
        "outputId": "d4e769d3-947d-48d6-f2f3-24f02a191b58"
      },
      "execution_count": null,
      "outputs": [
        {
          "output_type": "stream",
          "name": "stdout",
          "text": [
            "Произведение максимального и минимального элементов: -75\n",
            "Сумма элементов, не превышающих 7: -1\n"
          ]
        }
      ]
    },
    {
      "cell_type": "markdown",
      "source": [
        "6.6. Определите есть ли в строке 'Купить, нельзя оставить!' хотя бы одна точка или запятая. Выведите результат проверки на экран."
      ],
      "metadata": {
        "id": "_qFUi3IVrqK5"
      }
    },
    {
      "cell_type": "code",
      "source": [
        "s = 'Купить, нельзя оставить!'\n",
        "print(any(c in s for c in '.,'))"
      ],
      "metadata": {
        "colab": {
          "base_uri": "https://localhost:8080/"
        },
        "id": "gnQ-p82krqbQ",
        "outputId": "0b53bebd-523c-4496-eee5-aefd88a9a77c"
      },
      "execution_count": null,
      "outputs": [
        {
          "output_type": "stream",
          "name": "stdout",
          "text": [
            "True\n"
          ]
        }
      ]
    },
    {
      "cell_type": "markdown",
      "source": [
        "7.1. Перевести граммы в килограммы и вывести результат на экран. Значение граммов ввести с клавиатуры."
      ],
      "metadata": {
        "id": "IWpLYMjLrvAH"
      }
    },
    {
      "cell_type": "code",
      "execution_count": null,
      "metadata": {
        "colab": {
          "base_uri": "https://localhost:8080/"
        },
        "id": "pu5vh-AQB4Xb",
        "outputId": "dae2f6ea-3dcb-448f-cdd1-9ff0055035c4"
      },
      "outputs": [
        {
          "output_type": "stream",
          "name": "stdout",
          "text": [
            "Введите количество граммов: 69543\n",
            "69543.0 граммов = 69.543 килограммов\n"
          ]
        }
      ],
      "source": [
        "grams = float(input(\"Введите количество граммов: \"))\n",
        "kilograms = grams / 1000\n",
        "\n",
        "print(f\"{grams} граммов = {kilograms} килограммов\")"
      ]
    },
    {
      "cell_type": "markdown",
      "source": [
        "7.2. Даны две переменные x = 10 и y = 55. Поменяйте их значения местами. Выведите значения переменных на экран до и после замены."
      ],
      "metadata": {
        "id": "BpxrLRv5sNL9"
      }
    },
    {
      "cell_type": "code",
      "source": [
        "x, y = 10, 55\n",
        "print(\"До замены: x =\", x, \"y =\", y)\n",
        "\n",
        "x, y = y, x\n",
        "print(\"После замены: x =\", x, \"y =\", y)"
      ],
      "metadata": {
        "colab": {
          "base_uri": "https://localhost:8080/"
        },
        "id": "ZAYELi1ZsRcV",
        "outputId": "aae0b494-c347-436a-daf8-4535af0f98c0"
      },
      "execution_count": null,
      "outputs": [
        {
          "output_type": "stream",
          "name": "stdout",
          "text": [
            "До замены: x = 10 y = 55\n",
            "После замены: x = 55 y = 10\n"
          ]
        }
      ]
    },
    {
      "cell_type": "markdown",
      "source": [
        "7.3. С клавиатуры вводится расстояние L в метрах. Необходимо найти и вывести на экран количество полных километров в нем."
      ],
      "metadata": {
        "id": "9zX4csDbse4l"
      }
    },
    {
      "cell_type": "code",
      "source": [
        "L = int(input(\"Расстояние в метрах: \"))\n",
        "km = L // 1000\n",
        "print(f\"Полных километров: {km}\")"
      ],
      "metadata": {
        "colab": {
          "base_uri": "https://localhost:8080/"
        },
        "id": "KPW5wXjbsgqd",
        "outputId": "bd8386e4-816d-455c-fbca-fab9fe4baf43"
      },
      "execution_count": null,
      "outputs": [
        {
          "output_type": "stream",
          "name": "stdout",
          "text": [
            "Расстояние в метрах: 434\n",
            "Полных километров: 0\n"
          ]
        }
      ]
    },
    {
      "cell_type": "markdown",
      "source": [
        "8.1. Записать и вывести на экран условие, которое является истинным, когда положительное целое n кратно двум или трем."
      ],
      "metadata": {
        "id": "gzOMrXLmtA3M"
      }
    },
    {
      "cell_type": "code",
      "source": [
        "n = int(input(\"Положительное целое число: \"))\n",
        "condition = n % 2 == 0 or n % 3 == 0\n",
        "print(f\"Число {n} кратно 2 или 3: {condition}\")"
      ],
      "metadata": {
        "colab": {
          "base_uri": "https://localhost:8080/"
        },
        "id": "xTONTM9PtBI1",
        "outputId": "f84e6355-6d8a-4fcb-e69a-3aac1ad26a61"
      },
      "execution_count": null,
      "outputs": [
        {
          "output_type": "stream",
          "name": "stdout",
          "text": [
            "Введите положительное целое число: 12\n",
            "Число 12 кратно 2 или 3: True\n"
          ]
        }
      ]
    },
    {
      "cell_type": "markdown",
      "source": [
        "8.4. Записать и вывести на экран условие, которое является истинным, когда хотя бы одно из чисел x, y и z больше 80."
      ],
      "metadata": {
        "id": "NdiPE2evtB7t"
      }
    },
    {
      "cell_type": "code",
      "source": [
        "x, y, z = 60, 70, 81\n",
        "condition = x > 80 or y > 80 or z > 80\n",
        "print(f\"Хотя бы одно число > 80: {condition}\")"
      ],
      "metadata": {
        "colab": {
          "base_uri": "https://localhost:8080/"
        },
        "id": "sogkGR5stCc1",
        "outputId": "c22acf5f-9656-4d1a-de23-6632f3fdee2a"
      },
      "execution_count": null,
      "outputs": [
        {
          "output_type": "stream",
          "name": "stdout",
          "text": [
            "Хотя бы одно число > 80: True\n"
          ]
        }
      ]
    },
    {
      "cell_type": "markdown",
      "source": [
        "8.5. Записать и вывести на экран условие, которое является истинным, когда оба числа a и b одновременно положительны или отрицательны."
      ],
      "metadata": {
        "id": "J7QuGSGEtCtU"
      }
    },
    {
      "cell_type": "code",
      "source": [
        "a, b = 5, 15\n",
        "condition = a * b > 0\n",
        "print(f\"Оба числа одного знака: {condition}\")"
      ],
      "metadata": {
        "colab": {
          "base_uri": "https://localhost:8080/"
        },
        "id": "TwGqAv4ZtC-N",
        "outputId": "6b68d22c-9ed2-45ec-9fe8-bb0b085857fa"
      },
      "execution_count": null,
      "outputs": [
        {
          "output_type": "stream",
          "name": "stdout",
          "text": [
            "Оба числа одного знака: True\n"
          ]
        }
      ]
    },
    {
      "cell_type": "markdown",
      "source": [
        "9.1. Определите, не является ли введенная пользователем с клавиатуры строка пустой. Результат проверки в виде True или False выведите на экран."
      ],
      "metadata": {
        "id": "JgzZ9hDJtGTN"
      }
    },
    {
      "cell_type": "code",
      "source": [
        "s = input(\"Введите строку: \")\n",
        "print(s.strip() != \"\")  # True если есть не-пробельные символы"
      ],
      "metadata": {
        "colab": {
          "base_uri": "https://localhost:8080/"
        },
        "id": "4an4DophtGjM",
        "outputId": "6852db3e-8836-4a1a-cf9f-969c2078ec35"
      },
      "execution_count": null,
      "outputs": [
        {
          "output_type": "stream",
          "name": "stdout",
          "text": [
            "Введите строку: ва\n",
            "True\n"
          ]
        }
      ]
    },
    {
      "cell_type": "markdown",
      "source": [
        "9.3. Определить, является ли введенное с клавиатуры натуральное число кратным трем. Вывести результат на экран."
      ],
      "metadata": {
        "id": "GRn_q18BtGw9"
      }
    },
    {
      "cell_type": "code",
      "source": [
        "number = int(input(\"Введите натуральное число: \"))\n",
        "print(number % 3 == 0)"
      ],
      "metadata": {
        "colab": {
          "base_uri": "https://localhost:8080/"
        },
        "id": "q-ITv-QutHB9",
        "outputId": "768453ee-5b88-4972-8172-9235f4ff306c"
      },
      "execution_count": null,
      "outputs": [
        {
          "output_type": "stream",
          "name": "stdout",
          "text": [
            "Введите натуральное число: 32\n",
            "False\n"
          ]
        }
      ]
    },
    {
      "cell_type": "markdown",
      "source": [
        "9.5. Напишите программу, которая будет проверять, является ли введенное пользователем значение цифрой десятичной системы счисления. Результат проверки должен выводиться пользователю на экран в виде сообщения."
      ],
      "metadata": {
        "id": "NLqn0VVBwbBz"
      }
    },
    {
      "cell_type": "code",
      "source": [
        "user_input = input(\"Введите один символ: \")\n",
        "\n",
        "if len(user_input) == 1 and user_input in \"0123456789\":\n",
        "    print(\"Это цифра дес. системы счисления\")\n",
        "else:\n",
        "    print(\"Это не цифра дес. системы счисления\")"
      ],
      "metadata": {
        "colab": {
          "base_uri": "https://localhost:8080/"
        },
        "id": "t_O-0SXCwbS6",
        "outputId": "404bdb74-a50f-4040-d4c0-05a5fa46c829"
      },
      "execution_count": null,
      "outputs": [
        {
          "output_type": "stream",
          "name": "stdout",
          "text": [
            "Введите один символ: 23\n",
            "Это не цифра дес. системы счисления\n"
          ]
        }
      ]
    },
    {
      "cell_type": "markdown",
      "source": [
        "10.1. Посчитайте количество символов в строке 'Python - это Питон!', использовав счетчики на основе циклов for и while."
      ],
      "metadata": {
        "id": "KcCeazU8xILD"
      }
    },
    {
      "cell_type": "code",
      "source": [
        "s = 'Python - это Питон!'\n",
        "count = 0\n",
        "\n",
        "for char in s:\n",
        "    count += 1\n",
        "\n",
        "print(f\"Количество символов (for): {count}\")"
      ],
      "metadata": {
        "colab": {
          "base_uri": "https://localhost:8080/"
        },
        "id": "aQgW507MxIcj",
        "outputId": "c01d0bc6-4b49-4b0c-f6bd-fab84d6ee73b"
      },
      "execution_count": null,
      "outputs": [
        {
          "output_type": "stream",
          "name": "stdout",
          "text": [
            "Количество символов (for): 19\n"
          ]
        }
      ]
    },
    {
      "cell_type": "markdown",
      "source": [
        "10.3. Найдите сумму всех элементов списка [1, '2', 3, 4, '5'], предварительно приводя строки к целым числам."
      ],
      "metadata": {
        "id": "pSDCvrL-xI4z"
      }
    },
    {
      "cell_type": "code",
      "source": [
        "lst = [1, '2', 3, 4, '5']\n",
        "total = sum(int(x) for x in lst)\n",
        "\n",
        "print(total)"
      ],
      "metadata": {
        "colab": {
          "base_uri": "https://localhost:8080/"
        },
        "id": "v8wTzeHPxJI6",
        "outputId": "29aacbcd-3f52-4b2f-b40f-a5f2396cf05a"
      },
      "execution_count": null,
      "outputs": [
        {
          "output_type": "stream",
          "name": "stdout",
          "text": [
            "15\n"
          ]
        }
      ]
    },
    {
      "cell_type": "markdown",
      "source": [
        "10.4. Дано множество целых чисел {12, 33, 24, 7, 19}. Выведите на экран только четные числа."
      ],
      "metadata": {
        "id": "R-b14LgcxJWS"
      }
    },
    {
      "cell_type": "code",
      "source": [
        "numbers = {12, 33, 24, 7, 19}\n",
        "for num in numbers:\n",
        "    if num % 2 == 0:\n",
        "      print(num)"
      ],
      "metadata": {
        "colab": {
          "base_uri": "https://localhost:8080/"
        },
        "id": "EDjEFJ2uxJoq",
        "outputId": "4e3c3f4a-fb2d-493b-9d51-26c076efcaeb"
      },
      "execution_count": null,
      "outputs": [
        {
          "output_type": "stream",
          "name": "stdout",
          "text": [
            "24\n",
            "12\n"
          ]
        }
      ]
    },
    {
      "cell_type": "markdown",
      "source": [
        "11.2. Создайте список нечетных чисел, принадлежащих отрезку [10; 20], использовав для этого генератор списков. Выведите полученный список на экран."
      ],
      "metadata": {
        "id": "xqhakgXzxKQK"
      }
    },
    {
      "cell_type": "code",
      "source": [
        "odd_numbers = [x for x in range(10, 21) if x % 2 == 1]\n",
        "print(odd_numbers)"
      ],
      "metadata": {
        "colab": {
          "base_uri": "https://localhost:8080/"
        },
        "id": "FILIj02VxKfa",
        "outputId": "0583aa50-f288-49ad-cfbe-bb5402f2292d"
      },
      "execution_count": null,
      "outputs": [
        {
          "output_type": "stream",
          "name": "stdout",
          "text": [
            "[11, 13, 15, 17, 19]\n"
          ]
        }
      ]
    },
    {
      "cell_type": "markdown",
      "source": [
        "11.4. Выведите на экран элементы списка [1, 2, 3], использовав для этого функцию next()."
      ],
      "metadata": {
        "id": "MW0bGv4bxKxq"
      }
    },
    {
      "cell_type": "code",
      "source": [
        "my_list = [1, 2, 3]\n",
        "iterator = iter(my_list)\n",
        "\n",
        "while True:\n",
        "    try:\n",
        "        print(next(iterator))\n",
        "    except StopIteration:\n",
        "        break"
      ],
      "metadata": {
        "colab": {
          "base_uri": "https://localhost:8080/"
        },
        "id": "ipYTeLI-xLET",
        "outputId": "eb9c0ea0-c602-46da-8af8-85111a782816"
      },
      "execution_count": null,
      "outputs": [
        {
          "output_type": "stream",
          "name": "stdout",
          "text": [
            "1\n",
            "2\n",
            "3\n"
          ]
        }
      ]
    },
    {
      "cell_type": "markdown",
      "source": [
        "11.7. Выведите на экран сумму числовых кодов символов строки 'генераторы', использовав в решении генератор списков."
      ],
      "metadata": {
        "id": "d3VIwaghxLuC"
      }
    },
    {
      "cell_type": "code",
      "source": [
        "word = 'генераторы'\n",
        "char_codes = [ord(char) for char in word]\n",
        "codes_sum = sum(char_codes)\n",
        "print(f\"Сумма кодов: {codes_sum} (список кодов: {char_codes})\")"
      ],
      "metadata": {
        "colab": {
          "base_uri": "https://localhost:8080/"
        },
        "id": "5ofUUhmhxL90",
        "outputId": "c87375dc-6038-4caa-f358-6e0555365d03"
      },
      "execution_count": null,
      "outputs": [
        {
          "output_type": "stream",
          "name": "stdout",
          "text": [
            "Сумма кодов: 10837 (список кодов: [1075, 1077, 1085, 1077, 1088, 1072, 1090, 1086, 1088, 1099])\n"
          ]
        }
      ]
    },
    {
      "cell_type": "markdown",
      "source": [
        "12.1. Создайте простейшую в мире функцию simple_pass, а затем выведите на экран ее тип."
      ],
      "metadata": {
        "id": "AK87GrF8xMYy"
      }
    },
    {
      "cell_type": "code",
      "source": [
        "def simple_pass():\n",
        "    pass\n",
        "print(type(simple_pass))\n",
        "print(\"Является ли simple_pass функцией?\", callable(simple_pass))"
      ],
      "metadata": {
        "colab": {
          "base_uri": "https://localhost:8080/"
        },
        "id": "18ZK0iTlxMoC",
        "outputId": "b7ca66f1-6201-404d-f1cf-8291dfcee5f1"
      },
      "execution_count": null,
      "outputs": [
        {
          "output_type": "stream",
          "name": "stdout",
          "text": [
            "<class 'function'>\n",
            "Является ли simple_pass функцией? True\n"
          ]
        }
      ]
    },
    {
      "cell_type": "markdown",
      "source": [
        "12.2. Напишите функцию hello_friend, принимающую в качестве аргументов имя и фамилию пользователя и возвращающую строку в формате «Привет, {name} {surname}!». Вызовите функцию и выведите результат вызова на экран."
      ],
      "metadata": {
        "id": "BwxxcmcVxM06"
      }
    },
    {
      "cell_type": "code",
      "source": [
        "def hello_friend(name, surname):\n",
        "    return f\"Привет, {name} {surname}!\"\n",
        "result = hello_friend(\"Виктор\", \"Матвеев\")\n",
        "print(result)"
      ],
      "metadata": {
        "id": "EyT_EZn_xNDi",
        "colab": {
          "base_uri": "https://localhost:8080/"
        },
        "outputId": "f3964dba-c6ab-4c5e-ccbd-8bc4940f694c"
      },
      "execution_count": null,
      "outputs": [
        {
          "output_type": "stream",
          "name": "stdout",
          "text": [
            "Привет, Иван Иванов!\n"
          ]
        }
      ]
    },
    {
      "cell_type": "markdown",
      "source": [
        "12.10. Напишите собственный аналог встроенной функции abs для нахождения модуля числа. Проверьте ее на числах -5, 0 и 10."
      ],
      "metadata": {
        "id": "xMSGErikxNPb"
      }
    },
    {
      "cell_type": "code",
      "source": [
        "def custom_abs(x):\n",
        "    return x if x >= 0 else -x\n",
        "print(custom_abs(-5))\n",
        "print(custom_abs(0))\n",
        "print(custom_abs(10))"
      ],
      "metadata": {
        "id": "EqPH9onXxNe6",
        "colab": {
          "base_uri": "https://localhost:8080/"
        },
        "outputId": "72868212-2787-458b-f242-68f0400e3ed6"
      },
      "execution_count": null,
      "outputs": [
        {
          "output_type": "stream",
          "name": "stdout",
          "text": [
            "5\n",
            "0\n",
            "10\n"
          ]
        }
      ]
    }
  ]
}