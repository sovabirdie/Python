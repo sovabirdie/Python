{
  "nbformat": 4,
  "nbformat_minor": 0,
  "metadata": {
    "colab": {
      "provenance": [],
      "include_colab_link": true
    },
    "kernelspec": {
      "name": "python3",
      "display_name": "Python 3"
    },
    "language_info": {
      "name": "python"
    }
  },
  "cells": [
    {
      "cell_type": "markdown",
      "metadata": {
        "id": "view-in-github",
        "colab_type": "text"
      },
      "source": [
        "<a href=\"https://colab.research.google.com/github/sovabirdie/Python/blob/main/%D0%94%D0%B5%D0%BB%D1%8C%D0%B2%D0%B0%20%D0%9C%D0%B0%D0%BA%D1%81%D0%B8%D0%BC%20%D0%95%D0%B2%D0%B3%D0%B5%D0%BD%D1%8C%D0%B5%D0%B2%D0%B8%D1%87%20%D0%9E%D0%94%D0%91%D0%98-101%D0%B1.ipynb\" target=\"_parent\"><img src=\"https://colab.research.google.com/assets/colab-badge.svg\" alt=\"Open In Colab\"/></a>"
      ]
    },
    {
      "cell_type": "code",
      "execution_count": null,
      "metadata": {
        "id": "EPlSMVxe_I_z"
      },
      "outputs": [],
      "source": []
    },
    {
      "cell_type": "markdown",
      "source": [
        "Дельва Максим Евгеньевич ОДБИ-101б"
      ],
      "metadata": {
        "id": "n7JiGIRK_MDk"
      }
    },
    {
      "cell_type": "code",
      "source": [
        "import math\n"
      ],
      "metadata": {
        "id": "XZ_ehqiw_-Ui"
      },
      "execution_count": null,
      "outputs": []
    },
    {
      "cell_type": "markdown",
      "source": [
        "Задание 1.1 Выведите на экран строковые представления числа 53 в двоичной, восьмеричной и шестнадцатеричной системах счисления.  "
      ],
      "metadata": {
        "id": "m03sxWcKAXUx"
      }
    },
    {
      "cell_type": "code",
      "source": [
        "print (bin (53))\n",
        "print (oct (53))\n",
        "print (hex (53))"
      ],
      "metadata": {
        "colab": {
          "base_uri": "https://localhost:8080/"
        },
        "id": "biIycgDyCpw_",
        "outputId": "9eb03a1d-8908-43fb-d5e7-d355e12e18f6"
      },
      "execution_count": null,
      "outputs": [
        {
          "output_type": "stream",
          "name": "stdout",
          "text": [
            "0b110101\n",
            "0o65\n",
            "0x35\n"
          ]
        }
      ]
    },
    {
      "cell_type": "markdown",
      "source": [
        "Задание 1.3. Зная, что 1372 является числом в восьмеричной системе счисления, выведите на экран значение этого числа в десятичной системе счисления."
      ],
      "metadata": {
        "id": "70LR-xc7I8rV"
      }
    },
    {
      "cell_type": "code",
      "source": [
        "num_oct = str(1372)\n",
        "print (int(num_oct, base = 8))"
      ],
      "metadata": {
        "colab": {
          "base_uri": "https://localhost:8080/"
        },
        "id": "dKdPwSn9JytU",
        "outputId": "68c24b44-5bad-4164-b371-6db9ccf61e09"
      },
      "execution_count": null,
      "outputs": [
        {
          "output_type": "stream",
          "name": "stdout",
          "text": [
            "762\n"
          ]
        }
      ]
    },
    {
      "cell_type": "markdown",
      "source": [
        "Задание 1.19. Запишите арифметическое выражение на языке Python в виде строки, а затем выведите полученный результат на экран: 3tg|√(x + y2) - π| - arctg3(√x + y2)."
      ],
      "metadata": {
        "id": "glWWB-VYlVi5"
      }
    },
    {
      "cell_type": "code",
      "source": [
        "print(3*math.tan(math.sqrt(x+2*y)-math.pi)-math.atan(3*(math.sqrt(x)+2*y)))"
      ],
      "metadata": {
        "colab": {
          "base_uri": "https://localhost:8080/"
        },
        "id": "3ky5PwTsmB8O",
        "outputId": "e092b7b2-fe75-4954-9d20-5dfbecec68b3"
      },
      "execution_count": null,
      "outputs": [
        {
          "output_type": "stream",
          "name": "stdout",
          "text": [
            "-0.22827211800446845\n"
          ]
        }
      ]
    },
    {
      "cell_type": "markdown",
      "source": [
        "Задание 2.6. Измените строку 'кот', записав ее символы в обратном порядке. Выведите результат на экран."
      ],
      "metadata": {
        "id": "Edv3VF_bOde4"
      }
    },
    {
      "cell_type": "code",
      "source": [
        "s = 'кот'\n",
        "s = s[::-1]\n",
        "print(s)"
      ],
      "metadata": {
        "colab": {
          "base_uri": "https://localhost:8080/"
        },
        "id": "XfGefLmTTX90",
        "outputId": "7d2d2ffc-19f7-424e-b789-ecb1dba7338e"
      },
      "execution_count": null,
      "outputs": [
        {
          "output_type": "stream",
          "name": "stdout",
          "text": [
            "ток\n"
          ]
        }
      ]
    },
    {
      "cell_type": "markdown",
      "source": [
        "Задание 2.13. Дана строка '131231442145'. Подсчитайте в ней количество символов '1' и выведите результат на экран"
      ],
      "metadata": {
        "id": "Aj5XcLbTW7qZ"
      }
    },
    {
      "cell_type": "code",
      "source": [
        "s = '131231442145'\n",
        "count = 0\n",
        "for letter in s:\n",
        "  if letter == '1':\n",
        "    count += 1\n",
        "  print (count)\n"
      ],
      "metadata": {
        "colab": {
          "base_uri": "https://localhost:8080/"
        },
        "id": "PJdbGW4WW-u5",
        "outputId": "df4d2aac-9eeb-4e3a-a3d8-8349c1ea5b0a"
      },
      "execution_count": null,
      "outputs": [
        {
          "output_type": "stream",
          "name": "stdout",
          "text": [
            "1\n",
            "1\n",
            "2\n",
            "2\n",
            "2\n",
            "3\n",
            "3\n",
            "3\n",
            "3\n",
            "4\n",
            "4\n",
            "4\n"
          ]
        }
      ]
    },
    {
      "cell_type": "markdown",
      "source": [
        "Задание 2.16. Дана строка 'ABCDEF'. Поменяйте в ней первый и последний символы местами и выведите итоговую строку на экран."
      ],
      "metadata": {
        "id": "zMAkW7mmaBmI"
      }
    },
    {
      "cell_type": "code",
      "source": [
        "s = \"ABCDEF\"\n",
        "if len(s) > 1:\n",
        "    res = s[-1] + s[1:-1] + s[0]\n",
        "else:\n",
        "    res = s\n",
        "print(res)"
      ],
      "metadata": {
        "colab": {
          "base_uri": "https://localhost:8080/"
        },
        "id": "NGunKdz6aQSb",
        "outputId": "683e87c9-dd9d-418f-a22b-4590544ea40c"
      },
      "execution_count": null,
      "outputs": [
        {
          "output_type": "stream",
          "name": "stdout",
          "text": [
            "FBCDEA\n"
          ]
        }
      ]
    },
    {
      "cell_type": "markdown",
      "source": [
        "Задание 3.1. Используя операции индексирования и среза выведите на экран первый и третий элементы списка [1, 2, 3, 4, 5], а также срез списка из первых трех элементов. Реализуйте вывод двумя способами: используя только положительные и только отрицательные индексы."
      ],
      "metadata": {
        "id": "rrrxLdE_NZPg"
      }
    },
    {
      "cell_type": "code",
      "source": [
        "a = [1, 2, 3, 4, 5]\n",
        "print('a[0] ->', a[0])\n",
        "print('a[-5] ->', a[-5], end='\\n\\n')\n",
        "print('a[2] ->', a[2])\n",
        "print('a[-3] ->', a[-3], end='\\n\\n')\n",
        "print('a[:5] ->', a[:5])\n",
        "print('a[0:-2] ->', a[0:-2])"
      ],
      "metadata": {
        "colab": {
          "base_uri": "https://localhost:8080/"
        },
        "id": "-kWpCUZTNbvh",
        "outputId": "f2d6632b-673f-4587-8589-db2e0ac83c39"
      },
      "execution_count": null,
      "outputs": [
        {
          "output_type": "stream",
          "name": "stdout",
          "text": [
            "a[0] -> 1\n",
            "a[-5] -> 1\n",
            "\n",
            "a[2] -> 3\n",
            "a[-3] -> 3\n",
            "\n",
            "a[:5] -> [1, 2, 3, 4, 5]\n",
            "a[0:-2] -> [1, 2, 3]\n"
          ]
        }
      ]
    },
    {
      "cell_type": "markdown",
      "source": [
        "3.2. Дан список [[1, 2, ['Ok!', 3]], ['list', 4], 5]. Выведите на экран строку 'Ok!', использовав синтаксис доступа к элементу списка по его индексу."
      ],
      "metadata": {
        "id": "_8mq3KXaeTko"
      }
    },
    {
      "cell_type": "code",
      "source": [
        "s = [[1, 2, ['Ok!', 3]], ['list', 4], 5]\n",
        "print(s[0][2][0])"
      ],
      "metadata": {
        "colab": {
          "base_uri": "https://localhost:8080/"
        },
        "id": "WBdSXdyZeSjy",
        "outputId": "55c2eff6-2477-4c2a-9fa0-b77dae6bf3ed"
      },
      "execution_count": null,
      "outputs": [
        {
          "output_type": "stream",
          "name": "stdout",
          "text": [
            "Ok!\n"
          ]
        }
      ]
    },
    {
      "cell_type": "markdown",
      "source": [
        "3.4. Дан список ['Санкт', '+', 'Петербург']. Исправьте плюс на дефис и выведите название города на экран использовав доступ к элементам списка по индексам."
      ],
      "metadata": {
        "id": "fTaC9kZlhion"
      }
    },
    {
      "cell_type": "code",
      "source": [
        "s = ['Санкт', '+', 'Петербург']\n",
        "s[1] = '-'\n",
        "print(s[0], s[1], s[2], sep='', end='\\n\\n')"
      ],
      "metadata": {
        "colab": {
          "base_uri": "https://localhost:8080/"
        },
        "id": "woM-RfvNfQRr",
        "outputId": "5b952e41-d80a-4123-e3cc-0bec7dec664f"
      },
      "execution_count": null,
      "outputs": [
        {
          "output_type": "stream",
          "name": "stdout",
          "text": [
            "Санкт-Петербург\n",
            "\n"
          ]
        }
      ]
    },
    {
      "cell_type": "markdown",
      "source": [
        "4.1. Создайте кортеж, в качестве элементов которого используйте целое, вещественное и комплексное числа, кортеж с одним элементом в виде строки, пустой кортеж и пустой список. Выведите на экран строку вложенного кортежа."
      ],
      "metadata": {
        "id": "v8B2hv0BweSF"
      }
    },
    {
      "cell_type": "code",
      "source": [
        "tpl = (1, 0.2, 0.3+4j, ('5',), (), [])\n",
        "print(tpl[3][0])"
      ],
      "metadata": {
        "colab": {
          "base_uri": "https://localhost:8080/"
        },
        "id": "lvb413iEwevj",
        "outputId": "1391576f-8938-4f18-9da2-d7b2a6f1d5f6"
      },
      "execution_count": null,
      "outputs": [
        {
          "output_type": "stream",
          "name": "stdout",
          "text": [
            "5\n"
          ]
        }
      ]
    },
    {
      "cell_type": "markdown",
      "source": [
        "Задание 4.2. Создайте кортеж-матрешку, в который поместите два элемента: целое число и вложенный кортеж,"
      ],
      "metadata": {
        "id": "tES87-HTvX9b"
      }
    },
    {
      "cell_type": "markdown",
      "source": [],
      "metadata": {
        "id": "9cikpkpT2I4E"
      }
    },
    {
      "cell_type": "code",
      "source": [
        "tpl = (1, (0.2, (0.3+4j, ('5р.', ()))))\n",
        "print(tpl[1][1][1][0])"
      ],
      "metadata": {
        "colab": {
          "base_uri": "https://localhost:8080/"
        },
        "id": "GZUrn6EMvYXl",
        "outputId": "f6812fcc-11c5-4dec-a094-76c509da3528"
      },
      "execution_count": null,
      "outputs": [
        {
          "output_type": "stream",
          "name": "stdout",
          "text": [
            "5р.\n"
          ]
        }
      ]
    },
    {
      "cell_type": "markdown",
      "source": [
        "4.4. Дан кортеж ((1, 2, ('Ok!', 3)), ('tuple', 4), 5). Выведите на экран строку 'Ok!', использовав синтаксис доступа к элементу кортежа по его индексу. Обратите внимание на схожесть решения и результатов с задачей 3.2."
      ],
      "metadata": {
        "id": "-7sriFx_uhYC"
      }
    },
    {
      "cell_type": "code",
      "source": [
        "s = ((1, 2, ('Ok!', 3)), ('tuple', 4), 5)\n",
        "print(s[0][2][0])"
      ],
      "metadata": {
        "id": "Y17ioYL5uik2",
        "colab": {
          "base_uri": "https://localhost:8080/"
        },
        "outputId": "99231f4d-fd05-451c-f98c-8b2ca76840c8"
      },
      "execution_count": null,
      "outputs": [
        {
          "output_type": "stream",
          "name": "stdout",
          "text": [
            "Ok!\n"
          ]
        }
      ]
    },
    {
      "cell_type": "markdown",
      "source": [
        "Задание 5.3. Дан словарь d = {'1': 1.29, '2': 0.43}. Используя доступ к элементам словаря по ключу, найдите произведение 1.29*0.43, после чего добавьте результат в словарь, а затем выведите значение нового элемента на экран."
      ],
      "metadata": {
        "id": "GpgbkSzY19fu"
      }
    },
    {
      "cell_type": "code",
      "source": [
        "d = {'1': 1.29, '2': 0.43}\n",
        "d['3'] = d['1']*d['2']\n",
        "print(\"1.29*0.43 =\", d['3'])"
      ],
      "metadata": {
        "colab": {
          "base_uri": "https://localhost:8080/"
        },
        "id": "PtUDp4F82XQn",
        "outputId": "edbf8cfb-7637-4607-9b9e-354f288d744f"
      },
      "execution_count": null,
      "outputs": [
        {
          "output_type": "stream",
          "name": "stdout",
          "text": [
            "1.29*0.43 = 0.5547\n"
          ]
        }
      ]
    },
    {
      "cell_type": "markdown",
      "source": [
        "Задание 5.5. Сколько элементов будет содержать словарь d_1 = {'1': 1, '2': 2} после добавления к нему элементов словаря d_2 = {'2': 'two', '3': 3}? Каковы будут значения элементов итогового словаря? Проверьте свой ответ программно."
      ],
      "metadata": {
        "id": "9LtQ6AG01NYB"
      }
    },
    {
      "cell_type": "code",
      "source": [
        "d_1 = {'1': 1, '2': 2}\n",
        "d_2 = {'2': 'two', '3': 3}\n",
        "d_1.update(d_2)\n",
        "print(\"d_1.update(d_2) ->\", d_1, end='\\n\\n')\n",
        "print(\"len(d_1) ->\", len(d_1))"
      ],
      "metadata": {
        "id": "wZAv6SBY1Om7",
        "colab": {
          "base_uri": "https://localhost:8080/"
        },
        "outputId": "2bb09801-3c18-44ff-8d69-f4df8abfa5cf"
      },
      "execution_count": null,
      "outputs": [
        {
          "output_type": "stream",
          "name": "stdout",
          "text": [
            "d_1.update(d_2) -> {'1': 1, '2': 'two', '3': 3}\n",
            "\n",
            "len(d_1) -> 3\n"
          ]
        }
      ]
    },
    {
      "cell_type": "markdown",
      "source": [
        "Задание 5.4. Найдите представления ключей, значений и элементов словаря d = {1: 1, '2': 2, '3': 3, 4: 4}. Выведите их на экран в виде списков."
      ],
      "metadata": {
        "id": "8BD1K8VG2sa6"
      }
    },
    {
      "cell_type": "code",
      "source": [
        "d = {1: 1, '2': 2, '3': 3, 4: 4}\n",
        "k = d.keys()\n",
        "v = d.values()\n",
        "i = d.items()\n",
        "print('ключи:', list(k))\n",
        "print('значения:', list(v))\n",
        "print('элементы:', list(i))"
      ],
      "metadata": {
        "colab": {
          "base_uri": "https://localhost:8080/"
        },
        "id": "y0dPvD7x2vCn",
        "outputId": "f22bb2f5-2748-483d-9c83-56b0cc349308"
      },
      "execution_count": null,
      "outputs": [
        {
          "output_type": "stream",
          "name": "stdout",
          "text": [
            "Ключи: [1, '2', '3', 4]\n",
            "Значения: [1, 2, 3, 4]\n",
            "Эл-ты: [(1, 1), ('2', 2), ('3', 3), (4, 4)]\n"
          ]
        }
      ]
    },
    {
      "cell_type": "markdown",
      "source": [
        " Задание 6.1. Создайте множество, в качестве элементов которого используйте целое, вещественное и комплексное числа, а также строки в формате кортежа, списка и словаря, содержащих по одному элементу. Выведите полученное множество на экран."
      ],
      "metadata": {
        "id": "4W62f2Td3G2A"
      }
    },
    {
      "cell_type": "code",
      "source": [
        "st = {1, 0.2, 0.3+4j, '(5,)', '[6]', '{7: 8}'}\n",
        "print(st)"
      ],
      "metadata": {
        "colab": {
          "base_uri": "https://localhost:8080/"
        },
        "id": "CFPZUDj63jpv",
        "outputId": "356d9500-f4e6-4b88-c70d-6dd58c38ce29"
      },
      "execution_count": null,
      "outputs": [
        {
          "output_type": "stream",
          "name": "stdout",
          "text": [
            "{0.2, 1, '[6]', '(5,)', '{7: 8}', (0.3+4j)}\n"
          ]
        }
      ]
    },
    {
      "cell_type": "markdown",
      "source": [
        "Задание 6.2. Дано множество {'a', 'b', 'c'}. Удалите из него строку 'c', а затем добавьте элемент 'd'. Выведите итоговое множество на экран."
      ],
      "metadata": {
        "id": "BODXjBjy337s"
      }
    },
    {
      "cell_type": "code",
      "source": [
        "s = {'a', 'b', 'c'}\n",
        "s.remove('c')\n",
        "s.add('d')\n",
        "print(s)"
      ],
      "metadata": {
        "colab": {
          "base_uri": "https://localhost:8080/"
        },
        "id": "dTHQc2HY4Pz4",
        "outputId": "65fcc94f-176d-4a36-f4a6-ecfe6bfcf76b"
      },
      "execution_count": null,
      "outputs": [
        {
          "output_type": "stream",
          "name": "stdout",
          "text": [
            "{'d', 'a', 'b'}\n"
          ]
        }
      ]
    },
    {
      "cell_type": "markdown",
      "source": [
        "Задание 6.3. Даны множества {'a', 'b'} и {'b', 'c'}. Множества простые, поэтому сперва назовите результат их объединения, пересечения, разности и симметричной разницы устно, а затем проверьте себя, выведя результаты на экран."
      ],
      "metadata": {
        "id": "xQP2ImP55sOd"
      }
    },
    {
      "cell_type": "code",
      "source": [
        "s_1 = {'a', 'b'}\n",
        "s_2 = {'b', 'c'}\n",
        "print('s_1 | s_2 ->', s_1 | s_2)\n",
        "print('s_1 & s_2 ->', s_1 & s_2)\n",
        "print('s_1 - s_2 ->', s_1 - s_2)\n",
        "print('s_1 ^ s_2 ->', s_1 ^ s_2)"
      ],
      "metadata": {
        "colab": {
          "base_uri": "https://localhost:8080/"
        },
        "id": "x8laP84V5xzI",
        "outputId": "b89629fe-55a6-4b4f-c330-b1ae36a7d2d4"
      },
      "execution_count": null,
      "outputs": [
        {
          "output_type": "stream",
          "name": "stdout",
          "text": [
            "s_1 | s_2 -> {'c', 'a', 'b'}\n",
            "s_1 & s_2 -> {'b'}\n",
            "s_1 - s_2 -> {'a'}\n",
            "s_1 ^ s_2 -> {'c', 'a'}\n"
          ]
        }
      ]
    },
    {
      "cell_type": "markdown",
      "source": [
        "Задание 7.1. Перевести граммы в килограммы и вывести результат на экран. Значение граммов ввести с клавиатуры."
      ],
      "metadata": {
        "id": "Flhsa_oZ64cl"
      }
    },
    {
      "cell_type": "code",
      "source": [
        "g = float(input('введите вес в граммах: '))\n",
        "kg = g*1e-3\n",
        "print('получаем: {} кг.'.format(kg))"
      ],
      "metadata": {
        "colab": {
          "base_uri": "https://localhost:8080/"
        },
        "id": "nNx6vvQV7MBE",
        "outputId": "83ed9150-d470-4b21-d377-fb93362ba177"
      },
      "execution_count": null,
      "outputs": [
        {
          "output_type": "stream",
          "name": "stdout",
          "text": [
            "Введите вес в граммах: 99\n",
            "Получаем: 0.099 кг.\n"
          ]
        }
      ]
    },
    {
      "cell_type": "markdown",
      "source": [
        "Задание 7.3. С клавиатуры вводится расстояние L в метрах. Необходимо найти и вывести на экран количество полных километров в нем."
      ],
      "metadata": {
        "id": "3P0VgAoW72fr"
      }
    },
    {
      "cell_type": "code",
      "source": [
        "L = float(input('введите расстояние в метрах:'))\n",
        "print('Полных км.:', km)"
      ],
      "metadata": {
        "id": "uGBGkh1h78uG",
        "colab": {
          "base_uri": "https://localhost:8080/"
        },
        "outputId": "0b204f86-519e-4e32-815f-22737c0451ec"
      },
      "execution_count": null,
      "outputs": [
        {
          "output_type": "stream",
          "name": "stdout",
          "text": [
            "Введите расстояние в метрах: 4999\n",
            "Полных км.: 4.0\n"
          ]
        }
      ]
    },
    {
      "cell_type": "markdown",
      "source": [
        "Задание 7.9. С клавиатуры вводится целое число. Необходимо вывести число, обратное введенному по порядку составляющих его цифр. Например, если было введено число 12345, программа должна вывести пользователю на экран число 54321."
      ],
      "metadata": {
        "id": "ySEcBffe97ec"
      }
    },
    {
      "cell_type": "code",
      "source": [
        "n1 = input(\"введите целое число: \")\n",
        "n2 = n1[::-1]\n",
        "print('обратное ему число:', n2)"
      ],
      "metadata": {
        "colab": {
          "base_uri": "https://localhost:8080/"
        },
        "id": "65w7YLYq-Ajy",
        "outputId": "26bdbbd9-3576-4439-d800-89bef216d527"
      },
      "execution_count": null,
      "outputs": [
        {
          "output_type": "stream",
          "name": "stdout",
          "text": [
            "Введите целое число: 12345\n",
            "Обратное ему число: 54321\n"
          ]
        }
      ]
    },
    {
      "cell_type": "markdown",
      "source": [
        "Задание 8.1. Записать и вывести на экран условие, которое является истинным, когда положительное целое n кратно двум или трем."
      ],
      "metadata": {
        "id": "o0YYcPca0G7P"
      }
    },
    {
      "cell_type": "code",
      "source": [
        "s = 'n%2 == 0 or n%3 == 0'\n",
        "print(s)\n",
        "n = 5\n",
        "if n%2 == 0 or n%3 == 0:\n",
        "    print(True)\n",
        "else:\n",
        "    print(False)"
      ],
      "metadata": {
        "colab": {
          "base_uri": "https://localhost:8080/"
        },
        "id": "d48mf8Ru0JOd",
        "outputId": "4a3c76d9-9eef-4093-9b6f-6a57ba13a465"
      },
      "execution_count": null,
      "outputs": [
        {
          "output_type": "stream",
          "name": "stdout",
          "text": [
            "n%2 == 0 or n%3 == 0\n",
            "False\n"
          ]
        }
      ]
    },
    {
      "cell_type": "markdown",
      "source": [
        "Задание 8.2. Записать и вывести на экран условие, которое является истинным, когда целое n не кратно трем и оканчивается нулем."
      ],
      "metadata": {
        "id": "HQxnEM0-2Eqd"
      }
    },
    {
      "cell_type": "code",
      "source": [
        "s = 'n%3 != 0 and n%10 == 0'\n",
        "print(s)\n",
        "n = 50\n",
        "if n%3 != 0 and n%10 == 0:\n",
        "    print(True)\n",
        "else:\n",
        "    print(False)"
      ],
      "metadata": {
        "colab": {
          "base_uri": "https://localhost:8080/"
        },
        "id": "P6pKoU4g2IT-",
        "outputId": "fdcecb9e-26e8-4670-f378-ff26256a13f4"
      },
      "execution_count": null,
      "outputs": [
        {
          "output_type": "stream",
          "name": "stdout",
          "text": [
            "n%3 != 0 and n%10 == 0\n",
            "True\n"
          ]
        }
      ]
    },
    {
      "cell_type": "markdown",
      "source": [
        "Задание 8.3. Записать и вывести на экран условие, которое является истинным, когда список li имеет хотя бы один элемент."
      ],
      "metadata": {
        "id": "5KoZLDUn55jp"
      }
    },
    {
      "cell_type": "code",
      "source": [
        "res = \"li\"\n",
        "print(res)\n",
        "li = [0]\n",
        "if li:\n",
        "    print(True)\n",
        "else:\n",
        "    print(False)"
      ],
      "metadata": {
        "colab": {
          "base_uri": "https://localhost:8080/"
        },
        "id": "OGYd_dhI6AYi",
        "outputId": "94f6d2e8-a415-4803-95b3-4d9e8a927149"
      },
      "execution_count": null,
      "outputs": [
        {
          "output_type": "stream",
          "name": "stdout",
          "text": [
            "li\n",
            "True\n"
          ]
        }
      ]
    },
    {
      "cell_type": "markdown",
      "source": [],
      "metadata": {
        "id": "19de69y68vyy"
      }
    },
    {
      "cell_type": "markdown",
      "source": [
        "Задание 9.1. Определите, не является ли введенная пользователем с клавиатуры строка пустой. Результат проверки в виде True или False выведите на экран."
      ],
      "metadata": {
        "id": "31YQ86b8S4Bn"
      }
    },
    {
      "cell_type": "code",
      "source": [
        "s = input('введите строку:')\n",
        "if len(s) > 0:\n",
        "    print(True)\n",
        "else:\n",
        "    print(False)\n"
      ],
      "metadata": {
        "colab": {
          "base_uri": "https://localhost:8080/"
        },
        "id": "9P3OviarS7jX",
        "outputId": "6ea70ec2-86c0-471f-fdac-823c48a3e3e7"
      },
      "execution_count": null,
      "outputs": [
        {
          "output_type": "stream",
          "name": "stdout",
          "text": [
            "введите строку:wasd\n",
            "True\n"
          ]
        }
      ]
    },
    {
      "cell_type": "markdown",
      "source": [
        "Задание 9.2. Написать программу, которая будет делить введенные пользователем два вещественных числа и выводить результат на экран, сообщая об ошибке в случае деления на ноль."
      ],
      "metadata": {
        "id": "wBa_V_dgU4tD"
      }
    },
    {
      "cell_type": "code",
      "source": [
        "x = float(input('введите первое число: '))\n",
        "y = float(input('Введите второе число: '))\n",
        "if y != 0:\n",
        "    print('x/y =', x/y)\n",
        "else:\n",
        "    print('на ноль делить нельзя!')"
      ],
      "metadata": {
        "colab": {
          "base_uri": "https://localhost:8080/"
        },
        "id": "cwySvc7SU3wk",
        "outputId": "af697511-9fb7-4ead-cdf7-94d0fa41b93d"
      },
      "execution_count": null,
      "outputs": [
        {
          "output_type": "stream",
          "name": "stdout",
          "text": [
            "введите первое число: 100\n",
            "Введите второе число: 0\n",
            "на ноль делить нельзя!\n"
          ]
        }
      ]
    },
    {
      "cell_type": "markdown",
      "source": [
        "Задание 9.3. Определить, является ли введенное с клавиатуры натуральное число кратным трем. Вывести результат на экран."
      ],
      "metadata": {
        "id": "Dhro9BuSVuUu"
      }
    },
    {
      "cell_type": "code",
      "source": [
        "n = int(input('введите натуральное число для проверки: '))\n",
        "if n%3 == 0:\n",
        "    print('число', n, 'кратно трем.')\n",
        "else:\n",
        "    print('число', n, 'на 3 не делится.')"
      ],
      "metadata": {
        "colab": {
          "base_uri": "https://localhost:8080/"
        },
        "id": "_YYt3G5VWAWc",
        "outputId": "052e1760-e408-4f34-f687-f716eb79242a"
      },
      "execution_count": null,
      "outputs": [
        {
          "output_type": "stream",
          "name": "stdout",
          "text": [
            "введите натуральное число для проверки: 4\n",
            "число 4 на 3 не делится.\n"
          ]
        }
      ]
    },
    {
      "cell_type": "markdown",
      "source": [
        "Задание 10.1. Посчитайте количество символов в строке 'Python - это Питон!', использовав счетчики на основе циклов for и while."
      ],
      "metadata": {
        "id": "OrFh4zpBaw1Z"
      }
    },
    {
      "cell_type": "code",
      "source": [
        "str_1 = 'Python - это Питон!'\n",
        "k = 0\n",
        "for simb in str_1:\n",
        "    k += 1\n",
        "print('В строке', k, 'символов.')\n",
        "n = 0\n",
        "while str_1:\n",
        "    str_1 = str_1[1:]\n",
        "    n += 1\n",
        "print('В строке', n, 'символов.')"
      ],
      "metadata": {
        "colab": {
          "base_uri": "https://localhost:8080/"
        },
        "id": "QU_gWbDJMPXD",
        "outputId": "f6f65d47-59c7-4bcd-9499-9c2882061836"
      },
      "execution_count": null,
      "outputs": [
        {
          "output_type": "stream",
          "name": "stdout",
          "text": [
            "В строке 19 символов.\n",
            "В строке 19 символов.\n"
          ]
        }
      ]
    },
    {
      "cell_type": "markdown",
      "source": [
        "Задание 10.5. Используя циклы, проверьте при помощи оператора in наличие символов строки 'abcde123' в строке 'bad_cat_23', выводя результаты проверки на экран в виде «Символ \"a\" есть в \"bad_cat_23\".» или «Символа \"n\" нет в \"bad_cat_23\".»."
      ],
      "metadata": {
        "id": "C1eBIoHIdOEm"
      }
    },
    {
      "cell_type": "code",
      "source": [
        "str_1 = 'abcde123'\n",
        "str_2 = 'bad_cat_23'\n",
        "for simb in str_1:\n",
        "    if simb in str_2:\n",
        "        print('Символ ', simb, ' есть в \"', str_2, '\".', sep='')\n",
        "    else:\n",
        "        print('Символа ', simb, ' нет в \"', str_2, '\".', sep='')\n",
        "print()"
      ],
      "metadata": {
        "colab": {
          "base_uri": "https://localhost:8080/"
        },
        "id": "-jRmOwcHdgzJ",
        "outputId": "f3584655-ca27-4097-b20a-685a03a76b5a"
      },
      "execution_count": null,
      "outputs": [
        {
          "output_type": "stream",
          "name": "stdout",
          "text": [
            "Символ a есть в \"bad_cat_23\".\n",
            "Символ b есть в \"bad_cat_23\".\n",
            "Символ c есть в \"bad_cat_23\".\n",
            "Символ d есть в \"bad_cat_23\".\n",
            "Символа e нет в \"bad_cat_23\".\n",
            "Символа 1 нет в \"bad_cat_23\".\n",
            "Символ 2 есть в \"bad_cat_23\".\n",
            "Символ 3 есть в \"bad_cat_23\".\n",
            "\n"
          ]
        }
      ]
    },
    {
      "cell_type": "markdown",
      "source": [
        "Задание 10.4. Дано множество целых чисел {12, 33, 24, 7, 19}. Выведите на экран только четные числа."
      ],
      "metadata": {
        "id": "I65-TWeQeDzR"
      }
    },
    {
      "cell_type": "code",
      "source": [
        "s = {12, 33, 24, 7, 19}\n",
        "s_1 = s.copy()\n",
        "while s_1:\n",
        "    elem = s_1.pop()\n",
        "    if elem%2 != 1:\n",
        "        print(elem, end='  ')\n",
        "    else:\n",
        "        continue"
      ],
      "metadata": {
        "colab": {
          "base_uri": "https://localhost:8080/"
        },
        "id": "Gjb-OXlEeCgP",
        "outputId": "ce0f7dcc-c171-4c4a-a570-007adaa43123"
      },
      "execution_count": null,
      "outputs": [
        {
          "output_type": "stream",
          "name": "stdout",
          "text": [
            "24  12  "
          ]
        }
      ]
    },
    {
      "cell_type": "markdown",
      "source": [
        "Задание 11.1. Имеется список вещественных чисел [1.3, 2.5, 3.1]. Создайте множество квадратов этих чисел, использовав для этого генератор множеств. Выведите полученное множество на экран."
      ],
      "metadata": {
        "id": "82SaQw4k_HLe"
      }
    },
    {
      "cell_type": "code",
      "source": [
        "st = {x**2 for x in [1.3, 2.5, 3.1]}\n",
        "print ('квадраты чисел:', st)"
      ],
      "metadata": {
        "colab": {
          "base_uri": "https://localhost:8080/"
        },
        "id": "dK7JFd5b_KcC",
        "outputId": "9cd42ba0-9f53-4dd6-d8e8-f22e170c7b81"
      },
      "execution_count": null,
      "outputs": [
        {
          "output_type": "stream",
          "name": "stdout",
          "text": [
            "квадраты чисел: {1.6900000000000002, 9.610000000000001, 6.25}\n"
          ]
        }
      ]
    },
    {
      "cell_type": "markdown",
      "source": [
        "Задание 11.2. Создайте список нечетных чисел, принадлежащих отрезку [10; 20], использовав для этого генератор списков. Выведите полученный список на экран."
      ],
      "metadata": {
        "id": "FTU3Qg6oACI-"
      }
    },
    {
      "cell_type": "code",
      "source": [
        "li = [x for x in range(10,21) if x%2!=0]\n",
        "print(li)"
      ],
      "metadata": {
        "colab": {
          "base_uri": "https://localhost:8080/"
        },
        "id": "G_MC_9GtAHy5",
        "outputId": "468f50f9-46e1-4319-a018-ebed24207182"
      },
      "execution_count": null,
      "outputs": [
        {
          "output_type": "stream",
          "name": "stdout",
          "text": [
            "[11, 13, 15, 17, 19]\n"
          ]
        }
      ]
    },
    {
      "cell_type": "markdown",
      "source": [
        "Задание 11.3. Преобразуйте кортеж чисел (3.27, 5.755, 7.321) в словарь, в качестве ключей которого будут использованы числа кортежа, а значениями будут их округленные до десятых значения. Используйте для решения задачи генератор словарей. Выведите полученный словарь на экран."
      ],
      "metadata": {
        "id": "E_BjCZRqAtME"
      }
    },
    {
      "cell_type": "code",
      "source": [
        "d = {x:round(x,1) for x in (3.27, 5.755, 7.321)}\n",
        "print(d)"
      ],
      "metadata": {
        "colab": {
          "base_uri": "https://localhost:8080/"
        },
        "id": "MZUHmg82CRlq",
        "outputId": "710ac867-abeb-4056-d4b6-ea7b246b1d3c"
      },
      "execution_count": null,
      "outputs": [
        {
          "output_type": "stream",
          "name": "stdout",
          "text": [
            "{3.27: 3.3, 5.755: 5.8, 7.321: 7.3}\n"
          ]
        }
      ]
    },
    {
      "cell_type": "markdown",
      "source": [
        "Задание 12.1. Создайте простейшую в мире функцию simple_pass, а затем выведите на экран ее тип"
      ],
      "metadata": {
        "id": "GMbIql4kDWm8"
      }
    },
    {
      "cell_type": "code",
      "source": [
        "def simple_pass(): pass\n",
        "print(type(simple_pass))"
      ],
      "metadata": {
        "colab": {
          "base_uri": "https://localhost:8080/"
        },
        "id": "57e0mMS3DguN",
        "outputId": "d840ffcc-4eaa-49af-8cbc-9e673e8e9265"
      },
      "execution_count": null,
      "outputs": [
        {
          "output_type": "stream",
          "name": "stdout",
          "text": [
            "<class 'function'>\n"
          ]
        }
      ]
    },
    {
      "cell_type": "markdown",
      "source": [
        "Задание 12.2. Напишите функцию hello_friend, принимающую в качестве аргументов имя и фамилию пользователя и возвращающую строку в формате «Привет, {name} {surname}!». Вызовите функцию и выведите результат вызова на экран."
      ],
      "metadata": {
        "id": "k43ZTjO-DxL8"
      }
    },
    {
      "cell_type": "code",
      "source": [
        "def hello_friend(name, surname):\n",
        "    s = 'Привет, {} {}!'.format(name, surname)\n",
        "    return s\n",
        "print(hello_friend('Максим', 'Дельва'))"
      ],
      "metadata": {
        "colab": {
          "base_uri": "https://localhost:8080/"
        },
        "id": "qFRHOw0VD52N",
        "outputId": "1d749631-e8d6-43bb-bda2-7e66a70f40fd"
      },
      "execution_count": null,
      "outputs": [
        {
          "output_type": "stream",
          "name": "stdout",
          "text": [
            "Привет, Максим Дельва!\n"
          ]
        }
      ]
    },
    {
      "cell_type": "markdown",
      "source": [
        "Задание 12.4. Создайте пользовательскую функцию print_args, принимающую произвольное количество аргументов и выводящую их затем на экран. Вызовите функцию, одновременно передав ей в качестве значений целое число, вещественное число, строку и пустой список."
      ],
      "metadata": {
        "id": "dQU3Ure-FgbX"
      }
    },
    {
      "cell_type": "code",
      "source": [
        "def print_args(*args):\n",
        "    for elem in args:\n",
        "        print(elem)\n",
        "print_args(5, 0.73, 'str', [])"
      ],
      "metadata": {
        "colab": {
          "base_uri": "https://localhost:8080/"
        },
        "id": "sQ1aQ2WaFuVC",
        "outputId": "4f131f8b-e87b-4c09-9744-16862d55439a"
      },
      "execution_count": null,
      "outputs": [
        {
          "output_type": "stream",
          "name": "stdout",
          "text": [
            "5\n",
            "0.73\n",
            "str\n",
            "[]\n"
          ]
        }
      ]
    }
  ]
}