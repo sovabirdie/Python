{
  "nbformat": 4,
  "nbformat_minor": 0,
  "metadata": {
    "colab": {
      "provenance": [],
      "toc_visible": true,
      "include_colab_link": true
    },
    "kernelspec": {
      "name": "python3",
      "display_name": "Python 3"
    },
    "language_info": {
      "name": "python"
    }
  },
  "cells": [
    {
      "cell_type": "markdown",
      "metadata": {
        "id": "view-in-github",
        "colab_type": "text"
      },
      "source": [
        "<a href=\"https://colab.research.google.com/github/sovabirdie/Python/blob/main/%D0%9F%D1%80%D0%BE%D0%B3%D1%80%D0%B0%D0%BC%D0%BC%D0%B8%D1%80%D0%B2%D0%BE%D0%B0%D0%BD%D0%B8%D0%B5_%D0%BD%D0%B0_Python_%D0%A0%D0%B5%D1%88%D0%B5%D0%BD%D0%B8%D0%B5_%D0%97%D0%B0%D0%B4%D0%B0%D1%87%D0%BD%D0%B8%D0%BA%D0%B0_.ipynb\" target=\"_parent\"><img src=\"https://colab.research.google.com/assets/colab-badge.svg\" alt=\"Open In Colab\"/></a>"
      ]
    },
    {
      "cell_type": "markdown",
      "source": [
        "#Хачатуров Самвел Артёмович, Группа ОДБИ-101Б"
      ],
      "metadata": {
        "id": "qcqaOhZgYlja"
      }
    },
    {
      "cell_type": "markdown",
      "source": [],
      "metadata": {
        "id": "ofpSWZXkq4c9"
      }
    },
    {
      "cell_type": "code",
      "source": [
        "import math"
      ],
      "metadata": {
        "id": "f9jeXeC9m85X"
      },
      "execution_count": null,
      "outputs": []
    },
    {
      "cell_type": "markdown",
      "source": [
        "# ***Задачи на числа и математические выражения***"
      ],
      "metadata": {
        "id": "uP4rfkJeoW5S"
      }
    },
    {
      "cell_type": "markdown",
      "source": [
        "Задание 1.13 Вычислите значение арифметического выражения при заданных значениях переменных и выведите полученный результат на экран: x(3.3 + 2y) - |64:(x + y)| при x=-4.1, y=2."
      ],
      "metadata": {
        "id": "-TnRU1svaAj5"
      }
    },
    {
      "cell_type": "code",
      "source": [
        "\n",
        "x = -4.1\n",
        "y = 2\n",
        "\n",
        "part1 = x * (3.3 + 2 * y)\n",
        "part2 = abs(64 / (x + y))\n",
        "result = part1 - part2\n",
        "\n",
        "print(result)"
      ],
      "metadata": {
        "colab": {
          "base_uri": "https://localhost:8080/"
        },
        "id": "GD30UeeDJ8GV",
        "outputId": "718cbb67-c45e-4099-fee2-12eb2125da34"
      },
      "execution_count": null,
      "outputs": [
        {
          "output_type": "stream",
          "name": "stdout",
          "text": [
            "-60.406190476190474\n"
          ]
        }
      ]
    },
    {
      "cell_type": "markdown",
      "source": [
        "Задание 1.9 Найдите значение выражения в десятичной системе счисления: (1EA16 + 010111012 - 2378 - 68110)*21023. Выведите результат на экран."
      ],
      "metadata": {
        "id": "87iMTXr2ZtpE"
      }
    },
    {
      "cell_type": "code",
      "source": [
        "import math\n",
        "hex_num = int('1EA', 16)\n",
        "bin_num = int('01011101', 2)\n",
        "oct_num = int('237', 8)\n",
        "dec_num = 681\n",
        "base23_num = int('210', 23)\n",
        "\n",
        "\n",
        "brackets = (hex_num + bin_num - oct_num - dec_num)\n",
        "\n",
        "result = brackets * base23_num\n",
        "\n",
        "print(result)"
      ],
      "metadata": {
        "colab": {
          "base_uri": "https://localhost:8080/"
        },
        "id": "PZVJ4ZsUIq52",
        "outputId": "38445b9e-a961-4bb7-be83-46c3a4272b1b"
      },
      "execution_count": null,
      "outputs": [
        {
          "output_type": "stream",
          "name": "stdout",
          "text": [
            "-277817\n"
          ]
        }
      ]
    },
    {
      "cell_type": "markdown",
      "source": [
        "Задание 1.10 Извлеките квадратный корень из 196 тремя способами"
      ],
      "metadata": {
        "id": "DuEGMvboaLF0"
      }
    },
    {
      "cell_type": "code",
      "source": [
        "\n",
        "result1 = 196 ** 0.5\n",
        "print(result1)  # 14.0"
      ],
      "metadata": {
        "colab": {
          "base_uri": "https://localhost:8080/"
        },
        "id": "Po7nyVqwKjKD",
        "outputId": "7ede6c9b-038a-44ba-c903-348bcad12c77"
      },
      "execution_count": null,
      "outputs": [
        {
          "output_type": "stream",
          "name": "stdout",
          "text": [
            "14.0\n"
          ]
        }
      ]
    },
    {
      "cell_type": "code",
      "source": [
        "result3 = pow(196, 0.5)\n",
        "print(result3)\n",
        "\n",
        "\n",
        "import math\n",
        "result4 = math.pow(196, 0.5)\n",
        "print(result4)"
      ],
      "metadata": {
        "colab": {
          "base_uri": "https://localhost:8080/"
        },
        "id": "zQp9yF1cLZWg",
        "outputId": "f100773f-3fbd-4098-a293-b215aa943d3c"
      },
      "execution_count": null,
      "outputs": [
        {
          "output_type": "stream",
          "name": "stdout",
          "text": [
            "14.0\n",
            "14.0\n"
          ]
        }
      ]
    },
    {
      "cell_type": "code",
      "source": [
        "\n",
        "result2 = math.sqrt(196)\n",
        "print(result2)  # 14.0"
      ],
      "metadata": {
        "colab": {
          "base_uri": "https://localhost:8080/"
        },
        "id": "WeDU0D6oKqxb",
        "outputId": "92201030-db91-4ac3-ecf1-d6b2283fc585"
      },
      "execution_count": null,
      "outputs": [
        {
          "output_type": "stream",
          "name": "stdout",
          "text": [
            "14.0\n"
          ]
        }
      ]
    },
    {
      "cell_type": "markdown",
      "source": [
        "\n",
        "# ***Задачи на строки***\n",
        "\n",
        "\n",
        "\n",
        "\n",
        "\n"
      ],
      "metadata": {
        "id": "b9NKPqOeoknX"
      }
    },
    {
      "cell_type": "markdown",
      "source": [
        "Задание 2.5 Дана строка 'AaBbCcDd'. Используя срезы с шагом получите две строки: только с заглавными и только со строчными буквами. Выведите их на экран"
      ],
      "metadata": {
        "id": "jdlrPIO_ahRC"
      }
    },
    {
      "cell_type": "code",
      "source": [
        "\n",
        "s = 'AaBbCcDd'\n",
        "\n",
        "\n",
        "uppercase = s[::2]\n",
        "\n",
        "\n",
        "lowercase = s[1::2]\n",
        "\n",
        "print(\"Заглавные буквы:\", uppercase)\n",
        "print(\"Строчные буквы:\", lowercase)"
      ],
      "metadata": {
        "colab": {
          "base_uri": "https://localhost:8080/"
        },
        "id": "2-zzC1YGL4Ug",
        "outputId": "32f3b096-84f6-44a0-b478-aee233d079e0"
      },
      "execution_count": null,
      "outputs": [
        {
          "output_type": "stream",
          "name": "stdout",
          "text": [
            "Заглавные буквы: ABCD\n",
            "Строчные буквы: abcd\n"
          ]
        }
      ]
    },
    {
      "cell_type": "markdown",
      "source": [
        "Задание 2.7 Дана строка '0123456789'. Удалите из нее первый, пятый и последний символы. Выведите результат на экран"
      ],
      "metadata": {
        "id": "RKuSGsp2aq6c"
      }
    },
    {
      "cell_type": "code",
      "source": [
        "\n",
        "s = '0123456789'\n",
        "result = s[1:4] + s[5:-1]\n",
        "print(result)"
      ],
      "metadata": {
        "colab": {
          "base_uri": "https://localhost:8080/"
        },
        "id": "izWwBcBgODyz",
        "outputId": "a14a2c1b-7286-44d6-bd59-8126925aa069"
      },
      "execution_count": null,
      "outputs": [
        {
          "output_type": "stream",
          "name": "stdout",
          "text": [
            "1235678\n"
          ]
        }
      ]
    },
    {
      "cell_type": "markdown",
      "source": [
        "\n",
        "\n",
        "Задание 2.23 Подсчитайте общее количество алфавитных символов Юникода в строке 'a1, b2, c3, e4, d5, f6.' и выведите результат на экран."
      ],
      "metadata": {
        "id": "98mWctGba73C"
      }
    },
    {
      "cell_type": "code",
      "source": [
        "number = 377.37177785772707\n",
        "\n",
        "\n",
        "str_num = str(number)\n",
        "integer_part, fractional_part = str_num.split('.')\n",
        "\n",
        "\n",
        "count_7 = fractional_part.count('7')\n",
        "\n",
        "print(f\"Количество цифр '7' в дробной части: {count_7}\")"
      ],
      "metadata": {
        "colab": {
          "base_uri": "https://localhost:8080/"
        },
        "id": "_ogwsW6oPF-N",
        "outputId": "156b2eb9-c3dc-4c5e-83b4-a93b204c3c6f"
      },
      "execution_count": null,
      "outputs": [
        {
          "output_type": "stream",
          "name": "stdout",
          "text": [
            "Количество цифр '7' в дробной части: 8\n"
          ]
        }
      ]
    },
    {
      "cell_type": "markdown",
      "source": [
        "# ***Задачи на списки***"
      ],
      "metadata": {
        "id": "dr4XaHbJpFsX"
      }
    },
    {
      "cell_type": "markdown",
      "source": [
        "Задание 3.5 Дан список ['a', '1', 'b', '2', 'c', '3']. Разбейте его на два списка: только с буквами и только с числами. Сам список затем удалите, а новые списки выведите на экран, каждый на отдельной строке."
      ],
      "metadata": {
        "id": "r4uG3aodbQv9"
      }
    },
    {
      "cell_type": "code",
      "source": [
        "original_list = ['a', '1', 'b', '2', 'c', '3']\n",
        "letters = []\n",
        "numbers = []\n",
        "\n",
        "for item in original_list:\n",
        "    if item.isalpha():\n",
        "        letters.append(item)\n",
        "    elif item.isdigit():\n",
        "        numbers.append(item)\n",
        "\n",
        "del original_list\n",
        "print(letters)\n",
        "print(numbers)"
      ],
      "metadata": {
        "colab": {
          "base_uri": "https://localhost:8080/"
        },
        "id": "r5G4vNQuPlyz",
        "outputId": "48ec21e7-4c81-487a-8e9b-861283225aef"
      },
      "execution_count": null,
      "outputs": [
        {
          "output_type": "stream",
          "name": "stdout",
          "text": [
            "['a', 'b', 'c']\n",
            "['1', '2', '3']\n"
          ]
        }
      ]
    },
    {
      "cell_type": "markdown",
      "source": [
        "Задание 3.7 Дан список [3, 4, 1, 1, 5, 1]. Выведите на экран: количество всех элементов в списке, количество единиц в списке, индекс первого вхождения единицы в список."
      ],
      "metadata": {
        "id": "VWu3YeX0bhiY"
      }
    },
    {
      "cell_type": "code",
      "source": [
        "lst = [3, 4, 1, 1, 5, 1]\n",
        "\n",
        "total_elements = len(lst)\n",
        "print(\"Количество всех элементов в списке:\", total_elements)\n",
        "\n",
        "count_ones = lst.count(1)\n",
        "print(\"Количество единиц в списке:\", count_ones)\n",
        "\n",
        "first_index_of_one = lst.index(1)\n",
        "print(\"Индекс первого вхождения единицы в список:\", first_index_of_one)"
      ],
      "metadata": {
        "colab": {
          "base_uri": "https://localhost:8080/"
        },
        "id": "Eoqxu7H-SIJc",
        "outputId": "bddf1b60-2e05-45fd-9c18-91d34156978b"
      },
      "execution_count": null,
      "outputs": [
        {
          "output_type": "stream",
          "name": "stdout",
          "text": [
            "Количество всех элементов в списке: 6\n",
            "Количество единиц в списке: 3\n",
            "Индекс первого вхождения единицы в список: 2\n"
          ]
        }
      ]
    },
    {
      "cell_type": "markdown",
      "source": [
        "Задание 3.17 Дан список натуральных чисел [13, 5, 5, 8, 16, 4]. Удалите из него первое четное число, имеющее нечетный индекс. Выведите измененный список на экран"
      ],
      "metadata": {
        "id": "niO0NH2ub6v2"
      }
    },
    {
      "cell_type": "markdown",
      "source": [],
      "metadata": {
        "id": "2rbWmcCCcIF-"
      }
    },
    {
      "cell_type": "code",
      "source": [
        "numbers = [13, 5, 5, 8, 16, 4]\n",
        "\n",
        "\n",
        "found = False\n",
        "for index, num in enumerate(numbers):\n",
        "    if index % 2 != 0 and num % 2 == 0:\n",
        "        del numbers[index]\n",
        "        found = True\n",
        "        break\n",
        "\n",
        "if not found:\n",
        "    print(\"Нет подходящего элемента для удаления.\")\n",
        "else:\n",
        "    print(\"Измененный список:\", numbers)"
      ],
      "metadata": {
        "colab": {
          "base_uri": "https://localhost:8080/"
        },
        "id": "R6_dHO8tSr6X",
        "outputId": "714fc1a8-574e-4b67-b051-844ffbde2725"
      },
      "execution_count": null,
      "outputs": [
        {
          "output_type": "stream",
          "name": "stdout",
          "text": [
            "Измененный список: [13, 5, 5, 16, 4]\n"
          ]
        }
      ]
    },
    {
      "cell_type": "markdown",
      "source": [
        "# ***Задачи на кортежи***"
      ],
      "metadata": {
        "id": "_YX9q0RKpZPq"
      }
    },
    {
      "cell_type": "markdown",
      "source": [
        "Задание 4.1 Создайте кортеж, в качестве элементов которого используйте целое, вещественное и комплексное числа, кортеж с одним элементом в виде строки, пустой кортеж и пустой список. Выведите на экран строку вложенного кортежа."
      ],
      "metadata": {
        "id": "iA3w3wapC7_R"
      }
    },
    {
      "cell_type": "code",
      "source": [
        "\n",
        "my_tuple = (\n",
        "    42,\n",
        "    3.14,\n",
        "    2 + 3j,\n",
        "    (\"строка\",),\n",
        "    (),\n",
        "    []\n",
        ")\n",
        "\n",
        "print(\"Весь кортеж:\", my_tuple)\n",
        "\n",
        "nested_tuple_string = my_tuple[3][0]\n",
        "print(\"Строка из вложенного кортежа:\", nested_tuple_string)"
      ],
      "metadata": {
        "colab": {
          "base_uri": "https://localhost:8080/"
        },
        "id": "p_YBQX_jTZFO",
        "outputId": "9cf07399-a958-4426-a475-32313397babd"
      },
      "execution_count": null,
      "outputs": [
        {
          "output_type": "stream",
          "name": "stdout",
          "text": [
            "Весь кортеж: (42, 3.14, (2+3j), ('строка',), (), [])\n",
            "Строка из вложенного кортежа: строка\n"
          ]
        }
      ]
    },
    {
      "cell_type": "markdown",
      "source": [
        "Задание 4.5 Дан кортеж (3, 's', 1, 5, 's'). Выведите на экран: количество всех элементов кортежа, количество строк 's', индекс первого вхождения 's' в кортеж."
      ],
      "metadata": {
        "id": "9UNI-WKtDHC6"
      }
    },
    {
      "cell_type": "code",
      "source": [
        "my_tuple = (3, 's', 1, 5, 's')\n",
        "\n",
        "total_elements = len(my_tuple)\n",
        "print(\"Количество всех элементов в кортеже:\", total_elements)\n",
        "\n",
        "count_s = my_tuple.count('s')\n",
        "print(\"Количество строк 's' в кортеже:\", count_s)\n",
        "\n",
        "first_index_of_s = my_tuple.index('s')\n",
        "print(\"Индекс первого вхождения 's' в кортеж:\", first_index_of_s)"
      ],
      "metadata": {
        "colab": {
          "base_uri": "https://localhost:8080/"
        },
        "id": "2YXDaULxTwQW",
        "outputId": "b48d2ec3-5e81-43db-e323-b90bc2613623"
      },
      "execution_count": null,
      "outputs": [
        {
          "output_type": "stream",
          "name": "stdout",
          "text": [
            "Количество всех элементов в кортеже: 5\n",
            "Количество строк 's' в кортеже: 2\n",
            "Индекс первого вхождения 's' в кортеж: 1\n"
          ]
        }
      ]
    },
    {
      "cell_type": "markdown",
      "source": [
        "# ***Задачи на словари***"
      ],
      "metadata": {
        "id": "WBDH_jhypfEi"
      }
    },
    {
      "cell_type": "markdown",
      "source": [
        "Задание 5.1 . Создайте словарь d = {'1': 0, 2: 0, '3': 0} тремя способами. Выведите полученный словарь на экран"
      ],
      "metadata": {
        "id": "uR373EGzDRBZ"
      }
    },
    {
      "cell_type": "code",
      "source": [
        "d3 = {}\n",
        "d3['1'] = 0\n",
        "d3[2] = 0\n",
        "d3['3'] = 0\n",
        "print(\"Способ 1:\", d3)"
      ],
      "metadata": {
        "colab": {
          "base_uri": "https://localhost:8080/"
        },
        "id": "syZlBrCKUNKX",
        "outputId": "88fd8c54-2fdb-4c9c-9467-7dac8155c6f1"
      },
      "execution_count": null,
      "outputs": [
        {
          "output_type": "stream",
          "name": "stdout",
          "text": [
            "Способ 1: {'1': 0, 2: 0, '3': 0}\n"
          ]
        }
      ]
    },
    {
      "cell_type": "code",
      "source": [
        "d2 = dict([('1', 0), (2, 0), ('3', 0)])\n",
        "print(\"Способ 2:\", d2)"
      ],
      "metadata": {
        "colab": {
          "base_uri": "https://localhost:8080/"
        },
        "id": "AO-8nKYhUBbu",
        "outputId": "feb24a06-8828-4d91-9153-f62093689ff6"
      },
      "execution_count": null,
      "outputs": [
        {
          "output_type": "stream",
          "name": "stdout",
          "text": [
            "Способ 2: {'1': 0, 2: 0, '3': 0}\n"
          ]
        }
      ]
    },
    {
      "cell_type": "code",
      "source": [
        "d1 = {'1': 0, 2: 0, '3': 0}\n",
        "print(\"Способ 3:\", d1)"
      ],
      "metadata": {
        "colab": {
          "base_uri": "https://localhost:8080/"
        },
        "id": "y5abzH52UVBf",
        "outputId": "45a102f9-b99b-4f1c-fe97-97b4f744d348"
      },
      "execution_count": null,
      "outputs": [
        {
          "output_type": "stream",
          "name": "stdout",
          "text": [
            "Способ 3: {'1': 0, 2: 0, '3': 0}\n"
          ]
        }
      ]
    },
    {
      "cell_type": "markdown",
      "source": [
        "Задание 5.6 Удалите из словаря d = {'a': 1, 'b': 2, 'c': 3} элементы d['a'] и d['c'], использовав для второго элемента оператор удаления, а для первого имеющийся у словарей метод. Выведите результат на экран, после чего очистите словарь."
      ],
      "metadata": {
        "id": "tx-HrK5fDc2l"
      }
    },
    {
      "cell_type": "code",
      "source": [
        "d = {'a': 1, 'b': 2, 'c': 3}\n",
        "\n",
        "d.pop('a')\n",
        "\n",
        "del d['c']\n",
        "\n",
        "print(\"Словарь после удаления элементов:\", d)\n",
        "d.clear()\n",
        "print(\"Словарь после очистки:\", d)  # {}"
      ],
      "metadata": {
        "colab": {
          "base_uri": "https://localhost:8080/"
        },
        "id": "xCynBkybUqIe",
        "outputId": "3ad4530f-08d2-4dea-90cc-dd1524fa7a22"
      },
      "execution_count": null,
      "outputs": [
        {
          "output_type": "stream",
          "name": "stdout",
          "text": [
            "Словарь после удаления элементов: {'b': 2}\n",
            "Словарь после очистки: {}\n"
          ]
        }
      ]
    },
    {
      "cell_type": "markdown",
      "source": [
        "# ***Задачи на множества***"
      ],
      "metadata": {
        "id": "vecL3s_fptSD"
      }
    },
    {
      "cell_type": "markdown",
      "source": [
        "Задание 6.8 Даны три числа: 30, 5 и 25. Выведите на экран наименьшее из них, использовав для этого программную проверку.\n",
        "\n",
        "\n"
      ],
      "metadata": {
        "id": "l3YduN6vDwxz"
      }
    },
    {
      "cell_type": "code",
      "source": [
        "a, b, c = 30, 5, 25\n",
        "\n",
        "if a <= b and a <= c:\n",
        "    print(\"Наименьшее число:\", a)\n",
        "elif b <= a and b <= c:\n",
        "    print(\"Наименьшее число:\", b)\n",
        "else:\n",
        "    print(\"Наименьшее число:\", c)"
      ],
      "metadata": {
        "colab": {
          "base_uri": "https://localhost:8080/"
        },
        "id": "dvKd2HiPU7Tm",
        "outputId": "7dc22671-6af1-410a-eaad-e8417eca2e32"
      },
      "execution_count": null,
      "outputs": [
        {
          "output_type": "stream",
          "name": "stdout",
          "text": [
            "Наименьшее число: 5\n"
          ]
        }
      ]
    },
    {
      "cell_type": "markdown",
      "source": [
        "Задание 6.10 Сформируйте и выведите на экран множество из всех подходящих для этого элементов списка [True, 0, 1, False, 2+3.4j, 5, '5', (6, 7), [8, 9], {'10': 10}]. Объясните конечный результат. Используйте для решения задачи\n",
        "\n"
      ],
      "metadata": {
        "id": "g1riogRtD6yk"
      }
    },
    {
      "cell_type": "code",
      "source": [
        "from collections.abc import Hashable\n",
        "\n",
        "lst = [True, 0, 1, False, 2+3.4j, 5, '5', (6, 7), [8, 9], {'10': 10}]\n",
        "\n",
        "result_set = {item for item in lst if isinstance(item, Hashable)}\n",
        "\n",
        "print(result_set)"
      ],
      "metadata": {
        "colab": {
          "base_uri": "https://localhost:8080/"
        },
        "id": "IN6sIAd_j_De",
        "outputId": "6aae59f4-04b3-4674-c117-bbf5c7e34a4b"
      },
      "execution_count": null,
      "outputs": [
        {
          "output_type": "stream",
          "name": "stdout",
          "text": [
            "{0, True, 5, '5', (2+3.4j), (6, 7)}\n"
          ]
        }
      ]
    },
    {
      "cell_type": "markdown",
      "source": [
        "# ***Задачи на линейные алгоритмы***"
      ],
      "metadata": {
        "id": "rT0bKN-QrlqD"
      }
    },
    {
      "cell_type": "markdown",
      "source": [
        "Задание 7.2 Даны две переменные x = 10 и y = 55. Поменяйте их значения местами. Выведите значения переменных на экран до и после замены."
      ],
      "metadata": {
        "id": "9GZShvWcEEzW"
      }
    },
    {
      "cell_type": "code",
      "source": [
        "x = 10\n",
        "y = 55\n",
        "\n",
        "print(\"До замены:\")\n",
        "print(f\"x = {x}, y = {y}\")\n",
        "\n",
        "temp = x\n",
        "x = y\n",
        "y = temp\n",
        "\n",
        "print(\"\\nПосле замены:\")\n",
        "print(f\"x = {x}, y = {y}\")"
      ],
      "metadata": {
        "colab": {
          "base_uri": "https://localhost:8080/"
        },
        "id": "GNEI6V-4mdPd",
        "outputId": "a6d8eda2-35a9-4f84-a426-d8c49724ecb8"
      },
      "execution_count": null,
      "outputs": [
        {
          "output_type": "stream",
          "name": "stdout",
          "text": [
            "До замены:\n",
            "x = 10, y = 55\n",
            "\n",
            "После замены:\n",
            "x = 55, y = 10\n"
          ]
        }
      ]
    },
    {
      "cell_type": "markdown",
      "source": [
        "Задание 7.9 С клавиатуры вводится целое число. Необходимо вывести число, обратное введенному по порядку составляющих его цифр. Например, если было введено число 12345, программа должна вывести пользователю на экран число 54321.\n",
        "\n",
        "\n"
      ],
      "metadata": {
        "id": "ulEmStUqEUHf"
      }
    },
    {
      "cell_type": "code",
      "source": [
        "number = int(input(\"Введите целое число: \"))\n",
        "reversed_number = 0\n",
        "\n",
        "while number > 0:\n",
        "    digit = number % 10\n",
        "    reversed_number = reversed_number * 10 + digit\n",
        "    number = number // 10\n",
        "\n",
        "print(\"Перевёрнутое число:\", reversed_number)"
      ],
      "metadata": {
        "id": "CJmoXQ_Znrru"
      },
      "execution_count": null,
      "outputs": []
    },
    {
      "cell_type": "markdown",
      "source": [
        "Задание 7.4. Вычислить и вывести на экран длину окружности и площадь круга одного и того же заданного радиуса R, который необходимо ввести с клавиатуры в сантиметрах. Результаты должны округляться до сотых.\n",
        "\n"
      ],
      "metadata": {
        "id": "GP0uWM_gEhGe"
      }
    },
    {
      "cell_type": "code",
      "source": [
        "import math\n",
        "\n",
        "R = float(input(\"Введите радиус круга (в см): \"))\n",
        "circumference = 2 * math.pi * R\n",
        "area = math.pi * R ** 2\n",
        "print(f\"Длина окружности: {round(circumference, 2)} см\")\n",
        "print(f\"Площадь круга: {round(area, 2)} см²\")"
      ],
      "metadata": {
        "id": "uEl3UhoooIqB"
      },
      "execution_count": null,
      "outputs": []
    },
    {
      "cell_type": "markdown",
      "source": [
        "# ***Задачи на логические выражения***"
      ],
      "metadata": {
        "id": "I1_Y4EjRwO63"
      }
    },
    {
      "cell_type": "markdown",
      "source": [
        "Задание 8.3. Записать и вывести на экран условие, которое является истинным, когда список li имеет хотя бы один элемент"
      ],
      "metadata": {
        "id": "bFADKuM5EtDr"
      }
    },
    {
      "cell_type": "code",
      "source": [
        "li = [1, 2, 3]\n",
        "\n",
        "if li:  # Эквивалентно if len(li) > 0:\n",
        "    print(\"Список НЕ пустой (имеет хотя бы один элемент)\")\n",
        "else:\n",
        "    print(\"Список пустой\")"
      ],
      "metadata": {
        "id": "di1CjM2BpKC7"
      },
      "execution_count": null,
      "outputs": []
    },
    {
      "cell_type": "markdown",
      "source": [
        "Задание 8.8. Записать и вывести на экран логическое выражение, описывающее область определения функции у = √a + 1/(a - 7) + 1/(b + 5) + 1/(b - 2)."
      ],
      "metadata": {
        "id": "43iPDvX0Ey47"
      }
    },
    {
      "cell_type": "code",
      "source": [
        "a = float(input(\"Введите a: \"))\n",
        "b = float(input(\"Введите b: \"))\n",
        "\n",
        "# Проверка области определения\n",
        "is_defined = (a >= 0) and (a != 7) and (b != -5) and (b != 2)\n",
        "\n",
        "print(f\"Функция определена: {is_defined}\")"
      ],
      "metadata": {
        "id": "qR_2oRvmpX8m"
      },
      "execution_count": null,
      "outputs": []
    },
    {
      "cell_type": "markdown",
      "source": [
        "Задание 8.11. Известно, что обрабатываемая строка может содержать только целые числа, например, '-32', '59'. Запишите и выведите на экран условие, которое является истинным только для строк, содержащих двузначное число."
      ],
      "metadata": {
        "id": "R2ZJAw92E9pJ"
      }
    },
    {
      "cell_type": "code",
      "source": [
        "s = input(\"Введите строку: \")\n",
        "\n",
        "# Проверка, что строка содержит двузначное число\n",
        "is_two_digit = (s.isdigit() and len(s) == 2) or \\\n",
        "               (s.startswith('-') and s[1:].isdigit() and len(s) == 3)\n",
        "\n",
        "print(f\"Строка содержит двузначное число: {is_two_digit}\")"
      ],
      "metadata": {
        "id": "ra08w-25px7h"
      },
      "execution_count": null,
      "outputs": []
    },
    {
      "cell_type": "markdown",
      "source": [
        "# ***Задачи на if/else***"
      ],
      "metadata": {
        "id": "wjHSQWfxwS3N"
      }
    },
    {
      "cell_type": "markdown",
      "source": [
        "Задание 9.1. Определите, не является ли введенная пользователем с клавиатуры строка пустой. Результат проверки в виде True или False выведите на экран."
      ],
      "metadata": {
        "id": "Etod6w1eFFhB"
      }
    },
    {
      "cell_type": "code",
      "source": [
        "s = input(\"Введите строку: \")\n",
        "is_empty = not s\n",
        "print(is_empty)"
      ],
      "metadata": {
        "id": "DCSeCZg3qQ2P"
      },
      "execution_count": null,
      "outputs": []
    },
    {
      "cell_type": "markdown",
      "source": [
        "Задание 9.6. Напишите программу, которая будет проверять, является ли введенное пользователем значение цифрой десятичной системы счисления. В случае положительного результата, на экран пользователя должно выводиться название цифры, например, «3 - это три». В противном случае должно выводиться предупреждение «Введите цифру 10-й СС»"
      ],
      "metadata": {
        "id": "ZzVSksJ0FMLw"
      }
    },
    {
      "cell_type": "code",
      "source": [
        "digit_names = {\n",
        "    '0': 'ноль',\n",
        "    '1': 'один',\n",
        "    '2': 'два',\n",
        "    '3': 'три',\n",
        "    '4': 'четыре',\n",
        "    '5': 'пять',\n",
        "    '6': 'шесть',\n",
        "    '7': 'семь',\n",
        "    '8': 'восемь',\n",
        "    '9': 'девять'\n",
        "}\n",
        "\n",
        "user_input = input(\"Введите символ: \")\n",
        "\n",
        "if len(user_input) == 1 and user_input in digit_names:\n",
        "    print(f\"{user_input} - это {digit_names[user_input]}\")\n",
        "else:\n",
        "    print(\"Введите цифру 10-й СС\")"
      ],
      "metadata": {
        "id": "KytGEYQutKXf"
      },
      "execution_count": null,
      "outputs": []
    },
    {
      "cell_type": "markdown",
      "source": [
        "Задание 9.10. Определите четверть координатной плоскости, которой принадлежит точка A(x, y). Координаты точки должны вводиться с клавиатуры."
      ],
      "metadata": {
        "id": "6h1V9lsVFUqz"
      }
    },
    {
      "cell_type": "code",
      "source": [
        "x = float(input(\"Введите координату x: \"))\n",
        "y = float(input(\"Введите координату y: \"))\n",
        "\n",
        "if x > 0 and y > 0:\n",
        "    print(\"Точка находится в I четверти\")\n",
        "elif x < 0 and y > 0:\n",
        "    print(\"Точка находится во II четверти\")\n",
        "elif x < 0 and y < 0:\n",
        "    print(\"Точка находится в III четверти\")\n",
        "elif x > 0 and y < 0:\n",
        "    print(\"Точка находится в IV четверти\")\n",
        "elif x == 0 and y != 0:\n",
        "    print(\"Точка находится на оси Y\")\n",
        "elif y == 0 and x != 0:\n",
        "    print(\"Точка находится на оси X\")\n",
        "else:\n",
        "    print(\"Точка находится в начале координат\")"
      ],
      "metadata": {
        "id": "_zG2pUA-tuJV"
      },
      "execution_count": null,
      "outputs": []
    },
    {
      "cell_type": "markdown",
      "source": [
        "Задание 9.14. Сформируйте список li из 10-ти случайных натуральных чисел не превышающих 100. Для этого используйте инструкции from random import randint и for k in range(1, 11): li.append(randint(1, 100)). Далее, используя для обхода элементов списка цикл for, выведите на экран: максимальное значение четных чисел, если их меньше, чем нечетных; максимальное значение нечетных чисел, если их меньше, чем четных; максимальное значение из двух, если в списке содержится равное количество четных и нечетных чисел. Использовать для решения задачи другие встроенные функции запрещается! Условие li: [5, 20, 41, 63, 24, 21, 10, 62, 91, 19] Четных чисел меньше. Макс. четное: 62\n",
        "\n",
        "li: [28, 58, 94, 59, 27, 30, 80, 18, 4, 53] Нечетных чисел меньше. Макс. нечетное: 59\n",
        "\n",
        "li: [88, 32, 50, 99, 17, 12, 78, 95, 55, 47] Чисел одинаковое кол-во. Макс. из них нечетное: 99"
      ],
      "metadata": {
        "id": "WAHXFbNvFYl3"
      }
    },
    {
      "cell_type": "code",
      "source": [
        "from random import randint\n",
        "\n",
        "li = []\n",
        "for k in range(1, 11):\n",
        "    li.append(randint(1, 100))\n",
        "\n",
        "even_count = 0\n",
        "odd_count = 0\n",
        "max_even = 0\n",
        "max_odd = 0\n",
        "\n",
        "\n",
        "for num in li:\n",
        "    if num % 2 == 0:  # Четное число\n",
        "        even_count += 1\n",
        "        if num > max_even:\n",
        "            max_even = num\n",
        "    else:  # Нечетное число\n",
        "        odd_count += 1\n",
        "        if num > max_odd:\n",
        "            max_odd = num\n",
        "print(f\"li: {li}\")\n",
        "if even_count < odd_count:\n",
        "    print(\"Четных чисел меньше.\")\n",
        "    print(f\"Макс. четное: {max_even}\")\n",
        "elif even_count > odd_count:\n",
        "    print(\"Нечетных чисел меньше.\")\n",
        "    print(f\"Макс. нечетное: {max_odd}\")\n",
        "else:\n",
        "    print(\"Чисел одинаковое кол-во.\")\n",
        "    if max_even > max_odd:\n",
        "        print(f\"Макс. из них четное: {max_even}\")\n",
        "    else:\n",
        "        print(f\"Макс. из них нечетное: {max_odd}\")\n",
        "print(\"----------------------\")"
      ],
      "metadata": {
        "id": "ZoO5-9y8ujWj"
      },
      "execution_count": null,
      "outputs": []
    },
    {
      "cell_type": "markdown",
      "source": [
        "# ***Задачи на for/while***"
      ],
      "metadata": {
        "id": "OOEtaVEuwddO"
      }
    },
    {
      "cell_type": "markdown",
      "source": [
        "Задание 10.2. Сколько кортежей содержится в списке [(1, 2), (3), (4,), (5+6), (7+8,)]? Проверьте свой ответ программно, используя циклы. Выведите кортежи на экран в одну строку"
      ],
      "metadata": {
        "id": "f8FeDNMsFk4_"
      }
    },
    {
      "cell_type": "code",
      "source": [
        "lst = [(1, 2), (3), (4,), (5+6), (7+8,)]\n",
        "tuples = []\n",
        "\n",
        "for item in lst:\n",
        "    if isinstance(item, tuple):\n",
        "        tuples.append(item)\n",
        "\n",
        "print(\"Кортежи в списке:\", *tuples)\n",
        "print(\"Количество кортежей:\", len(tuples))"
      ],
      "metadata": {
        "id": "r3y_h6FCvCmr",
        "colab": {
          "base_uri": "https://localhost:8080/"
        },
        "outputId": "8cff25e7-65b6-42c8-813b-85d9bdae8d97"
      },
      "execution_count": null,
      "outputs": [
        {
          "output_type": "stream",
          "name": "stdout",
          "text": [
            "Кортежи в списке: (1, 2) (4,) (15,)\n",
            "Количество кортежей: 3\n"
          ]
        }
      ]
    },
    {
      "cell_type": "markdown",
      "source": [
        "Задание 10.4. Дано множество целых чисел {12, 33, 24, 7, 19}. Выведите на экран только четные числа."
      ],
      "metadata": {
        "id": "yR0UtTQtFrkW"
      }
    },
    {
      "cell_type": "code",
      "source": [
        "numbers = {12, 33, 24, 7, 19}\n",
        "print(\"Четные числа:\")\n",
        "for num in numbers:\n",
        "    if num % 2 == 0:\n",
        "        print(num, end=' ')\n",
        "print(\"\\n\\nЧетные числа (вариант 2):\")\n",
        "print(*[num for num in numbers if num % 2 == 0])"
      ],
      "metadata": {
        "colab": {
          "base_uri": "https://localhost:8080/"
        },
        "id": "DB2cQ3XtveDa",
        "outputId": "c3bb6e9e-efbd-457a-b19b-4988fcebe480"
      },
      "execution_count": null,
      "outputs": [
        {
          "output_type": "stream",
          "name": "stdout",
          "text": [
            "Четные числа:\n",
            "24 12 \n",
            "\n",
            "Четные числа (вариант 2):\n",
            "24 12\n"
          ]
        }
      ]
    },
    {
      "cell_type": "markdown",
      "source": [
        "Задание 10.7. Вычислить факториал заданного натурального числа. Факториал числа n вычисляется по формуле: n! = 123...n. Число n должно вводиться с клавиатуры и не должно превышать числа 30"
      ],
      "metadata": {
        "id": "4KUNMpSBTPz6"
      }
    },
    {
      "cell_type": "code",
      "source": [
        "import math\n",
        "\n",
        "n = int(input(\"Введите натуральное число (не больше 30): \"))\n",
        "\n",
        "if n < 0 or n > 30:\n",
        "    print(\"Ошибка: число должно быть от 0 до 30!\")\n",
        "else:\n",
        "    print(f\"{n}! = {math.factorial(n)}\")"
      ],
      "metadata": {
        "id": "33H8CjQ6hGOb"
      },
      "execution_count": null,
      "outputs": []
    },
    {
      "cell_type": "markdown",
      "source": [
        "# ***Задачи на протокол итераций и генераторы***"
      ],
      "metadata": {
        "id": "A_KEymTzwhKm"
      }
    },
    {
      "cell_type": "markdown",
      "source": [
        "Задание 11.3. Преобразуйте кортеж чисел (3.27, 5.755, 7.321) в словарь, в качестве ключей которого будут использованы числа кортежа, а значениями будут их округленные до десятых значения. Используйте для решения задачи генератор словарей. Выведите полученный словарь на экран."
      ],
      "metadata": {
        "id": "jBwjOl5dTYHr"
      }
    },
    {
      "cell_type": "code",
      "source": [
        "numbers = (3.27, 5.755, 7.321)\n",
        "\n",
        "rounded_dict = {num: round(num, 1) for num in numbers}\n",
        "\n",
        "print(rounded_dict)"
      ],
      "metadata": {
        "id": "kLMpUcUdhRPJ"
      },
      "execution_count": null,
      "outputs": []
    },
    {
      "cell_type": "markdown",
      "source": [
        "11.6. Напишите функцию-генератор gen_func(n), которая при вызове будет возвращать итератор для последовательности четных чисел из диапазона от 1 до n включительно. Вызовите функцию, передав аргументу значение 20, и в ручном режиме выведите первые три числа сгенерированной последовательности, использовав метод next итератора."
      ],
      "metadata": {
        "id": "yed59vdaTfgW"
      }
    },
    {
      "cell_type": "code",
      "source": [
        "def gen_func(n):\n",
        "    \"\"\"Генератор чётных чисел от 1 до n включительно.\"\"\"\n",
        "    for num in range(1, n + 1):\n",
        "        if num % 2 == 0:\n",
        "            yield num\n",
        "iterator = gen_func(20)\n",
        "\n",
        "print(iterator.__next__())  # 2\n",
        "print(iterator.__next__())  # 4\n",
        "print(iterator.__next__())  # 6"
      ],
      "metadata": {
        "id": "kZWzRkTehlXu"
      },
      "execution_count": null,
      "outputs": []
    },
    {
      "cell_type": "markdown",
      "source": [
        "Задание 11.8. Дан список [(1, 2), (3+4), (5,), (6+7, 8), (9+10,)]. Оставьте в нем только элементы, которые являются кортежами и содержат более одного элемента. Используйте для решения задачи генератор списков. Выведите итоговый и результирующий списки на экран"
      ],
      "metadata": {
        "id": "s0HO08-cTm-_"
      }
    },
    {
      "cell_type": "code",
      "source": [
        "original_list = [(1, 2), (3+4), (5,), (6+7, 8), (9+10,)]\n",
        "\n",
        "filtered_list = [item for item in original_list if isinstance(item, tuple) and len(item) > 1]\n",
        "print(\"Исходный список:\", original_list)\n",
        "print(\"Результирующий список:\", filtered_list)"
      ],
      "metadata": {
        "id": "01-cftTEh2Ah"
      },
      "execution_count": null,
      "outputs": []
    },
    {
      "cell_type": "markdown",
      "source": [
        "# ***Задачи на функции***"
      ],
      "metadata": {
        "id": "fj7VaxWcwp69"
      }
    },
    {
      "cell_type": "markdown",
      "source": [
        "Задание 12.2. Напишите функцию hello_friend, принимающую в качестве аргументов имя и фамилию пользователя и возвращающую строку в формате «Привет, {name} {surname}!». Вызовите функцию и выведите результат вызова на экран."
      ],
      "metadata": {
        "id": "Bn8QpOzsTuCy"
      }
    },
    {
      "cell_type": "code",
      "source": [
        "def hello_friend(name, surname):\n",
        "    \"\"\"Функция возвращает приветствие по имени и фамилии\"\"\"\n",
        "    return f\"Привет, {name} {surname}!\"\n",
        "\n",
        "result = hello_friend(\"Василий\", \"Иванов\")\n",
        "print(result)"
      ],
      "metadata": {
        "id": "VbKKF5z8ihKg"
      },
      "execution_count": null,
      "outputs": []
    },
    {
      "cell_type": "markdown",
      "source": [
        "12.4. Создайте пользовательскую функцию print_args, принимающую произвольное количество аргументов и выводящую их затем на экран. Вызовите функцию, одновременно передав ей в качестве значений целое число, вещественное число, строку и пустой список."
      ],
      "metadata": {
        "id": "glnLxZ2eT1Yj"
      }
    },
    {
      "cell_type": "code",
      "source": [
        "def print_args(*args):\n",
        "    \"\"\"Функция принимает произвольное количество аргументов и выводит их\"\"\"\n",
        "    for arg in args:\n",
        "        print(arg)\n",
        "\n",
        "print_args(42, 3.14, \"Hello\", [])"
      ],
      "metadata": {
        "id": "rpym75Myi8P4"
      },
      "execution_count": null,
      "outputs": []
    },
    {
      "cell_type": "markdown",
      "source": [
        "12.6. Создайте и вызовите пользовательскую функцию-матрешку my_func_1, состоящую из четырех вложенных друг в друга определений аналогичных функций. Каждая функция должна выводить сообщение в формате 'In my_func_{номер функции}.', а также содержать определение и вызов следующей вложенной функции (в последней функции эта часть будет отсутствовать). Условие In my_func_1. In my_func_2. In my_func_3. In my_func_4. In my_func_5."
      ],
      "metadata": {
        "id": "Y3k7GD1NT8PV"
      }
    },
    {
      "cell_type": "code",
      "source": [
        "def my_func_1():\n",
        "    print('In my_func_1.')\n",
        "\n",
        "    def my_func_2():\n",
        "        print('In my_func_2.')\n",
        "\n",
        "        def my_func_3():\n",
        "            print('In my_func_3.')\n",
        "\n",
        "            def my_func_4():\n",
        "                print('In my_func_4.')\n",
        "\n",
        "                def my_func_5():\n",
        "                    print('In my_func_5.')\n",
        "\n",
        "                my_func_5()\n",
        "            my_func_4()\n",
        "        my_func_3()\n",
        "    my_func_2()\n",
        "my_func_1()"
      ],
      "metadata": {
        "id": "i8DdSNyrjW6-"
      },
      "execution_count": null,
      "outputs": []
    },
    {
      "cell_type": "markdown",
      "source": [
        "Задание 12.13. Напишите простейшую функцию-калькулятор, которая будет выполнять с двумя переданными ей числами следующие действия: сложение, вычитание, умножение и деление с указанной точностью. Соответственно, функция должна принимать два позиционных числовых аргумента для чисел, один именованный строковый аргумент op (по умолчанию функция должна выполнять операцию сложения) и один именованный числовой аргумент prec для требуемой точности результата (по умолчанию три знака после запятой). В случае деления на ноль функция должна возвращать NaN, а при попытке выполнения непредусмотренной операции – сообщение об ошибке «Неподдерживаемый тип операции!». Выведите на экран результаты вызовов функции с точностью до сотых для числовых выражений: -13.756 + 59.291, 599 - 783, -7/55, 7/0 и 57.75*33.2."
      ],
      "metadata": {
        "id": "gGA0zGa1UFjG"
      }
    },
    {
      "cell_type": "code",
      "source": [
        "def calculator(a, b, op='+', prec=3):\n",
        "    \"\"\"\n",
        "    Функция-калькулятор с указанной точностью.\n",
        "    Поддерживает операции: +, -, *, /\n",
        "    \"\"\"\n",
        "    try:\n",
        "        if op == '+':\n",
        "            result = a + b\n",
        "        elif op == '-':\n",
        "            result = a - b\n",
        "        elif op == '*':\n",
        "            result = a * b\n",
        "        elif op == '/':\n",
        "            if b == 0:\n",
        "                return float('nan')  # Деление на ноль\n",
        "            result = a / b\n",
        "        else:\n",
        "            return \"Неподдерживаемый тип операции!\"\n",
        "\n",
        "        return round(result, prec)\n",
        "\n",
        "    except Exception:\n",
        "        return \"Ошибка вычисления\"\n",
        "\n",
        "# Тестовые вызовы с точностью до сотых (prec=2)\n",
        "print(f\"-13.756 + 59.291 = {calculator(-13.756, 59.291, '+', 2)}\")\n",
        "print(f\"599 - 783 = {calculator(599, 783, '-', 2)}\")\n",
        "print(f\"-7 / 55 = {calculator(-7, 55, '/', 2)}\")\n",
        "print(f\"7 / 0 = {calculator(7, 0, '/', 2)}\")\n",
        "print(f\"57.75 * 33.2 = {calculator(57.75, 33.2, '*', 2)}\")"
      ],
      "metadata": {
        "id": "64kLrMOnjte5"
      },
      "execution_count": null,
      "outputs": []
    }
  ]
}