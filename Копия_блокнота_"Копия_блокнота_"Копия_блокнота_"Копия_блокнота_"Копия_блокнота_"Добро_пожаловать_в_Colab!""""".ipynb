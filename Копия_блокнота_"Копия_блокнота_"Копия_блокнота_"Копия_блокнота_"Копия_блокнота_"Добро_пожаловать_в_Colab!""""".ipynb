{
  "cells": [
    {
      "cell_type": "markdown",
      "metadata": {
        "id": "view-in-github",
        "colab_type": "text"
      },
      "source": [
        "<a href=\"https://colab.research.google.com/github/sovabirdie/Python/blob/main/%D0%9A%D0%BE%D0%BF%D0%B8%D1%8F_%D0%B1%D0%BB%D0%BE%D0%BA%D0%BD%D0%BE%D1%82%D0%B0_%22%D0%9A%D0%BE%D0%BF%D0%B8%D1%8F_%D0%B1%D0%BB%D0%BE%D0%BA%D0%BD%D0%BE%D1%82%D0%B0_%22%D0%9A%D0%BE%D0%BF%D0%B8%D1%8F_%D0%B1%D0%BB%D0%BE%D0%BA%D0%BD%D0%BE%D1%82%D0%B0_%22%D0%9A%D0%BE%D0%BF%D0%B8%D1%8F_%D0%B1%D0%BB%D0%BE%D0%BA%D0%BD%D0%BE%D1%82%D0%B0_%22%D0%9A%D0%BE%D0%BF%D0%B8%D1%8F_%D0%B1%D0%BB%D0%BE%D0%BA%D0%BD%D0%BE%D1%82%D0%B0_%22%D0%94%D0%BE%D0%B1%D1%80%D0%BE_%D0%BF%D0%BE%D0%B6%D0%B0%D0%BB%D0%BE%D0%B2%D0%B0%D1%82%D1%8C_%D0%B2_Colab!%22%22%22%22%22.ipynb\" target=\"_parent\"><img src=\"https://colab.research.google.com/assets/colab-badge.svg\" alt=\"Open In Colab\"/></a>"
      ]
    },
    {
      "cell_type": "markdown",
      "source": [],
      "metadata": {
        "id": "-SAQbsu-2BE3"
      }
    },
    {
      "cell_type": "markdown",
      "source": [
        "Богдан Кирпенко"
      ],
      "metadata": {
        "id": "zieL-dY_1_Tt"
      }
    },
    {
      "cell_type": "markdown",
      "source": [
        "# 1 тема Простейшае действия в Python\n",
        "\n"
      ],
      "metadata": {
        "id": "8Hk4-hYJFxK_"
      }
    },
    {
      "cell_type": "markdown",
      "source": [
        "Задание 1.1 Сложить два числа"
      ],
      "metadata": {
        "id": "IZHHOaevMzSM"
      }
    },
    {
      "cell_type": "code",
      "source": [
        "c=5+2\n",
        "print(c)"
      ],
      "metadata": {
        "colab": {
          "base_uri": "https://localhost:8080/"
        },
        "id": "5ve1UPy3MzoN",
        "outputId": "d91876d4-8fa8-4978-ed84-5fb3af8f4b1a"
      },
      "execution_count": null,
      "outputs": [
        {
          "output_type": "stream",
          "name": "stdout",
          "text": [
            "7\n"
          ]
        }
      ]
    },
    {
      "cell_type": "markdown",
      "source": [
        "Задание 1.2 Сложить два дробных числа с точностью 25 знаков после запятой"
      ],
      "metadata": {
        "id": "Bx_tbSMzM59s"
      }
    },
    {
      "cell_type": "code",
      "source": [
        "a=0.1 + 0.3\n",
        "print(format(a,\".25f\"))"
      ],
      "metadata": {
        "id": "m2InaEF5NIZ8"
      },
      "execution_count": null,
      "outputs": []
    },
    {
      "cell_type": "markdown",
      "source": [
        "Задание 1.3 Присвоить переменным тип переменной \"float\", присвоить целые значения и вывести их значения"
      ],
      "metadata": {
        "id": "eZNV1o0eNI1W"
      }
    },
    {
      "cell_type": "code",
      "source": [
        "# Присваиваем переменным типа float целые значения\n",
        "a = float(5)\n",
        "b = float(10)\n",
        "c = float(-3)\n",
        "d = float(0)\n",
        "print(\"a =\", a, type(a))\n",
        "print(\"b =\", b, type(b))\n",
        "print(\"c =\", c, type(c))\n",
        "print(\"d =\", d, type(d))"
      ],
      "metadata": {
        "id": "xVBVqTllNrvi",
        "colab": {
          "base_uri": "https://localhost:8080/"
        },
        "outputId": "62b66a63-ee36-4b1e-f769-850517566228"
      },
      "execution_count": null,
      "outputs": [
        {
          "output_type": "stream",
          "name": "stdout",
          "text": [
            "a = 5.0 <class 'float'>\n",
            "b = 10.0 <class 'float'>\n",
            "c = -3.0 <class 'float'>\n",
            "d = 0.0 <class 'float'>\n"
          ]
        }
      ]
    },
    {
      "cell_type": "markdown",
      "source": [
        "Задания 1.4 Написать программу, в которой динамически меняется тип переменной"
      ],
      "metadata": {
        "id": "Vv1f7PT-NsIz"
      }
    },
    {
      "cell_type": "code",
      "source": [],
      "metadata": {
        "id": "IfO1pLHMN-Zg"
      },
      "execution_count": null,
      "outputs": []
    },
    {
      "cell_type": "markdown",
      "source": [
        "Задания 1.5 Вывести значения трех переменных, разделеных тремя звёздочками ***"
      ],
      "metadata": {
        "id": "ow5tsvYTN-pg"
      }
    },
    {
      "cell_type": "code",
      "source": [
        "a=52\n",
        "b=57\n",
        "c=3\n",
        "print(a,\"***\", b, \"***\", c, \"***\", sep=\"\")"
      ],
      "metadata": {
        "id": "WoHYW1_dOhK1"
      },
      "execution_count": null,
      "outputs": []
    },
    {
      "cell_type": "markdown",
      "source": [
        "Задание 1.6 Написать программу, которая складывает два числа, введённых с клавиатуры"
      ],
      "metadata": {
        "id": "_ER0F5oZOhcf"
      }
    },
    {
      "cell_type": "code",
      "source": [
        "a = int(input(\"Введите число:\"))\n",
        "b = int(input(\"Введите число:\"))\n",
        "c=a+b\n",
        "print(c)"
      ],
      "metadata": {
        "id": "KdKkS3y1O7ge"
      },
      "execution_count": null,
      "outputs": []
    },
    {
      "cell_type": "markdown",
      "source": [
        "Задание 1.7 Ввести разделитель и затем три строковые переменные. Вывести три переменные в строку через разделитель"
      ],
      "metadata": {
        "id": "W0mGmSLnO74n"
      }
    },
    {
      "cell_type": "code",
      "source": [
        "a = \"|\"\n",
        "b = input()\n",
        "c = input()\n",
        "d = input()\n",
        "print(b, c, d, sep=a)"
      ],
      "metadata": {
        "id": "YbPm0J_uPYtP"
      },
      "execution_count": null,
      "outputs": []
    },
    {
      "cell_type": "markdown",
      "source": [
        "Задание 1.8 Программа получает целое число x и выводит последовательность x, 2x, 3x, 4x, 5x, разделённые тремя чертами---"
      ],
      "metadata": {
        "id": "oIN0Dhg2PZDn"
      }
    },
    {
      "cell_type": "code",
      "source": [
        "x = int(input(\"Введите целое число x: \"))\n",
        "sequence = [x * i for i in range(1, 10)]\n",
        "print(\"---\".join(map(str, sequence)))"
      ],
      "metadata": {
        "id": "Mc7h6y5RPxSe",
        "colab": {
          "base_uri": "https://localhost:8080/"
        },
        "outputId": "eb9ffade-ecbb-42ea-b2ca-4fa766ea46d5"
      },
      "execution_count": null,
      "outputs": [
        {
          "output_type": "stream",
          "name": "stdout",
          "text": [
            "Введите целое число x: 1\n",
            "1---2---3---4---5---6---7---8---9\n"
          ]
        }
      ]
    },
    {
      "cell_type": "markdown",
      "source": [
        "# 2 тема Целочисленная арифметика"
      ],
      "metadata": {
        "id": "fCkL4Fx6GwQu"
      }
    },
    {
      "cell_type": "markdown",
      "source": [
        "Задание 2.1Найти сумму цифр трёхзначного числа, введенного с клавиатуры"
      ],
      "metadata": {
        "id": "nfWw3REaJC4e"
      }
    },
    {
      "cell_type": "code",
      "source": [
        "number = int(input(\"Введите трёхзначное число: \"))\n",
        "\n",
        "digit1 = number // 100\n",
        "digit2 = (number // 10) % 10\n",
        "digit3 = number % 10\n",
        "sum_of_digits = digit1 + digit2 + digit3\n",
        "\n",
        "print(f\"Сумма цифр числа {number} равна: {sum_of_digits}\")"
      ],
      "metadata": {
        "colab": {
          "base_uri": "https://localhost:8080/"
        },
        "id": "puXgekY9JF9-",
        "outputId": "50e8eb14-f8f6-44ff-8a24-9e405b9cd28e"
      },
      "execution_count": null,
      "outputs": [
        {
          "output_type": "stream",
          "name": "stdout",
          "text": [
            "Введите трёхзначное число: 234\n",
            "Сумма цифр числа 234 равна: 9\n"
          ]
        }
      ]
    },
    {
      "cell_type": "markdown",
      "source": [
        "Задание 2.2 С клавиатуры вводится шестизначный номер билета. Если сумма первых трех цифр равна сумме последних трёх цифр, то билет считается счастливым"
      ],
      "metadata": {
        "id": "GQnbIBOKJG0W"
      }
    },
    {
      "cell_type": "code",
      "source": [
        "n = input()\n",
        "s1 = int(n) + int(n) + int(n)\n",
        "s2 = int(n) + int(n) + int(n)\n",
        "if s1 == s2:\n",
        "    print('Счастливый')\n",
        "else:\n",
        "    print('Обычный')"
      ],
      "metadata": {
        "colab": {
          "base_uri": "https://localhost:8080/"
        },
        "id": "L0rVXQiTJIbt",
        "outputId": "77ad7d4b-6c4a-4832-bd21-077adf92ec83"
      },
      "execution_count": null,
      "outputs": [
        {
          "output_type": "stream",
          "name": "stdout",
          "text": [
            "52***57***3***\n"
          ]
        }
      ]
    },
    {
      "cell_type": "markdown",
      "source": [
        "Задание 2.3 Определить, является ли 5-значное число введённое с клавиатуры, палиндромом?"
      ],
      "metadata": {
        "id": "Bxismsk6JR3m"
      }
    },
    {
      "cell_type": "code",
      "source": [
        "num = int(input())\n",
        "print( (num % 10 == num // 10000 % 10) and (num // 10 % 10 == num // 100 % 10) )"
      ],
      "metadata": {
        "colab": {
          "base_uri": "https://localhost:8080/"
        },
        "id": "s1q7gjR1JSjO",
        "outputId": "1826da89-e8da-4287-b761-cea77b2243ba"
      },
      "execution_count": null,
      "outputs": [
        {
          "output_type": "stream",
          "name": "stdout",
          "text": [
            "Введите число:2\n",
            "Введите число:5\n",
            "7\n"
          ]
        }
      ]
    },
    {
      "cell_type": "markdown",
      "source": [
        "Задание 2.4 Опеределить, образуют ли цифры в 5-значном числе возрастающию последовательность\n"
      ],
      "metadata": {
        "id": "9maRNUpAJYN0"
      }
    },
    {
      "cell_type": "code",
      "source": [
        "number = input(\"Введите пятизначное число: \")\n",
        "\n",
        "if len(number) == 5 and number.isdigit():\n",
        "    if all(int(number[i]) < int(number[i+1]) for i in range(4)):\n",
        "        print(\"Цифры образуют возрастающую последовательность\")\n",
        "    else:\n",
        "        print(\"Цифры НЕ образуют возрастающую последовательность\")\n",
        "else:\n",
        "    print(\"Ошибка! Нужно ввести ровно 5 цифр.\")"
      ],
      "metadata": {
        "colab": {
          "base_uri": "https://localhost:8080/"
        },
        "id": "8muZs817JYxM",
        "outputId": "2169f227-af22-4d25-8f6f-8c2f47fa6522"
      },
      "execution_count": null,
      "outputs": [
        {
          "output_type": "stream",
          "name": "stdout",
          "text": [
            "Введите пятизначное число: 34512\n",
            "Цифры НЕ образуют возрастающую последовательность\n"
          ]
        }
      ]
    },
    {
      "cell_type": "markdown",
      "source": [
        "Задание 2.5 Пернести из двоичной ПСС в десятичную целом семизначное число"
      ],
      "metadata": {
        "id": "upc6VgKwJf2M"
      }
    },
    {
      "cell_type": "code",
      "source": [
        "num = int(input())\n",
        "a = num // 1_000_000 * 64\n",
        "b = num // 100000 % 10 * 32\n",
        "c = num // 10000 % 10 * 16\n",
        "d = num // 1000 % 10 * 8\n",
        "e = num // 100 % 10 * 4\n",
        "f = num//10 % 10 * 2\n",
        "g = num % 10\n",
        "print( a + b + c + d + e + f + g)"
      ],
      "metadata": {
        "colab": {
          "base_uri": "https://localhost:8080/"
        },
        "id": "Gm038w4BJgKl",
        "outputId": "e1640c5c-0d58-4efa-c9e5-86ac53e0b602"
      },
      "execution_count": null,
      "outputs": [
        {
          "output_type": "stream",
          "name": "stdout",
          "text": [
            "Введите число:1234567\n",
            "1524155677489\n"
          ]
        }
      ]
    },
    {
      "cell_type": "markdown",
      "source": [
        "Задание 2.6 Введено двухзначное число. Заменить меньшую цифру большей"
      ],
      "metadata": {
        "id": "V1HPha9RSJrL"
      }
    },
    {
      "cell_type": "code",
      "source": [
        "num = int(input(\"Введите четырёхзначное число\"))\n",
        "a = num // 1000\n",
        "b = num // 100 % 10\n",
        "c = num // 10 % 10\n",
        "d = num % 10\n",
        "print(a, b, c, d, sep='')\n",
        "print(a, b, d, c, sep='')\n",
        "print(a, c, b, d, sep='')\n",
        "print(a, c, d, b, sep='')\n",
        "print(a, d, b, c, sep='')\n",
        "print(a, d, c, b, sep='')\n",
        "print(b, a, c, d, sep='')\n",
        "print(b, a, d, c, sep='')\n",
        "print(b, c, a, d, sep='')\n",
        "print(b, c, d, a, sep='')\n",
        "print(b, d, a, c, sep='')\n",
        "print(b, d, c, a, sep='')\n",
        "print(c, a, b, d, sep='')\n",
        "print(c, a, d, b, sep='')\n",
        "print(c, b, a, d, sep='')\n",
        "print(c, b, d, a, sep='')\n",
        "print(c, d, a, b, sep='')\n",
        "print(c, d, b, a, sep='')\n",
        "print(d, a, b, c, sep='')\n",
        "print(d, a, c, b, sep='')\n",
        "print(d, b, a, c, sep='')\n",
        "print(d, b, c, a, sep='')\n",
        "print(d, c, a, b, sep='')\n",
        "print(d, c, b, a, sep='')"
      ],
      "metadata": {
        "id": "BVkOeNZQSSFa"
      },
      "execution_count": null,
      "outputs": []
    },
    {
      "cell_type": "markdown",
      "source": [
        "Задание 2.7 В двухзначном числе поменять цифры так, чтобы они шли по возрастанию"
      ],
      "metadata": {
        "id": "B4aeuaqUSSW7"
      }
    },
    {
      "cell_type": "code",
      "source": [
        "num = int(input())\n",
        "b = num // 10\n",
        "a = num % 10\n",
        "print((a * 10 + b > num) * num + (a * 10 + b < num) * (a * 10 + b))"
      ],
      "metadata": {
        "id": "I7tXzxsSSqXQ",
        "colab": {
          "base_uri": "https://localhost:8080/"
        },
        "outputId": "33a7e2a7-8150-4478-a777-9cef43db0826"
      },
      "execution_count": null,
      "outputs": [
        {
          "output_type": "stream",
          "name": "stdout",
          "text": [
            "89\n",
            "89\n"
          ]
        }
      ]
    },
    {
      "cell_type": "markdown",
      "source": [
        "Задание 2.8 В трёхзначном числе поменять цифры так, чтобы они шли по возрастанию"
      ],
      "metadata": {
        "id": "bGvuoWnHSfhC"
      }
    },
    {
      "cell_type": "code",
      "source": [
        "num = int(input(\"Введите трёхзначное число\"))\n",
        "a = num // 100\n",
        "b = num // 10 % 10\n",
        "c = num % 10\n",
        "print((a < b < c) * (a * 100 + b * 10 + c) + (a < c < b) * (a * 100 + c * 10 + b) + (b < a < c) * (b * 100 + a * 10 + c) + (b < c < a) * (b * 100 + c * 10 + a) + ( c < a < b) * (c * 100 + a * 10 + b) + (c < b < a) * (c * 100 + b * 10 + a) )"
      ],
      "metadata": {
        "id": "Qo5L9ijGSp-Q"
      },
      "execution_count": null,
      "outputs": []
    },
    {
      "cell_type": "markdown",
      "source": [
        "Задание 2.9 Определить, составлено ли двухзначное число из одинаковых цифр"
      ],
      "metadata": {
        "id": "4QYflQxKSq7A"
      }
    },
    {
      "cell_type": "code",
      "source": [
        "num = int(input(\"Введите двухзначное число\"))\n",
        "a = num // 10\n",
        "b % 10\n",
        "print(a == b)"
      ],
      "metadata": {
        "id": "IMhk1mR2S0px"
      },
      "execution_count": null,
      "outputs": []
    },
    {
      "cell_type": "markdown",
      "source": [
        "Задание 2.10 Определить, есть ли в трёхзначное числе, введенном с клавиатуры, повторяющиеся цифры?"
      ],
      "metadata": {
        "id": "-C4upVbOS09I"
      }
    },
    {
      "cell_type": "code",
      "source": [
        "num = int(input(\"Введите трёхзначное число\"))\n",
        "a = num // 100\n",
        "b = num // 10 % 10\n",
        "c = num % 10\n",
        "print((a == b) or (a == c) or (b == c))"
      ],
      "metadata": {
        "id": "iIOt5o-hmNsg"
      },
      "execution_count": null,
      "outputs": []
    },
    {
      "cell_type": "markdown",
      "source": [
        "# 3 тема Условный оператор"
      ],
      "metadata": {
        "id": "CWT1BNvPGfYP"
      }
    },
    {
      "cell_type": "markdown",
      "source": [
        "Задание 3.1 В зависимости от скорости авмтомобиля рассчитать сумму штрафа:\n",
        "до 60 км/ч - 0 р. до 80 км/ч - 1000 р. до 100 км/ч - 5000 р. больше 100 км/ч - 15000 р."
      ],
      "metadata": {
        "id": "MyFkJZt9J8JA"
      }
    },
    {
      "cell_type": "code",
      "source": [
        "speed = int(input(\"Скорость автомобиля\"))\n",
        "if speed < 60:\n",
        "  print(\"Штраф не начислен.\")\n",
        "elif speed < 80:\n",
        "  print(\"Начислен штраф в размере 1000 рублей.\")\n",
        "elif speed < 100:\n",
        "  print(\"Начислен штраф в размере 5000 рублей.\")\n",
        "else:\n",
        "  print(\"Начислен штраф в размере 15000 рублей.\")"
      ],
      "metadata": {
        "id": "yhWjtE3xJ8fY"
      },
      "execution_count": null,
      "outputs": []
    },
    {
      "cell_type": "markdown",
      "source": [
        "Задание 3.2 Проверить, принадлежит ли точка к прямоугольнику x = -4 _ 8 y = 0 _ 6"
      ],
      "metadata": {
        "id": "6WbafT3bKBiy"
      }
    },
    {
      "cell_type": "code",
      "source": [
        "x = int(input(\"Введите координат x точки\"))\n",
        "y = int(input(\"Введите координат y точки\"))\n",
        "if x <= 8 and x >= -4 and y <= 6 and y >= 0:\n",
        "  print(\"Точка в прямоугольнике\")\n",
        "else:\n",
        "  print(\"Точка не в прямоугольнике\")\n"
      ],
      "metadata": {
        "id": "CYWoeTkSKBz4"
      },
      "execution_count": null,
      "outputs": []
    },
    {
      "cell_type": "markdown",
      "source": [
        "Задание 3.3 Определить по координатам точки, попадает ли она в окружность"
      ],
      "metadata": {
        "id": "YsjNEj84KJbX"
      }
    },
    {
      "cell_type": "code",
      "source": [
        "x = int(input(\"Введите координат x точки\"))\n",
        "y = int(input(\"Введите координат y точки\"))\n",
        "if (x**2 + y**2 <= 16):\n",
        "  print(\"Точка в окружности\")\n",
        "else:\n",
        "  print(\"Точка не в окружности\")"
      ],
      "metadata": {
        "id": "1MmvTaP8KJ0m"
      },
      "execution_count": null,
      "outputs": []
    },
    {
      "cell_type": "markdown",
      "source": [
        "Задание 3.4 Определить, попадает ли точка в кольцо между внутренней и внешней окружностями?"
      ],
      "metadata": {
        "id": "UDuuW06uKRIn"
      }
    },
    {
      "cell_type": "code",
      "source": [
        "x = int(input(\"Введите координат y точки\"))\n",
        "y = int(input(\"Введите координат y точки\"))\n",
        "if (x**2 + y**2 >= 16) and (x**2 + y**2 <= 64):\n",
        "  print(\"Точка в окружности\")\n",
        "else:\n",
        "  print(\"Точка не в окружности\")"
      ],
      "metadata": {
        "id": "1AaR3YlfKRkP"
      },
      "execution_count": null,
      "outputs": []
    },
    {
      "cell_type": "markdown",
      "source": [
        "Задание 3.5 Определить, попадает ли точка с координатами x, y в ромб"
      ],
      "metadata": {
        "id": "CDzVWtmpKbrW"
      }
    },
    {
      "cell_type": "code",
      "source": [
        "x = int(input(\"Введите координат y точки\"))\n",
        "y = int(input(\"Введите координат y точки\"))\n",
        "if ((y <= -x + 4) and (y >= x - 4) and (y >= -x - 4) and (y <= x + 4)):\n",
        "  print(\"Попадает\")\n",
        "else:\n",
        "  print(\"Не попадает\")"
      ],
      "metadata": {
        "id": "kFdseW-RKcA9"
      },
      "execution_count": null,
      "outputs": []
    },
    {
      "cell_type": "markdown",
      "source": [
        "3.6 Определить, попадает ли точка с координатами x, y в закрашенную область\n"
      ],
      "metadata": {
        "id": "vEJF3I5LKmjF"
      }
    },
    {
      "cell_type": "code",
      "source": [
        "x = int(input(\"Введите координат y точки\"))\n",
        "y = int(input(\"Введите координат y точки\"))\n",
        "if (((x**2 + y**2 <= 16) and (y <= 0)) or ((y > 0) and (x >= 0))):\n",
        "  print(\"Попадает\")\n",
        "else:\n",
        "  print(\"Не попадает\")"
      ],
      "metadata": {
        "colab": {
          "base_uri": "https://localhost:8080/"
        },
        "id": "L5TpkwK6Kmzd",
        "outputId": "d92f72f0-96e2-430b-cc5e-b5fe84913b2d"
      },
      "execution_count": null,
      "outputs": [
        {
          "output_type": "stream",
          "name": "stdout",
          "text": [
            "Введите координат y точки123\n",
            "Введите координат y точки14346\n",
            "Попадает\n"
          ]
        }
      ]
    },
    {
      "cell_type": "markdown",
      "source": [
        "# 4 тема вложенные условные операторы"
      ],
      "metadata": {
        "id": "dvM3LS-SGtFm"
      }
    },
    {
      "cell_type": "markdown",
      "source": [
        "Задание 4.1 Из трёх чисел определить большее"
      ],
      "metadata": {
        "id": "LzJ7IM0hTLs5"
      }
    },
    {
      "cell_type": "code",
      "source": [
        "a = float(input(\"Введите первое число: \"))\n",
        "b = float(input(\"Введите второе число: \"))\n",
        "c = float(input(\"Введите третье число: \"))\n",
        "\n",
        "maximum = max(a, b, c)\n",
        "print(\"Наибольшее число:\", maximum)"
      ],
      "metadata": {
        "id": "wliXyG4PTMA4"
      },
      "execution_count": null,
      "outputs": []
    },
    {
      "cell_type": "markdown",
      "source": [
        "Задание 4.2 Определить значение финкции, заданной кусочно-аналитически"
      ],
      "metadata": {
        "id": "HdCUKyyJTYBB"
      }
    },
    {
      "cell_type": "code",
      "source": [
        "x = float(input(\"Введите значение x: \"))\n",
        "\n",
        "if x <= -1:\n",
        "    y = x**2 + 2\n",
        "elif -1 < x < 2:\n",
        "    y = 3 * x\n",
        "else:  # x >= 2\n",
        "    y = x**3 - 4 * x\n",
        "\n",
        "print(f\"f({x}) = {y}\")"
      ],
      "metadata": {
        "id": "LZI86qOjThH6",
        "colab": {
          "base_uri": "https://localhost:8080/"
        },
        "outputId": "8d65772a-07c4-4556-9550-fc7ca2118f01"
      },
      "execution_count": null,
      "outputs": [
        {
          "output_type": "stream",
          "name": "stdout",
          "text": [
            "Введите значение x: 3\n",
            "f(3.0) = 15.0\n"
          ]
        }
      ]
    },
    {
      "cell_type": "markdown",
      "source": [
        "# 5 тема Цикл со счётчиком"
      ],
      "metadata": {
        "id": "H-29L43DGtf-"
      }
    },
    {
      "cell_type": "markdown",
      "source": [
        "Задание 5.1 Вывести надпись вертикально"
      ],
      "metadata": {
        "id": "Zb-hTGkTLM0V"
      }
    },
    {
      "cell_type": "code",
      "source": [
        "message = \"Hello, World!\"\n",
        "for i in message:\n",
        "    print(i)"
      ],
      "metadata": {
        "colab": {
          "base_uri": "https://localhost:8080/"
        },
        "id": "RAV-m2LrLNH2",
        "outputId": "14d77b27-79ea-4adf-8608-758219b7e022"
      },
      "execution_count": null,
      "outputs": [
        {
          "output_type": "stream",
          "name": "stdout",
          "text": [
            "H\n",
            "e\n",
            "l\n",
            "l\n",
            "o\n",
            ",\n",
            " \n",
            "W\n",
            "o\n",
            "r\n",
            "l\n",
            "d\n",
            "!\n"
          ]
        }
      ]
    },
    {
      "cell_type": "markdown",
      "source": [
        "Задание  5.2 Вывести n натуральных чисел, где n ввели с клавиатуры"
      ],
      "metadata": {
        "id": "yqvrb-CeLYQV"
      }
    },
    {
      "cell_type": "code",
      "source": [
        "num = int(input())\n",
        "for i in range(num):\n",
        "  print(i + 1, end = \" \")"
      ],
      "metadata": {
        "id": "n9x6XhJlLYft"
      },
      "execution_count": null,
      "outputs": []
    },
    {
      "cell_type": "markdown",
      "source": [
        "Задание 5.3 Вывести числа от a до b"
      ],
      "metadata": {
        "id": "hMT0ZkeTTtBh"
      }
    },
    {
      "cell_type": "code",
      "source": [
        "a = int(input(\"Введите начало диапазона (a): \"))\n",
        "b = int(input(\"Введите конец диапазона (b): \"))\n",
        "\n",
        "for number in range(a, b + 1):\n",
        "    print(number, end=' ')"
      ],
      "metadata": {
        "id": "51LKCV7DTj0X",
        "colab": {
          "base_uri": "https://localhost:8080/"
        },
        "outputId": "41dacf97-5f73-4c97-cb2d-54af1bd5d8a8"
      },
      "execution_count": null,
      "outputs": [
        {
          "output_type": "stream",
          "name": "stdout",
          "text": [
            "Введите начало диапазона (a): 1\n",
            "Введите конец диапазона (b): 22\n",
            "1 2 3 4 5 6 7 8 9 10 11 12 13 14 15 16 17 18 19 20 21 22 "
          ]
        }
      ]
    },
    {
      "cell_type": "markdown",
      "source": [
        "Задание 5.4 Выведите таблицы умножения для от 1 до 10 с помощью циклов for"
      ],
      "metadata": {
        "id": "ut7b_xDkTyMv"
      }
    },
    {
      "cell_type": "code",
      "source": [
        "for i in range(1, 11):\n",
        "    print(f\"\\nТаблица умножения на {i}:\")\n",
        "    print(\"-\" * 20)\n",
        "\n",
        "    for j in range(1, 11):\n",
        "        print(f\"{i} x {j} = {i * j}\")"
      ],
      "metadata": {
        "id": "XIPaMYRGUAjI",
        "colab": {
          "base_uri": "https://localhost:8080/"
        },
        "outputId": "c1bcef61-ecc6-4bda-bf7a-65292b437e36"
      },
      "execution_count": null,
      "outputs": [
        {
          "output_type": "stream",
          "name": "stdout",
          "text": [
            "\n",
            "Таблица умножения на 1:\n",
            "--------------------\n",
            "1 x 1 = 1\n",
            "1 x 2 = 2\n",
            "1 x 3 = 3\n",
            "1 x 4 = 4\n",
            "1 x 5 = 5\n",
            "1 x 6 = 6\n",
            "1 x 7 = 7\n",
            "1 x 8 = 8\n",
            "1 x 9 = 9\n",
            "1 x 10 = 10\n",
            "\n",
            "Таблица умножения на 2:\n",
            "--------------------\n",
            "2 x 1 = 2\n",
            "2 x 2 = 4\n",
            "2 x 3 = 6\n",
            "2 x 4 = 8\n",
            "2 x 5 = 10\n",
            "2 x 6 = 12\n",
            "2 x 7 = 14\n",
            "2 x 8 = 16\n",
            "2 x 9 = 18\n",
            "2 x 10 = 20\n",
            "\n",
            "Таблица умножения на 3:\n",
            "--------------------\n",
            "3 x 1 = 3\n",
            "3 x 2 = 6\n",
            "3 x 3 = 9\n",
            "3 x 4 = 12\n",
            "3 x 5 = 15\n",
            "3 x 6 = 18\n",
            "3 x 7 = 21\n",
            "3 x 8 = 24\n",
            "3 x 9 = 27\n",
            "3 x 10 = 30\n",
            "\n",
            "Таблица умножения на 4:\n",
            "--------------------\n",
            "4 x 1 = 4\n",
            "4 x 2 = 8\n",
            "4 x 3 = 12\n",
            "4 x 4 = 16\n",
            "4 x 5 = 20\n",
            "4 x 6 = 24\n",
            "4 x 7 = 28\n",
            "4 x 8 = 32\n",
            "4 x 9 = 36\n",
            "4 x 10 = 40\n",
            "\n",
            "Таблица умножения на 5:\n",
            "--------------------\n",
            "5 x 1 = 5\n",
            "5 x 2 = 10\n",
            "5 x 3 = 15\n",
            "5 x 4 = 20\n",
            "5 x 5 = 25\n",
            "5 x 6 = 30\n",
            "5 x 7 = 35\n",
            "5 x 8 = 40\n",
            "5 x 9 = 45\n",
            "5 x 10 = 50\n",
            "\n",
            "Таблица умножения на 6:\n",
            "--------------------\n",
            "6 x 1 = 6\n",
            "6 x 2 = 12\n",
            "6 x 3 = 18\n",
            "6 x 4 = 24\n",
            "6 x 5 = 30\n",
            "6 x 6 = 36\n",
            "6 x 7 = 42\n",
            "6 x 8 = 48\n",
            "6 x 9 = 54\n",
            "6 x 10 = 60\n",
            "\n",
            "Таблица умножения на 7:\n",
            "--------------------\n",
            "7 x 1 = 7\n",
            "7 x 2 = 14\n",
            "7 x 3 = 21\n",
            "7 x 4 = 28\n",
            "7 x 5 = 35\n",
            "7 x 6 = 42\n",
            "7 x 7 = 49\n",
            "7 x 8 = 56\n",
            "7 x 9 = 63\n",
            "7 x 10 = 70\n",
            "\n",
            "Таблица умножения на 8:\n",
            "--------------------\n",
            "8 x 1 = 8\n",
            "8 x 2 = 16\n",
            "8 x 3 = 24\n",
            "8 x 4 = 32\n",
            "8 x 5 = 40\n",
            "8 x 6 = 48\n",
            "8 x 7 = 56\n",
            "8 x 8 = 64\n",
            "8 x 9 = 72\n",
            "8 x 10 = 80\n",
            "\n",
            "Таблица умножения на 9:\n",
            "--------------------\n",
            "9 x 1 = 9\n",
            "9 x 2 = 18\n",
            "9 x 3 = 27\n",
            "9 x 4 = 36\n",
            "9 x 5 = 45\n",
            "9 x 6 = 54\n",
            "9 x 7 = 63\n",
            "9 x 8 = 72\n",
            "9 x 9 = 81\n",
            "9 x 10 = 90\n",
            "\n",
            "Таблица умножения на 10:\n",
            "--------------------\n",
            "10 x 1 = 10\n",
            "10 x 2 = 20\n",
            "10 x 3 = 30\n",
            "10 x 4 = 40\n",
            "10 x 5 = 50\n",
            "10 x 6 = 60\n",
            "10 x 7 = 70\n",
            "10 x 8 = 80\n",
            "10 x 9 = 90\n",
            "10 x 10 = 100\n"
          ]
        }
      ]
    },
    {
      "cell_type": "markdown",
      "source": [
        "Задание 5.5 Напишите программу которая выводит прямоугольник из звёдочек(*), используя вложенные циклы for. Размеры прямоугольника должны быть заданы переменными wigth и height, которые вводятся с клавиатуры"
      ],
      "metadata": {
        "id": "TdEGUBRdUA4_"
      }
    },
    {
      "cell_type": "code",
      "source": [
        "width = int(input(\"Введите ширину прямоугольника: \"))\n",
        "height = int(input(\"Введите высоту прямоугольника: \"))\n",
        "\n",
        "\n",
        "for i in range(height):\n",
        "    for j in range(width):\n",
        "        print('*', end='')\n",
        "    print()"
      ],
      "metadata": {
        "id": "F57ZvDNQUZRP",
        "colab": {
          "base_uri": "https://localhost:8080/"
        },
        "outputId": "20e7c2c5-6905-476e-8ba7-b84da3a9a1a6"
      },
      "execution_count": null,
      "outputs": [
        {
          "output_type": "stream",
          "name": "stdout",
          "text": [
            "Введите ширину прямоугольника: 5\n",
            "Введите высоту прямоугольника: 10\n",
            "*****\n",
            "*****\n",
            "*****\n",
            "*****\n",
            "*****\n",
            "*****\n",
            "*****\n",
            "*****\n",
            "*****\n",
            "*****\n"
          ]
        }
      ]
    },
    {
      "cell_type": "markdown",
      "source": [
        "Задание 5.6 Напишите программу, которая выводит здвёдочки \"косынкой\": в первой строке 1 звёздочка, во второй - две и так далее, до N"
      ],
      "metadata": {
        "id": "WyhwbwysUXc4"
      }
    },
    {
      "cell_type": "code",
      "source": [
        "n = int(input(\"Введите число N: \"))\n",
        "\n",
        "for i in range(1, n + 1):\n",
        "    print('*' * i)"
      ],
      "metadata": {
        "id": "5rfdHd1vUYTX",
        "colab": {
          "base_uri": "https://localhost:8080/"
        },
        "outputId": "3cbfeccc-379e-4ed3-d662-3f609c3eaa16"
      },
      "execution_count": null,
      "outputs": [
        {
          "output_type": "stream",
          "name": "stdout",
          "text": [
            "Введите число N: 3\n",
            "*\n",
            "**\n",
            "***\n"
          ]
        }
      ]
    },
    {
      "cell_type": "markdown",
      "source": [
        "Задание 5.7 Напишите программу, которая выводит шахматную доску размером в 8х8 с рамкой"
      ],
      "metadata": {
        "id": "FRb99n2lVIGA"
      }
    },
    {
      "cell_type": "code",
      "source": [
        "def print_chess_board():\n",
        "    print(\"╔\" + \"═══╦\" * 7 + \"═══╗\")\n",
        "\n",
        "    for row in range(8):\n",
        "        print(\"║\", end=\"\")\n",
        "        for col in range(8):\n",
        "            cell = \"███\" if (row + col) % 2 == 0 else \"   \"\n",
        "            print(cell, end=\"║\")\n",
        "        print()\n",
        "\n",
        "        if row < 7:\n",
        "            print(\"╠\" + \"═══╬\" * 7 + \"═══╣\")\n",
        "\n",
        "    print(\"╚\" + \"═══╩\" * 7 + \"═══╝\")\n",
        "\n",
        "print_chess_board()"
      ],
      "metadata": {
        "id": "8tt4z7hYVS_3",
        "colab": {
          "base_uri": "https://localhost:8080/"
        },
        "outputId": "86b2d570-933e-43d5-aa4f-1ebae2a27a4d"
      },
      "execution_count": null,
      "outputs": [
        {
          "output_type": "stream",
          "name": "stdout",
          "text": [
            "╔═══╦═══╦═══╦═══╦═══╦═══╦═══╦═══╗\n",
            "║███║   ║███║   ║███║   ║███║   ║\n",
            "╠═══╬═══╬═══╬═══╬═══╬═══╬═══╬═══╣\n",
            "║   ║███║   ║███║   ║███║   ║███║\n",
            "╠═══╬═══╬═══╬═══╬═══╬═══╬═══╬═══╣\n",
            "║███║   ║███║   ║███║   ║███║   ║\n",
            "╠═══╬═══╬═══╬═══╬═══╬═══╬═══╬═══╣\n",
            "║   ║███║   ║███║   ║███║   ║███║\n",
            "╠═══╬═══╬═══╬═══╬═══╬═══╬═══╬═══╣\n",
            "║███║   ║███║   ║███║   ║███║   ║\n",
            "╠═══╬═══╬═══╬═══╬═══╬═══╬═══╬═══╣\n",
            "║   ║███║   ║███║   ║███║   ║███║\n",
            "╠═══╬═══╬═══╬═══╬═══╬═══╬═══╬═══╣\n",
            "║███║   ║███║   ║███║   ║███║   ║\n",
            "╠═══╬═══╬═══╬═══╬═══╬═══╬═══╬═══╣\n",
            "║   ║███║   ║███║   ║███║   ║███║\n",
            "╚═══╩═══╩═══╩═══╩═══╩═══╩═══╩═══╝\n"
          ]
        }
      ]
    },
    {
      "cell_type": "markdown",
      "source": [
        "  Задание 5.8 Напишите программу, которая выводит прямоугольник nxm звёздочек, окружённый рамкой из символов \"-\",\"|\",\"+\""
      ],
      "metadata": {
        "id": "wkZDBjRsVTQW"
      }
    },
    {
      "cell_type": "code",
      "source": [
        "n = int(input(\"Введите высоту прямоугольника (n): \"))\n",
        "m = int(input(\"Введите ширину прямоугольника (m): \"))\n",
        "\n",
        "print(\"+\" + \"-\" * m + \"+\")\n",
        "\n",
        "for _ in range(n):\n",
        "    print(\"|\" + \"*\" * m + \"|\")\n",
        "\n",
        "print(\"+\" + \"-\" * m + \"+\")"
      ],
      "metadata": {
        "id": "ZX0jxRUoVott",
        "colab": {
          "base_uri": "https://localhost:8080/"
        },
        "outputId": "b3a6eb7b-33de-4d21-a071-3c527b519590"
      },
      "execution_count": null,
      "outputs": [
        {
          "output_type": "stream",
          "name": "stdout",
          "text": [
            "Введите высоту прямоугольника (n): 3\n",
            "Введите ширину прямоугольника (m): 4\n",
            "+----+\n",
            "|****|\n",
            "|****|\n",
            "|****|\n",
            "+----+\n"
          ]
        }
      ]
    },
    {
      "cell_type": "markdown",
      "source": [
        "Задание 5.9 Напишите программу, которая выводит квадратную матрицу, заполненая случайными числами в диапазоне от 10 до 99"
      ],
      "metadata": {
        "id": "B269upm3VnoM"
      }
    },
    {
      "cell_type": "code",
      "source": [
        "import random\n",
        "\n",
        "def generate_random_matrix(size):\n",
        "    return [[random.randint(10, 99) for _ in range(size)] for _ in range(size)]\n",
        "\n",
        "def print_matrix(matrix):\n",
        "    for row in matrix:\n",
        "        print(' '.join(f'{num:2d}' for num in row))\n",
        "\n",
        "n = int(input(\"Введите размер квадратной матрицы: \"))\n",
        "\n",
        "matrix = generate_random_matrix(n)\n",
        "print(\"\\nСгенерированная матрица:\")\n",
        "print_matrix(matrix)"
      ],
      "metadata": {
        "id": "CTZLGxxVVpxd",
        "colab": {
          "base_uri": "https://localhost:8080/"
        },
        "outputId": "c49fa9df-8f19-4e4c-f05b-80f455a5641c"
      },
      "execution_count": null,
      "outputs": [
        {
          "output_type": "stream",
          "name": "stdout",
          "text": [
            "Введите размер квадратной матрицы: 20\n",
            "\n",
            "Сгенерированная матрица:\n",
            "59 38 16 54 82 33 49 77 13 47 68 51 24 20 31 62 20 73 44 13\n",
            "84 93 11 21 23 79 59 18 17 66 15 86 69 65 28 32 71 10 85 43\n",
            "27 22 59 40 74 61 61 92 54 33 74 50 78 58 78 98 11 80 29 35\n",
            "59 12 22 77 57 47 31 58 18 90 54 64 37 79 77 96 95 86 91 29\n",
            "99 72 86 74 19 65 52 80 36 91 61 76 62 92 93 89 50 63 27 81\n",
            "99 57 32 58 24 83 47 99 79 30 71 79 12 35 97 66 53 62 59 73\n",
            "81 61 75 51 30 89 71 20 12 38 76 22 35 79 78 33 62 70 51 94\n",
            "22 97 57 56 73 90 35 18 48 17 83 41 88 65 65 92 61 37 26 95\n",
            "99 39 24 77 66 14 30 33 75 76 93 67 34 31 81 94 32 43 21 18\n",
            "76 58 44 45 11 48 10 68 20 58 92 87 25 87 76 45 22 40 69 61\n",
            "66 28 33 95 60 85 96 29 29 97 88 77 54 63 20 55 85 23 33 58\n",
            "58 19 31 41 68 97 86 12 75 99 61 19 22 48 98 74 11 51 52 34\n",
            "92 52 41 92 75 65 12 13 52 47 38 39 34 94 75 22 98 26 23 79\n",
            "90 99 42 63 73 56 44 48 69 89 61 83 36 40 80 76 54 66 80 14\n",
            "23 71 89 82 59 24 28 40 92 47 60 95 83 66 64 40 12 63 80 67\n",
            "77 80 24 32 73 26 57 11 46 42 50 70 86 54 87 23 83 45 81 15\n",
            "28 62 99 96 89 73 23 18 43 54 17 86 51 39 86 23 99 53 56 53\n",
            "11 96 99 26 45 72 64 36 39 82 94 48 94 68 72 61 71 26 61 50\n",
            "81 84 68 21 58 86 95 83 54 13 28 68 75 30 44 14 77 86 33 40\n",
            "43 33 10 51 65 70 75 46 52 40 45 68 25 64 98 59 37 41 38 49\n"
          ]
        }
      ]
    },
    {
      "cell_type": "markdown",
      "source": [
        "Задание 5.10 Напишите программу, которая выводит квадратную матрицу, заполненную случайными числами в диапазоне от 10 до 99. Чётные числа заменить нулями"
      ],
      "metadata": {
        "id": "XpWy4q1XV2az"
      }
    },
    {
      "cell_type": "code",
      "source": [
        "import random\n",
        "\n",
        "def generate_and_modify_matrix(size):\n",
        "    matrix = [[random.randint(10, 99) for _ in range(size)] for _ in range(size)]\n",
        "\n",
        "    # Заменяем четные числа на 0\n",
        "    modified_matrix = [[num if num % 2 != 0 else 0 for num in row] for row in matrix]\n",
        "\n",
        "    return matrix, modified_matrix\n",
        "\n",
        "def print_matrix(matrix, title):\n",
        "    print(f\"\\n{title}:\")\n",
        "    for row in matrix:\n",
        "        print(' '.join(f'{num:2d}' for num in row))\n",
        "\n",
        "n = int(input(\"Введите размер квадратной матрицы: \"))\n",
        "\n",
        "# Генерируем и модифицируем матрицу\n",
        "original, modified = generate_and_modify_matrix(n)\n",
        "\n",
        "print_matrix(modified, \"Модифицированная матрица (четные заменены на 0)\")"
      ],
      "metadata": {
        "id": "nxpd5CNNWIoz",
        "colab": {
          "base_uri": "https://localhost:8080/"
        },
        "outputId": "3c6177b7-5a93-4748-c44e-1dddd14627eb"
      },
      "execution_count": null,
      "outputs": [
        {
          "output_type": "stream",
          "name": "stdout",
          "text": [
            "Введите размер квадратной матрицы: 5\n",
            "\n",
            "Модифицированная матрица (четные заменены на 0):\n",
            " 0  0 69  0  0\n",
            " 0 51  0 89  0\n",
            "43 81 55  0  0\n",
            "29  0  0 19 47\n",
            "25  0  0  0 23\n"
          ]
        }
      ]
    },
    {
      "cell_type": "markdown",
      "source": [
        "# 6 тема Условный цикл While"
      ],
      "metadata": {
        "id": "8BdiiThWGt32"
      }
    },
    {
      "cell_type": "markdown",
      "source": [
        "Задачи 6.1 Напишите программу, которая вычисляет и выводит факториал заданного числа с помощью цикла while"
      ],
      "metadata": {
        "id": "17sS_XTvYxVp"
      }
    },
    {
      "cell_type": "code",
      "source": [
        "n = int(input(\"\"))\n",
        "factorial = 1\n",
        "i = 1\n",
        "while i <= n:\n",
        "    factorial *= i\n",
        "    i += 1\n",
        "print(f\"Факториал числа {n} равен {factorial}\")"
      ],
      "metadata": {
        "id": "f94TL7FoYxqp",
        "colab": {
          "base_uri": "https://localhost:8080/"
        },
        "outputId": "dfd079f8-2da8-41c6-b47c-5d4b9f75ea8a"
      },
      "execution_count": null,
      "outputs": [
        {
          "output_type": "stream",
          "name": "stdout",
          "text": [
            "4\n",
            "Факториал числа 4 равен 24\n"
          ]
        }
      ]
    },
    {
      "cell_type": "markdown",
      "source": [
        "Задание 6.2 Вычислите N простых чисел, N вводится с клавиатуры"
      ],
      "metadata": {
        "id": "clWy8b0SZEta"
      }
    },
    {
      "cell_type": "code",
      "source": [
        "def is_prime(num):\n",
        "    \"\"\"Проверяет, является ли число простым\"\"\"\n",
        "    if num < 2:\n",
        "        return False\n",
        "    i = 2\n",
        "    while i * i <= num:\n",
        "        if num % i == 0:\n",
        "            return False\n",
        "        i += 1\n",
        "    return True\n",
        "\n",
        "n = int(input(\"Введите количество простых чисел N: \"))\n",
        "\n",
        "# Инициализация переменных\n",
        "primes = []\n",
        "current_num = 2\n",
        "\n",
        "while len(primes) < n:\n",
        "    if is_prime(current_num):\n",
        "        primes.append(current_num)\n",
        "    current_num += 1\n",
        "\n",
        "print(f\"Первые {n} простых чисел:\")\n",
        "print(primes)"
      ],
      "metadata": {
        "id": "maKMPnmbZNNk",
        "colab": {
          "base_uri": "https://localhost:8080/"
        },
        "outputId": "dcb48a12-5f9c-4604-ae88-8d343f495b51"
      },
      "execution_count": null,
      "outputs": [
        {
          "output_type": "stream",
          "name": "stdout",
          "text": [
            "Введите количество простых чисел N: 5\n",
            "Первые 5 простых чисел:\n",
            "[2, 3, 5, 7, 11]\n"
          ]
        }
      ]
    },
    {
      "cell_type": "markdown",
      "source": [
        "Задание 6.3 С клавиатуры вводят последовательность целых чисел, которая оканчивается нулем. Найти а) Сумму всех чисел последовательности, б) количество всех чисел последовательности"
      ],
      "metadata": {
        "id": "v-pGOpXbZNdc"
      }
    },
    {
      "cell_type": "code",
      "source": [
        "sum_numbers = 0\n",
        "count_numbers = 0\n",
        "\n",
        "print(\"Вводите целые числа (0 для окончания ввода):\")\n",
        "\n",
        "while True:\n",
        "    num = int(input(\"> \"))\n",
        "    if num == 0:\n",
        "        break  # Выход из цикла при вводе 0\n",
        "\n",
        "    sum_numbers += num  # Добавляем число к сумме\n",
        "    count_numbers += 1\n",
        "print(\"\\nРезультаты:\")\n",
        "print(f\"а) Сумма всех чисел: {sum_numbers}\")\n",
        "print(f\"б) Количество всех чисел: {count_numbers}\")"
      ],
      "metadata": {
        "id": "Wcy8Vd0sZN1L",
        "colab": {
          "base_uri": "https://localhost:8080/"
        },
        "outputId": "8d546ba7-e9e7-4a2b-f640-029852d82e89"
      },
      "execution_count": null,
      "outputs": [
        {
          "output_type": "stream",
          "name": "stdout",
          "text": [
            "Вводите целые числа (0 для окончания ввода):\n",
            "> 2\n",
            "> 3\n",
            "> 4\n",
            "> 5\n",
            "> 6\n",
            "> 7\n",
            "> 0\n",
            "\n",
            "Результаты:\n",
            "а) Сумма всех чисел: 27\n",
            "б) Количество всех чисел: 6\n"
          ]
        }
      ]
    },
    {
      "cell_type": "markdown",
      "source": [
        "Задача 6.4 С клавиатуры вводят последовательность неотрицательных целых чисел, котоаря оканчивается отрицательным числом. Найти среднее арифметическое всех чисел последовательности без учёта отрицательного числа"
      ],
      "metadata": {
        "id": "6OUqe7tBZeg7"
      }
    },
    {
      "cell_type": "code",
      "source": [
        "sum_numbers = 0\n",
        "count = 0\n",
        "\n",
        "print(\"Вводите неотрицательные целые числа (для завершения введите отрицательное число):\")\n",
        "\n",
        "while True:\n",
        "    num = int(input(\"> \"))\n",
        "    if num < 0:\n",
        "        break  # Завершаем цикл при вводе отрицательного числа\n",
        "    sum_numbers += num\n",
        "    count += 167\n",
        "\n",
        "if count > 0:\n",
        "    average = sum_numbers / count\n",
        "    print(f\"\\nСреднее арифметическое: {average:.2f}\")\n",
        "else:\n",
        "    print(\"\\nНе введено ни одного неотрицательного числа\")"
      ],
      "metadata": {
        "id": "IIFhbbZOZxeq",
        "colab": {
          "base_uri": "https://localhost:8080/"
        },
        "outputId": "f62e94e7-9a8c-41ec-c0bf-c4f3ebd53930"
      },
      "execution_count": null,
      "outputs": [
        {
          "output_type": "stream",
          "name": "stdout",
          "text": [
            "Вводите неотрицательные целые числа (для завершения введите отрицательное число):\n",
            "> 2\n",
            "> 3\n",
            "> 4\n",
            "> 5\n",
            "> 6\n",
            "> 7\n",
            "> 0\n",
            "> -1\n",
            "\n",
            "Среднее арифметическое: 0.02\n"
          ]
        }
      ]
    },
    {
      "cell_type": "markdown",
      "source": [
        "Задание 6.5 Среди числе 1, 4, 9, 16, 25, ... найти первое число, большее n, которое ввели с клавиатуры"
      ],
      "metadata": {
        "id": "WEgbOps7Zwd7"
      }
    },
    {
      "cell_type": "code",
      "source": [
        "n = int(input(\"Введите число n: \"))\n",
        "k = 1\n",
        "\n",
        "while True:\n",
        "    square = k * k  # Вычисляем квадрат числа\n",
        "    if square > n:\n",
        "        print(f\"Первое число в последовательности квадратов, большее {n}: {square}\")\n",
        "        break\n",
        "    k += 1"
      ],
      "metadata": {
        "id": "vSPsOLCtZzLC",
        "colab": {
          "base_uri": "https://localhost:8080/"
        },
        "outputId": "0aeef7c6-751b-448b-ab91-23cb827116ee"
      },
      "execution_count": null,
      "outputs": [
        {
          "output_type": "stream",
          "name": "stdout",
          "text": [
            "Введите число n: 12\n",
            "Первое число в последовательности квадратов, большее 12: 16\n"
          ]
        }
      ]
    },
    {
      "cell_type": "markdown",
      "source": [
        "Задание 6.6 Дано вещественное число а. Найти такое наименьшее n, что сумма гармонического ряда больше а"
      ],
      "metadata": {
        "id": "rvQj3_wjZ0sy"
      }
    },
    {
      "cell_type": "code",
      "source": [
        "a = float(input(\"Введите вещественное число a: \"))\n",
        "sum_harmonic = 0.0\n",
        "n = 0\n",
        "\n",
        "while sum_harmonic <= a:\n",
        "    n += 1\n",
        "    sum_harmonic += 1 / n\n",
        "\n",
        "print(f\"Наименьшее n, при котором сумма гармонического ряда > {a}: {n}\")\n",
        "print(f\"Сумма первых {n} членов: {sum_harmonic:.6f}\")"
      ],
      "metadata": {
        "id": "dn_qbyw6Zxqy",
        "colab": {
          "base_uri": "https://localhost:8080/"
        },
        "outputId": "72289e99-13be-4f84-c589-c82015ed45fb"
      },
      "execution_count": null,
      "outputs": [
        {
          "output_type": "stream",
          "name": "stdout",
          "text": [
            "Введите вещественное число a: 2\n",
            "Наименьшее n, при котором сумма гармонического ряда > 2.0: 4\n",
            "Сумма первых 4 членов: 2.083333\n"
          ]
        }
      ]
    },
    {
      "cell_type": "markdown",
      "source": [
        "Задание 6.7 Последовательность Фибоначчи образуется так: первый и второй члены последовательности равны 1, каждый следующий равен сумме двух предыдущих (1, 1, 2, 3, 5, 8, 13..) Найти: а) первое число в последовательности Фибоначчи, большее n (значение n вводится с клавиатуры: n > 1), б) Сумма всех чисел в последовательности Фибоначчи, которые не превосходят 1000"
      ],
      "metadata": {
        "id": "PNvdTBAeaQxJ"
      }
    },
    {
      "cell_type": "code",
      "source": [
        "# Часть а)\n",
        "n = int(input(\"Введите число n (>1): \"))\n",
        "a, b = 1, 1\n",
        "\n",
        "while b <= n:\n",
        "    a, b = b, a + b\n",
        "\n",
        "print(f\"а) Первое число Фибоначчи, большее {n}: {b}\")\n",
        "\n",
        "# Часть б)\n",
        "sum_fib = 0\n",
        "a, b = 1, 1\n",
        "\n",
        "while a <= 1000:\n",
        "    sum_fib += a\n",
        "    a, b = b, a + b\n",
        "\n",
        "print(f\"б) Сумма чисел Фибоначчи ≤ 1000: {sum_fib}\")"
      ],
      "metadata": {
        "id": "zLs0kD9CaRAJ",
        "colab": {
          "base_uri": "https://localhost:8080/"
        },
        "outputId": "1d8b311b-2326-406d-f215-1907916c1ab9"
      },
      "execution_count": null,
      "outputs": [
        {
          "output_type": "stream",
          "name": "stdout",
          "text": [
            "Введите число n (>1): 4\n",
            "а) Первое число Фибоначчи, большее 4: 5\n",
            "б) Сумма чисел Фибоначчи ≤ 1000: 2583\n"
          ]
        }
      ]
    },
    {
      "cell_type": "markdown",
      "source": [
        "# 7 тема. Списки"
      ],
      "metadata": {
        "id": "PJYRvgxkGwyu"
      }
    },
    {
      "cell_type": "markdown",
      "source": [
        "Задание 7.1 Создать список дней недели и вывести его. а) вывести только рабочие дни, б) вывести только нечётные дни недели, в) вывести его в обратном порядке"
      ],
      "metadata": {
        "id": "r9AFvaywbZ_X"
      }
    },
    {
      "cell_type": "code",
      "source": [
        "d = ['Понедельник', 'Вторник', 'Среда', 'Четверг', 'Пятница', 'Суббота', 'Воскресенье']\n",
        "\n",
        "print(\"Полный список дней недели:\")\n",
        "print(d)\n",
        "# а)\n",
        "print(\"\\nа) Рабочие дни:\")\n",
        "print(d[:5])  # или days[0:5]\n",
        "# б)\n",
        "print(\"\\nб) Нечётные дни недели (по индексу):\")\n",
        "print(d[1::2])  # индексы 1, 3, 5\n",
        "# в)\n",
        "print(\"\\nв) Дни недели в обратном порядке:\")\n",
        "print(d[::-1])"
      ],
      "metadata": {
        "id": "7aeILSs_baRf",
        "colab": {
          "base_uri": "https://localhost:8080/"
        },
        "outputId": "81f0ec01-3e36-4291-fe14-8d5937001552"
      },
      "execution_count": null,
      "outputs": [
        {
          "output_type": "stream",
          "name": "stdout",
          "text": [
            "Полный список дней недели:\n",
            "['Понедельник', 'Вторник', 'Среда', 'Четверг', 'Пятница', 'Суббота', 'Воскресенье']\n",
            "\n",
            "а) Рабочие дни:\n",
            "['Понедельник', 'Вторник', 'Среда', 'Четверг', 'Пятница']\n",
            "\n",
            "б) Нечётные дни недели (по индексу):\n",
            "['Вторник', 'Четверг', 'Суббота']\n",
            "\n",
            "в) Дни недели в обратном порядке:\n",
            "['Воскресенье', 'Суббота', 'Пятница', 'Четверг', 'Среда', 'Вторник', 'Понедельник']\n"
          ]
        }
      ]
    },
    {
      "cell_type": "markdown",
      "source": [
        "Задание 7.2 Создать список месяцев года. Вывести только летние месяцы. Вывести только чётные месяцы. Вывести его в обратном порядке"
      ],
      "metadata": {
        "id": "sL4QK64FbqiW"
      }
    },
    {
      "cell_type": "code",
      "source": [
        "months = ['Январь', 'Февраль', 'Март', 'Апрель', 'Май', 'Июнь',\n",
        "          'Июль', 'Август', 'Сентябрь', 'Октябрь', 'Ноябрь', 'Декабрь']\n",
        "\n",
        "print(\"Все месяцы года:\")\n",
        "print(months)\n",
        "# а)\n",
        "print(\"\\nа) Летние месяцы:\")\n",
        "print(months[5:8])\n",
        "# б)\n",
        "print(\"\\nб) Чётные месяцы:\")\n",
        "print(months[1::2])\n",
        "# в)\n",
        "print(\"\\nв) Месяцы в обратном порядке:\")\n",
        "print(months[::-1])"
      ],
      "metadata": {
        "id": "G4FefEElb6q-",
        "colab": {
          "base_uri": "https://localhost:8080/"
        },
        "outputId": "6d04bfc5-cf45-4e64-fb1d-1b60942c6606"
      },
      "execution_count": null,
      "outputs": [
        {
          "output_type": "stream",
          "name": "stdout",
          "text": [
            "Все месяцы года:\n",
            "['Январь', 'Февраль', 'Март', 'Апрель', 'Май', 'Июнь', 'Июль', 'Август', 'Сентябрь', 'Октябрь', 'Ноябрь', 'Декабрь']\n",
            "\n",
            "а) Летние месяцы:\n",
            "['Июнь', 'Июль', 'Август']\n",
            "\n",
            "б) Чётные месяцы:\n",
            "['Февраль', 'Апрель', 'Июнь', 'Август', 'Октябрь', 'Декабрь']\n",
            "\n",
            "в) Месяцы в обратном порядке:\n",
            "['Декабрь', 'Ноябрь', 'Октябрь', 'Сентябрь', 'Август', 'Июль', 'Июнь', 'Май', 'Апрель', 'Март', 'Февраль', 'Январь']\n"
          ]
        }
      ]
    },
    {
      "cell_type": "markdown",
      "source": [
        "Задание 7.3 Создать список из буквенной последовательности qwertyuiop"
      ],
      "metadata": {
        "id": "2J7Dx1n2b682"
      }
    },
    {
      "cell_type": "code",
      "source": [
        "letters = list('qwertyuiop')\n",
        "\n",
        "print(\"Исходный список букв:\")\n",
        "print(letters)\n",
        "print(\"\\nПервые 5 букв:\")\n",
        "print(letters[:5])\n",
        "print(\"\\nСписок в обратном порядке:\")\n",
        "print(letters[::-1])\n",
        "print(\"\\nОбратно в строку:\")\n",
        "print(''.join(letters))"
      ],
      "metadata": {
        "id": "pBXOHkZicDx9",
        "colab": {
          "base_uri": "https://localhost:8080/"
        },
        "outputId": "d00218a3-1c9a-4f6e-cec9-0a8c2a1c02d3"
      },
      "execution_count": null,
      "outputs": [
        {
          "output_type": "stream",
          "name": "stdout",
          "text": [
            "Исходный список букв:\n",
            "['q', 'w', 'e', 'r', 't', 'y', 'u', 'i', 'o', 'p']\n",
            "\n",
            "Первые 5 букв:\n",
            "['q', 'w', 'e', 'r', 't']\n",
            "\n",
            "Список в обратном порядке:\n",
            "['p', 'o', 'i', 'u', 'y', 't', 'r', 'e', 'w', 'q']\n",
            "\n",
            "Обратно в строку:\n",
            "qwertyuiop\n"
          ]
        }
      ]
    },
    {
      "cell_type": "markdown",
      "source": [
        "Задание 7.4 Создать список, состоящий из первых 20 натульральных чисел"
      ],
      "metadata": {
        "id": "Om7LlNFecEDM"
      }
    },
    {
      "cell_type": "code",
      "source": [
        "natural_numbers = list(range(1, 21))\n",
        "print(\"Список первых 20 натуральных чисел:\")\n",
        "print(natural_numbers)\n"
      ],
      "metadata": {
        "id": "76Jr8Vz5cLot",
        "colab": {
          "base_uri": "https://localhost:8080/"
        },
        "outputId": "3f233a73-9ecc-4f3c-ac19-8cdf5e2e79b9"
      },
      "execution_count": null,
      "outputs": [
        {
          "output_type": "stream",
          "name": "stdout",
          "text": [
            "Список первых 20 натуральных чисел:\n",
            "[1, 2, 3, 4, 5, 6, 7, 8, 9, 10, 11, 12, 13, 14, 15, 16, 17, 18, 19, 20]\n"
          ]
        }
      ]
    },
    {
      "cell_type": "markdown",
      "source": [
        "Задание 7.5 Создать список из нечётных чисел, 30 штук"
      ],
      "metadata": {
        "id": "-cbEAXr4cL7F"
      }
    },
    {
      "cell_type": "code",
      "source": [
        "odd_numbers = [2*i + 1 for i in range(30)]\n",
        "print(odd_numbers)"
      ],
      "metadata": {
        "id": "VtohjprVcY-V",
        "colab": {
          "base_uri": "https://localhost:8080/"
        },
        "outputId": "75693b45-ec75-438a-988f-2defe401d64e"
      },
      "execution_count": null,
      "outputs": [
        {
          "output_type": "stream",
          "name": "stdout",
          "text": [
            "[1, 3, 5, 7, 9, 11, 13, 15, 17, 19, 21, 23, 25, 27, 29, 31, 33, 35, 37, 39, 41, 43, 45, 47, 49, 51, 53, 55, 57, 59]\n"
          ]
        }
      ]
    },
    {
      "cell_type": "markdown",
      "source": [
        "Задание 7.6 Определить длину списка"
      ],
      "metadata": {
        "id": "-VhTORcucZc8"
      }
    },
    {
      "cell_type": "code",
      "source": [
        "odd_numbers = [2*i + 1 for i in range(30)]\n",
        "print(len(odd_numbers))"
      ],
      "metadata": {
        "id": "LbpCX9N8cb-U",
        "colab": {
          "base_uri": "https://localhost:8080/"
        },
        "outputId": "cc833052-8aea-42e6-c42e-f0004107a176"
      },
      "execution_count": null,
      "outputs": [
        {
          "output_type": "stream",
          "name": "stdout",
          "text": [
            "30\n"
          ]
        }
      ]
    },
    {
      "cell_type": "markdown",
      "source": [
        "Задание 7.7 Вывести список с помощью цикла"
      ],
      "metadata": {
        "id": "CI7r7jancguU"
      }
    },
    {
      "cell_type": "code",
      "source": [
        "odd_numbers = [2 * i + 1 for i in range(30)]\n",
        "i = 0\n",
        "while i < len(odd_numbers):\n",
        "    print(odd_numbers[i], end=' ')\n",
        "    i += 1"
      ],
      "metadata": {
        "id": "EywvJnGMckzz",
        "colab": {
          "base_uri": "https://localhost:8080/"
        },
        "outputId": "50e7ae99-0a5f-48f6-a523-00a4914b45ea"
      },
      "execution_count": null,
      "outputs": [
        {
          "output_type": "stream",
          "name": "stdout",
          "text": [
            "1 3 5 7 9 11 13 15 17 19 21 23 25 27 29 31 33 35 37 39 41 43 45 47 49 51 53 55 57 59 "
          ]
        }
      ]
    },
    {
      "cell_type": "markdown",
      "source": [
        "Задание 7.8 Ввести список с клавиатуры, сначала вводится количество элементов списка"
      ],
      "metadata": {
        "id": "T6ilXBhIclMN"
      }
    },
    {
      "cell_type": "code",
      "source": [
        "n = int(input(\"Введите количество элементов списка: \"))\n",
        "my_list = []\n",
        "i = 0\n",
        "while i < n:\n",
        "    element = input(f\"Введите элемент {i + 1}: \")\n",
        "    my_list.append(element)\n",
        "    i += 1\n",
        "print(\"Введенный список:\", my_list)"
      ],
      "metadata": {
        "id": "Coq7mKvGcxaM",
        "colab": {
          "base_uri": "https://localhost:8080/"
        },
        "outputId": "e2731c97-afc6-4794-86da-1d8765f2a455"
      },
      "execution_count": null,
      "outputs": [
        {
          "output_type": "stream",
          "name": "stdout",
          "text": [
            "Введите количество элементов списка: 12\n",
            "Введите элемент 1: 2\n",
            "Введите элемент 2: 2\n",
            "Введите элемент 3: 3\n",
            "Введите элемент 4: 4\n",
            "Введите элемент 5: 13\n",
            "Введите элемент 6: 12\n",
            "Введите элемент 7: 12\n",
            "Введите элемент 8: 1\n",
            "Введите элемент 9: 2\n",
            "Введите элемент 10: \n",
            "Введите элемент 11: 2\n",
            "Введите элемент 12: 2\n",
            "Введенный список: ['2', '2', '3', '4', '13', '12', '12', '1', '2', '', '2', '2']\n"
          ]
        }
      ]
    },
    {
      "cell_type": "markdown",
      "source": [
        "Задание 7.9 Ввести список с клавиатуры, количество элементов неизвестно, список заканчивается пустым элементом"
      ],
      "metadata": {
        "id": "W4uloQRxcxvD"
      }
    },
    {
      "cell_type": "code",
      "source": [
        "my_list = []34\n",
        "print(\"Введите элементы списка (для завершения оставьте строку пустой):\")\n",
        "while True:\n",
        "    element = input(\"> \")\n",
        "    if element == \"\":\n",
        "        break\n",
        "    my_list.append(element)\n",
        "print(\"Введенный список:\", my_list)"
      ],
      "metadata": {
        "id": "vEWGYacWc7cq",
        "colab": {
          "base_uri": "https://localhost:8080/"
        },
        "outputId": "5f17b98f-b61e-4193-82dc-423aa0cb8a34"
      },
      "execution_count": null,
      "outputs": [
        {
          "output_type": "stream",
          "name": "stdout",
          "text": [
            "Введите элементы списка (для завершения оставьте строку пустой):\n",
            "> 6\n",
            "> 1\n",
            "> 2\n",
            "> \n",
            "Введенный список: ['6', '1', '2']\n"
          ]
        }
      ]
    },
    {
      "cell_type": "markdown",
      "source": [
        "Задание 7.10 Создайте список из случайных чисел и найдите наибольший элемент в нём"
      ],
      "metadata": {
        "id": "ri7dRD7ec700"
      }
    },
    {
      "cell_type": "code",
      "source": [
        "import random\n",
        "random_numbers = [random.randint(1, 100) for _ in range(10)]\n",
        "max_number = max(random_numbers)\n",
        "print(\"Сгенерированный список:\", random_numbers, \"Наибольший элемент в списке:\", max_number)\n"
      ],
      "metadata": {
        "colab": {
          "base_uri": "https://localhost:8080/"
        },
        "id": "69GkrFrTB0sK",
        "outputId": "1ea0974c-02c0-47cb-a420-c74ade2f861c"
      },
      "execution_count": null,
      "outputs": [
        {
          "output_type": "stream",
          "name": "stdout",
          "text": [
            "Сгенерированный список: [1, 83, 15, 38, 84, 42, 6, 28, 17, 87] Наибольший элемент в списке: 87\n"
          ]
        }
      ]
    },
    {
      "cell_type": "markdown",
      "source": [
        "# 8 тема Функции"
      ],
      "metadata": {
        "id": "-qE_J9j6Gxed"
      }
    },
    {
      "cell_type": "markdown",
      "source": [
        "Задание 8.1 написать функцию для здорорванья"
      ],
      "metadata": {
        "id": "dd_GPuqYdRN6"
      }
    },
    {
      "cell_type": "code",
      "source": [
        "def say_hello(name=\"\"):\n",
        "    if name:\n",
        "        return f\"Привет, {name}! Как твои дела?\"\n",
        "    else:\n",
        "        return \"Привет! Как твои дела?\"\n",
        "print(say_hello())\n",
        "print(say_hello(\"Анна\"))"
      ],
      "metadata": {
        "colab": {
          "base_uri": "https://localhost:8080/"
        },
        "id": "1GdHyPhsdRdS",
        "outputId": "c63ba97e-ffc0-4b48-a9d8-b1a2a47b6c44"
      },
      "execution_count": null,
      "outputs": [
        {
          "output_type": "stream",
          "name": "stdout",
          "text": [
            "Привет! Как твои дела?\n",
            "Привет, Анна! Как твои дела?\n"
          ]
        }
      ]
    },
    {
      "cell_type": "markdown",
      "source": [
        "Задание 8.2 Вычислить сумму двух чисел"
      ],
      "metadata": {
        "id": "ajU66xyBdcNa"
      }
    },
    {
      "cell_type": "code",
      "source": [
        "num1 = 5\n",
        "num2 = 3\n",
        "sum_result = num1 + num2\n",
        "print(\"Сумма чисел\", num1, \"и\", num2, \"равна:\", sum_result)"
      ],
      "metadata": {
        "colab": {
          "base_uri": "https://localhost:8080/"
        },
        "id": "MXBINbwodcv5",
        "outputId": "b04f3efd-8b78-4783-ef49-a6b37fc0cf46"
      },
      "execution_count": null,
      "outputs": [
        {
          "output_type": "stream",
          "name": "stdout",
          "text": [
            "Сумма чисел 5 и 3 равна: 8\n"
          ]
        }
      ]
    },
    {
      "cell_type": "markdown",
      "source": [
        "Задание 8.3 Найти произведение двух чисел с помощью функции"
      ],
      "metadata": {
        "id": "E0-Axp7WdkSp"
      }
    },
    {
      "cell_type": "code",
      "source": [
        "def multiply(a, b):\n",
        "    \"\"\"Функция возвращает произведение двух чисел\"\"\"\n",
        "    return a * b\n",
        "\n",
        "result = multiply(5, 7)\n",
        "print(\"Произведение равно:\", result)"
      ],
      "metadata": {
        "colab": {
          "base_uri": "https://localhost:8080/"
        },
        "id": "KrLclRsJdjb5",
        "outputId": "dda5846f-10fe-48cb-98af-765a9697c8ac"
      },
      "execution_count": null,
      "outputs": [
        {
          "output_type": "stream",
          "name": "stdout",
          "text": [
            "Произведение равно: 35\n"
          ]
        }
      ]
    },
    {
      "cell_type": "markdown",
      "source": [
        "Задание 8.4 Вычислить площадь треугольника по координатам трёх точек на плоскости"
      ],
      "metadata": {
        "id": "JSMOVjCfdpOp"
      }
    },
    {
      "cell_type": "code",
      "source": [
        "-"
      ],
      "metadata": {
        "id": "BMoYvZhDdwsp"
      },
      "execution_count": null,
      "outputs": []
    },
    {
      "cell_type": "markdown",
      "source": [
        "Задание 8.5 Вычислить n-е число Фибоначчи"
      ],
      "metadata": {
        "id": "LpbmVRmedw95"
      }
    },
    {
      "cell_type": "code",
      "source": [
        "def fibonacci(n):\n",
        "    if n <= 0:\n",
        "        return 0\n",
        "    elif n == 1:\n",
        "        return 1\n",
        "\n",
        "    a, b = 0, 1\n",
        "    for _ in range(2, n + 1):\n",
        "        a, b = b, a + b\n",
        "    return b\n",
        "\n",
        "n = int(input(\"Введите номер числа Фибоначчи: \"))\n",
        "print(f\"F({n}) = {fibonacci(n)}\")"
      ],
      "metadata": {
        "id": "G_rKdT2Pd3wh",
        "colab": {
          "base_uri": "https://localhost:8080/"
        },
        "outputId": "1f34dbe0-5902-4051-8e91-f6a7346a745f"
      },
      "execution_count": null,
      "outputs": [
        {
          "output_type": "stream",
          "name": "stdout",
          "text": [
            "Введите номер числа Фибоначчи: 2\n",
            "F(2) = 1\n"
          ]
        }
      ]
    },
    {
      "cell_type": "markdown",
      "source": [
        "Задание 8.6 Вычислить факториал от n c помощью рекурсии"
      ],
      "metadata": {
        "id": "Q68EVsNmeFIX"
      }
    },
    {
      "cell_type": "code",
      "source": [
        "def factorial(n):\n",
        "    if n == 0 or n == 1:\n",
        "        return 1\n",
        "    else:\n",
        "        return n * factorial(n - 1)\n",
        "n = int(input(\"Введите целое неотрицательное число: \"))\n",
        "if n < 0:\n",
        "    print(\"Факториал отрицательного числа не определен!\")\n",
        "else:\n",
        "    print(f\"{n}! = {factorial(n)}\")"
      ],
      "metadata": {
        "id": "fUYpP_a2eOsY",
        "colab": {
          "base_uri": "https://localhost:8080/"
        },
        "outputId": "a00b149b-21f1-4ab1-e577-519f178e565c"
      },
      "execution_count": null,
      "outputs": [
        {
          "output_type": "stream",
          "name": "stdout",
          "text": [
            "Введите целое неотрицательное число: 1\n",
            "1! = 1\n"
          ]
        }
      ]
    },
    {
      "cell_type": "markdown",
      "source": [
        "Задание 8.7 Написать функции: квадрата, длины круга, площади круга"
      ],
      "metadata": {
        "id": "ZRy8OuyvePEv"
      }
    },
    {
      "cell_type": "code",
      "source": [
        "import math\n",
        "#квадрат\n",
        "def square(x):\n",
        "    return x ** 2\n",
        "#длина окружности по радиусу\n",
        "def circle_circumference(radius):\n",
        "    return 2 * math.pi * radius\n",
        "#площадь круга по радиусу\n",
        "def circle_area(radius):\n",
        "    return math.pi * radius ** 2\n",
        "\n",
        "if __name__ == \"__main__\":\n",
        "    num = float(input(\"Введите число для возведения в квадрат: \"))\n",
        "    print(f\"Квадрат числа {num} = {square(num)}\")\n",
        "\n",
        "    r = float(input(\"Введите радиус круга: \"))\n",
        "    print(f\"Длина окружности с радиусом {r} = {circle_circumference(r):.2f}\")\n",
        "    print(f\"Площадь круга с радиусом {r} = {circle_area(r):.2f}\")"
      ],
      "metadata": {
        "id": "qT2a0H1veW1f",
        "colab": {
          "base_uri": "https://localhost:8080/"
        },
        "outputId": "99eaffed-5bca-48b3-be56-3c50531fb2f3"
      },
      "execution_count": null,
      "outputs": [
        {
          "output_type": "stream",
          "name": "stdout",
          "text": [
            "Введите число для возведения в квадрат: 4\n",
            "Квадрат числа 4.0 = 16.0\n",
            "Введите радиус круга: 5\n",
            "Длина окружности с радиусом 5.0 = 31.42\n",
            "Площадь круга с радиусом 5.0 = 78.54\n"
          ]
        }
      ]
    },
    {
      "cell_type": "markdown",
      "source": [
        "Задание 8.8 Написать функцию, которая определяет, делится ли число на три"
      ],
      "metadata": {
        "id": "dq1rmsdAd4D5"
      }
    },
    {
      "cell_type": "code",
      "source": [
        "def делится_на_три(number):\n",
        "    return number % 3 == 0\n",
        "def делится_на_три_через_сумму(number):\n",
        "    return sum(int(d) for d in str(abs(number))) % 3 == 0\n",
        "\n",
        "if __name__ == \"__main__\":\n",
        "    num = int(input(\"Введите целое число: \"))\n",
        "\n",
        "    if делится_на_три(num):\n",
        "        print(f\"Число {num} делится на 3\")\n",
        "    else:\n",
        "        print(f\"Число {num} НЕ делится на 3\")"
      ],
      "metadata": {
        "id": "FkxJaUeAeeau",
        "colab": {
          "base_uri": "https://localhost:8080/"
        },
        "outputId": "e3219d2b-37fc-468b-d79c-570222c952d0"
      },
      "execution_count": null,
      "outputs": [
        {
          "output_type": "stream",
          "name": "stdout",
          "text": [
            "Введите целое число: 6\n",
            "Число 6 делится на 3\n"
          ]
        }
      ]
    },
    {
      "cell_type": "markdown",
      "source": [
        "Задание 8.9 Написать функцию, которая находит максимум в списке"
      ],
      "metadata": {
        "id": "KCVn10Vkedrf"
      }
    },
    {
      "cell_type": "code",
      "source": [
        "def find_max(lst):\n",
        "    return max(lst) if lst else None\n",
        "\n",
        "numbers = [3, 1, 4, 1, 5, 9, 2, 6]\n",
        "print(find_max(numbers))"
      ],
      "metadata": {
        "id": "psRosALuee7P",
        "colab": {
          "base_uri": "https://localhost:8080/"
        },
        "outputId": "fc6366e1-a9a3-40e8-cda0-af2926be302c"
      },
      "execution_count": null,
      "outputs": [
        {
          "output_type": "stream",
          "name": "stdout",
          "text": [
            "9\n"
          ]
        }
      ]
    },
    {
      "cell_type": "markdown",
      "source": [
        "Задание 8.10 Написать функцию, определяющию, является ли число простым"
      ],
      "metadata": {
        "id": "23C_0ckfelp2"
      }
    },
    {
      "cell_type": "code",
      "source": [
        "def is_prime(n):\n",
        "#Проверяет, является ли число простым\n",
        "    if n <= 1:\n",
        "        return False\n",
        "    if n <= 3:\n",
        "        return True\n",
        "    if n % 2 == 0 or n % 3 == 0:\n",
        "        return False\n",
        "    i = 5\n",
        "    w = 2\n",
        "    while i * i <= n:\n",
        "        if n % i == 0:\n",
        "            return False\n",
        "        i += w\n",
        "        w = 6 - w\n",
        "    return True\n",
        "if __name__ == \"__main__\":\n",
        "    num = int(input(\"Введите число: \"))\n",
        "    if is_prime(num):\n",
        "        print(f\"{num} - простое число\")\n",
        "    else:\n",
        "        print(f\"{num} - не является простым числом\")"
      ],
      "metadata": {
        "id": "dYrN8LO8er3-",
        "colab": {
          "base_uri": "https://localhost:8080/"
        },
        "outputId": "da06d7ae-4945-449c-feaa-258b4050c512"
      },
      "execution_count": null,
      "outputs": [
        {
          "output_type": "stream",
          "name": "stdout",
          "text": [
            "Введите число: 12\n",
            "12 - не является простым числом\n"
          ]
        }
      ]
    },
    {
      "cell_type": "markdown",
      "source": [
        "# **9 тема Словари**"
      ],
      "metadata": {
        "id": "DueP8VfnGz7n"
      }
    },
    {
      "cell_type": "markdown",
      "source": [
        "Задание 9.1 Создать список, содержащий словари \"Солнечная система\""
      ],
      "metadata": {
        "id": "qHF85rSOevBX"
      }
    },
    {
      "cell_type": "code",
      "source": [],
      "metadata": {
        "id": "b5zJhyCJevaF"
      },
      "execution_count": null,
      "outputs": []
    },
    {
      "cell_type": "markdown",
      "source": [],
      "metadata": {
        "id": "y5NGEwfYe79-"
      }
    },
    {
      "cell_type": "markdown",
      "source": [
        "Задание 9.2 Создать словарь предметов и\n",
        "преподавателей"
      ],
      "metadata": {
        "id": "S6gcSHJBG0O-"
      }
    },
    {
      "cell_type": "code",
      "source": [
        "MTI = {\"Элементы высшей математики\" : \"Бахристова Александра Андреевна\", \"Иностранный язык в профессиональной деятельности\" : \"Коршиков Александр Алексеевич\"}\n",
        "print(MTI)"
      ],
      "metadata": {
        "id": "PZsZUYJQhQtO",
        "colab": {
          "base_uri": "https://localhost:8080/"
        },
        "outputId": "82d58bc8-6eac-4132-b16d-5c0a6642ebef"
      },
      "execution_count": null,
      "outputs": [
        {
          "output_type": "stream",
          "name": "stdout",
          "text": [
            "{'Элементы высшей математики': 'Бахристова Александра Андреевна', 'Иностранный язык в профессиональной деятельности': 'Коршиков Александр Алексеевич'}\n"
          ]
        }
      ]
    },
    {
      "cell_type": "markdown",
      "source": [
        "Задача 9.3 Сделать словарь, где поле \"значение\"\n",
        "является списком."
      ],
      "metadata": {
        "id": "J9Ivg5dmhRCA"
      }
    },
    {
      "cell_type": "code",
      "source": [
        "cars = {\"Ford Focus\" : [\"Бензин\", \"АКПП\", \"210 лс.\", \"FWD\", \"2010 г.в.\", \"VIN 2112F223RREEFW23D\"], \"Audi A5\" : [\"Дизель\", \"АКПП\", \"350 лс.\", \"FWD\", \"2020 г.в.\", \"VIN FE3324RF423F2343D\"]}\n",
        "search = input()\n",
        "for key, value in cars.items():\n",
        "  if any(search in item for item in value):\n",
        "    print(key)"
      ],
      "metadata": {
        "colab": {
          "base_uri": "https://localhost:8080/"
        },
        "id": "rVDXU4AWhRv_",
        "outputId": "449d8cfb-848b-4761-ef46-b39d573c2fdb"
      },
      "execution_count": null,
      "outputs": [
        {
          "output_type": "stream",
          "name": "stdout",
          "text": [
            "4\n",
            "Audi A5\n"
          ]
        }
      ]
    },
    {
      "cell_type": "markdown",
      "source": [
        "Задача 9.4 Сделать словарь, где поле \"значение\"\n",
        "является списком. И поиск по двум параметрам"
      ],
      "metadata": {
        "id": "HRBwi_8jh3H-"
      }
    },
    {
      "cell_type": "code",
      "source": [
        "cars = {\"Ford Focus\" : [\"Бензин\", \"АКПП\", \"210 лс.\", \"FWD\", \"2010 г.в.\", \"VIN 2112F223RREEFW23D\"], \"Audi A5\" : [\"Дизель\", \"АКПП\", \"350 лс.\", \"FWD\", \"2020 г.в.\", \"VIN FE3324RF423F2343D\"], \"BMW M5\" : [\"Бензин\", \"АКПП\", \"400 лс.\", \"AWD\", \"2025 г.в.\", \"VIN 6464wef6ewf46f\"]}\n",
        "search1 = input()\n",
        "search2 = input()\n",
        "for key, value in cars.items():\n",
        "  if any(search in item for item in value) and any(search2 in item for item in value):\n",
        "    print(key)"
      ],
      "metadata": {
        "colab": {
          "base_uri": "https://localhost:8080/"
        },
        "id": "RkmpwXwZh3-N",
        "outputId": "ba6e9b73-8cff-4514-9abc-1ab07ed3642a"
      },
      "execution_count": null,
      "outputs": [
        {
          "output_type": "stream",
          "name": "stdout",
          "text": [
            "1\n",
            "2\n",
            "Audi A5\n",
            "BMW M5\n"
          ]
        }
      ]
    },
    {
      "cell_type": "markdown",
      "source": [
        "9.5 Словарь \"Телефонная книга\".\n",
        "Добавить в словарь элемент. Удвоить один\n",
        "элемент. Проверить наличие элемента с ключом.\n",
        "Вывести все ключи, вывести все значения"
      ],
      "metadata": {
        "id": "PcMFOJx7ExrX"
      }
    },
    {
      "cell_type": "code",
      "source": [
        "contacts = {\"Алексей\" : \"+7-955-342-1254\", \"Борис\" : \"+7-934-781-3421\", \"Василий\" : \"+7-644-754-9093\"}\n",
        "print(\"Алексей\", contacts[\"Алексей\"])\n",
        "contacts[\"Геннадий\"] = \"+7-943-643-2356\"\n",
        "print(contacts)\n",
        "del contacts[\"Борис\"]\n",
        "print(contacts)\n",
        "if (\"Василий\" in contacts):\n",
        "  print(\"Василий\", contacts[\"Василий\"])\n",
        "print(contacts.keys())\n",
        "print(contacts.values())\n",
        "for name, phone in contacts.items():\n",
        "  print(f\"{name}:{phone}\")"
      ],
      "metadata": {
        "colab": {
          "base_uri": "https://localhost:8080/"
        },
        "id": "3fp3xxDBEyFH",
        "outputId": "a1bcbefe-a0fa-484b-8e86-7219026770fd"
      },
      "execution_count": null,
      "outputs": [
        {
          "output_type": "stream",
          "name": "stdout",
          "text": [
            "Алексей +7-955-342-1254\n",
            "{'Алексей': '+7-955-342-1254', 'Борис': '+7-934-781-3421', 'Василий': '+7-644-754-9093', 'Геннадий': '+7-943-643-2356'}\n",
            "{'Алексей': '+7-955-342-1254', 'Василий': '+7-644-754-9093', 'Геннадий': '+7-943-643-2356'}\n",
            "Василий +7-644-754-9093\n",
            "dict_keys(['Алексей', 'Василий', 'Геннадий'])\n",
            "dict_values(['+7-955-342-1254', '+7-644-754-9093', '+7-943-643-2356'])\n",
            "Алексей:+7-955-342-1254\n",
            "Василий:+7-644-754-9093\n",
            "Геннадий:+7-943-643-2356\n"
          ]
        }
      ]
    },
    {
      "cell_type": "markdown",
      "source": [
        "# 10 тема Работа с файлами"
      ],
      "metadata": {
        "id": "ASLnhFOuFimU"
      }
    },
    {
      "cell_type": "markdown",
      "source": [
        "Задание 10.1 Прочитать и вывести содержимое\n",
        "файла на экран"
      ],
      "metadata": {
        "id": "D38KishnGNGY"
      }
    },
    {
      "cell_type": "code",
      "source": [
        "from google.colab import files\n",
        "uploaded=files.upload()"
      ],
      "metadata": {
        "id": "ubB2OkBP7vq_",
        "outputId": "ef6db33f-090b-48cd-f03c-0332f19159ca",
        "colab": {
          "base_uri": "https://localhost:8080/",
          "height": 73
        }
      },
      "execution_count": null,
      "outputs": [
        {
          "output_type": "display_data",
          "data": {
            "text/plain": [
              "<IPython.core.display.HTML object>"
            ],
            "text/html": [
              "\n",
              "     <input type=\"file\" id=\"files-e7bd0173-536d-4e01-b069-5aacde514842\" name=\"files[]\" multiple disabled\n",
              "        style=\"border:none\" />\n",
              "     <output id=\"result-e7bd0173-536d-4e01-b069-5aacde514842\">\n",
              "      Upload widget is only available when the cell has been executed in the\n",
              "      current browser session. Please rerun this cell to enable.\n",
              "      </output>\n",
              "      <script>// Copyright 2017 Google LLC\n",
              "//\n",
              "// Licensed under the Apache License, Version 2.0 (the \"License\");\n",
              "// you may not use this file except in compliance with the License.\n",
              "// You may obtain a copy of the License at\n",
              "//\n",
              "//      http://www.apache.org/licenses/LICENSE-2.0\n",
              "//\n",
              "// Unless required by applicable law or agreed to in writing, software\n",
              "// distributed under the License is distributed on an \"AS IS\" BASIS,\n",
              "// WITHOUT WARRANTIES OR CONDITIONS OF ANY KIND, either express or implied.\n",
              "// See the License for the specific language governing permissions and\n",
              "// limitations under the License.\n",
              "\n",
              "/**\n",
              " * @fileoverview Helpers for google.colab Python module.\n",
              " */\n",
              "(function(scope) {\n",
              "function span(text, styleAttributes = {}) {\n",
              "  const element = document.createElement('span');\n",
              "  element.textContent = text;\n",
              "  for (const key of Object.keys(styleAttributes)) {\n",
              "    element.style[key] = styleAttributes[key];\n",
              "  }\n",
              "  return element;\n",
              "}\n",
              "\n",
              "// Max number of bytes which will be uploaded at a time.\n",
              "const MAX_PAYLOAD_SIZE = 100 * 1024;\n",
              "\n",
              "function _uploadFiles(inputId, outputId) {\n",
              "  const steps = uploadFilesStep(inputId, outputId);\n",
              "  const outputElement = document.getElementById(outputId);\n",
              "  // Cache steps on the outputElement to make it available for the next call\n",
              "  // to uploadFilesContinue from Python.\n",
              "  outputElement.steps = steps;\n",
              "\n",
              "  return _uploadFilesContinue(outputId);\n",
              "}\n",
              "\n",
              "// This is roughly an async generator (not supported in the browser yet),\n",
              "// where there are multiple asynchronous steps and the Python side is going\n",
              "// to poll for completion of each step.\n",
              "// This uses a Promise to block the python side on completion of each step,\n",
              "// then passes the result of the previous step as the input to the next step.\n",
              "function _uploadFilesContinue(outputId) {\n",
              "  const outputElement = document.getElementById(outputId);\n",
              "  const steps = outputElement.steps;\n",
              "\n",
              "  const next = steps.next(outputElement.lastPromiseValue);\n",
              "  return Promise.resolve(next.value.promise).then((value) => {\n",
              "    // Cache the last promise value to make it available to the next\n",
              "    // step of the generator.\n",
              "    outputElement.lastPromiseValue = value;\n",
              "    return next.value.response;\n",
              "  });\n",
              "}\n",
              "\n",
              "/**\n",
              " * Generator function which is called between each async step of the upload\n",
              " * process.\n",
              " * @param {string} inputId Element ID of the input file picker element.\n",
              " * @param {string} outputId Element ID of the output display.\n",
              " * @return {!Iterable<!Object>} Iterable of next steps.\n",
              " */\n",
              "function* uploadFilesStep(inputId, outputId) {\n",
              "  const inputElement = document.getElementById(inputId);\n",
              "  inputElement.disabled = false;\n",
              "\n",
              "  const outputElement = document.getElementById(outputId);\n",
              "  outputElement.innerHTML = '';\n",
              "\n",
              "  const pickedPromise = new Promise((resolve) => {\n",
              "    inputElement.addEventListener('change', (e) => {\n",
              "      resolve(e.target.files);\n",
              "    });\n",
              "  });\n",
              "\n",
              "  const cancel = document.createElement('button');\n",
              "  inputElement.parentElement.appendChild(cancel);\n",
              "  cancel.textContent = 'Cancel upload';\n",
              "  const cancelPromise = new Promise((resolve) => {\n",
              "    cancel.onclick = () => {\n",
              "      resolve(null);\n",
              "    };\n",
              "  });\n",
              "\n",
              "  // Wait for the user to pick the files.\n",
              "  const files = yield {\n",
              "    promise: Promise.race([pickedPromise, cancelPromise]),\n",
              "    response: {\n",
              "      action: 'starting',\n",
              "    }\n",
              "  };\n",
              "\n",
              "  cancel.remove();\n",
              "\n",
              "  // Disable the input element since further picks are not allowed.\n",
              "  inputElement.disabled = true;\n",
              "\n",
              "  if (!files) {\n",
              "    return {\n",
              "      response: {\n",
              "        action: 'complete',\n",
              "      }\n",
              "    };\n",
              "  }\n",
              "\n",
              "  for (const file of files) {\n",
              "    const li = document.createElement('li');\n",
              "    li.append(span(file.name, {fontWeight: 'bold'}));\n",
              "    li.append(span(\n",
              "        `(${file.type || 'n/a'}) - ${file.size} bytes, ` +\n",
              "        `last modified: ${\n",
              "            file.lastModifiedDate ? file.lastModifiedDate.toLocaleDateString() :\n",
              "                                    'n/a'} - `));\n",
              "    const percent = span('0% done');\n",
              "    li.appendChild(percent);\n",
              "\n",
              "    outputElement.appendChild(li);\n",
              "\n",
              "    const fileDataPromise = new Promise((resolve) => {\n",
              "      const reader = new FileReader();\n",
              "      reader.onload = (e) => {\n",
              "        resolve(e.target.result);\n",
              "      };\n",
              "      reader.readAsArrayBuffer(file);\n",
              "    });\n",
              "    // Wait for the data to be ready.\n",
              "    let fileData = yield {\n",
              "      promise: fileDataPromise,\n",
              "      response: {\n",
              "        action: 'continue',\n",
              "      }\n",
              "    };\n",
              "\n",
              "    // Use a chunked sending to avoid message size limits. See b/62115660.\n",
              "    let position = 0;\n",
              "    do {\n",
              "      const length = Math.min(fileData.byteLength - position, MAX_PAYLOAD_SIZE);\n",
              "      const chunk = new Uint8Array(fileData, position, length);\n",
              "      position += length;\n",
              "\n",
              "      const base64 = btoa(String.fromCharCode.apply(null, chunk));\n",
              "      yield {\n",
              "        response: {\n",
              "          action: 'append',\n",
              "          file: file.name,\n",
              "          data: base64,\n",
              "        },\n",
              "      };\n",
              "\n",
              "      let percentDone = fileData.byteLength === 0 ?\n",
              "          100 :\n",
              "          Math.round((position / fileData.byteLength) * 100);\n",
              "      percent.textContent = `${percentDone}% done`;\n",
              "\n",
              "    } while (position < fileData.byteLength);\n",
              "  }\n",
              "\n",
              "  // All done.\n",
              "  yield {\n",
              "    response: {\n",
              "      action: 'complete',\n",
              "    }\n",
              "  };\n",
              "}\n",
              "\n",
              "scope.google = scope.google || {};\n",
              "scope.google.colab = scope.google.colab || {};\n",
              "scope.google.colab._files = {\n",
              "  _uploadFiles,\n",
              "  _uploadFilesContinue,\n",
              "};\n",
              "})(self);\n",
              "</script> "
            ]
          },
          "metadata": {}
        },
        {
          "output_type": "stream",
          "name": "stdout",
          "text": [
            "Saving behemott.txt to behemott.txt\n"
          ]
        }
      ]
    },
    {
      "cell_type": "markdown",
      "source": [
        "Задача 10.2 Вывести на экран количество строк в\n",
        "файле\n"
      ],
      "metadata": {
        "id": "KLoQWkM14Deb"
      }
    },
    {
      "cell_type": "code",
      "source": [
        "with open('behemottt.txt','r') as file:\n",
        "  lines = file.readlines()\n",
        "  print('Количество строк - ',len(lines))"
      ],
      "metadata": {
        "colab": {
          "base_uri": "https://localhost:8080/",
          "height": 176
        },
        "id": "X_kdezJEGbb5",
        "outputId": "f781167c-e6e9-40b1-d9c4-ce206df8c10a"
      },
      "execution_count": null,
      "outputs": [
        {
          "output_type": "error",
          "ename": "FileNotFoundError",
          "evalue": "[Errno 2] No such file or directory: 'behemottt.txt'",
          "traceback": [
            "\u001b[0;31m---------------------------------------------------------------------------\u001b[0m",
            "\u001b[0;31mFileNotFoundError\u001b[0m                         Traceback (most recent call last)",
            "\u001b[0;32m<ipython-input-85-c32180a0c205>\u001b[0m in \u001b[0;36m<cell line: 0>\u001b[0;34m()\u001b[0m\n\u001b[0;32m----> 1\u001b[0;31m \u001b[0;32mwith\u001b[0m \u001b[0mopen\u001b[0m\u001b[0;34m(\u001b[0m\u001b[0;34m'behemottt.txt'\u001b[0m\u001b[0;34m,\u001b[0m\u001b[0;34m'r'\u001b[0m\u001b[0;34m)\u001b[0m \u001b[0;32mas\u001b[0m \u001b[0mfile\u001b[0m\u001b[0;34m:\u001b[0m\u001b[0;34m\u001b[0m\u001b[0;34m\u001b[0m\u001b[0m\n\u001b[0m\u001b[1;32m      2\u001b[0m   \u001b[0mlines\u001b[0m \u001b[0;34m=\u001b[0m \u001b[0mfile\u001b[0m\u001b[0;34m.\u001b[0m\u001b[0mreadlines\u001b[0m\u001b[0;34m(\u001b[0m\u001b[0;34m)\u001b[0m\u001b[0;34m\u001b[0m\u001b[0;34m\u001b[0m\u001b[0m\n\u001b[1;32m      3\u001b[0m   \u001b[0mprint\u001b[0m\u001b[0;34m(\u001b[0m\u001b[0;34m'Количество строк - '\u001b[0m\u001b[0;34m,\u001b[0m\u001b[0mlen\u001b[0m\u001b[0;34m(\u001b[0m\u001b[0mlines\u001b[0m\u001b[0;34m)\u001b[0m\u001b[0;34m)\u001b[0m\u001b[0;34m\u001b[0m\u001b[0;34m\u001b[0m\u001b[0m\n",
            "\u001b[0;31mFileNotFoundError\u001b[0m: [Errno 2] No such file or directory: 'behemottt.txt'"
          ]
        }
      ]
    },
    {
      "cell_type": "markdown",
      "source": [
        "Задача 10.3 Вывести количество слов в файле"
      ],
      "metadata": {
        "id": "d3vAceXw5Pd5"
      }
    },
    {
      "cell_type": "code",
      "source": [
        "with open ('behemott.txt','r') as file:\n",
        "  content = file.read()\n",
        "  words = content.split()\n",
        "  print(\"Количество слов в файле - \",len(words))\n",
        "  print()\n",
        "  print(content)"
      ],
      "metadata": {
        "id": "nRiqll2G4V0S",
        "outputId": "5505464a-78ae-42b5-bd4f-3cf94a72c528",
        "colab": {
          "base_uri": "https://localhost:8080/"
        }
      },
      "execution_count": null,
      "outputs": [
        {
          "output_type": "stream",
          "name": "stdout",
          "text": [
            "Количество слов в файле -  4\n",
            "\n",
            "ывпыпфп ывпыварпвр выаравыер апрварвра\n"
          ]
        }
      ]
    },
    {
      "cell_type": "markdown",
      "source": [
        "Задание 10.4 Вывести количество предложений (точек) в файле"
      ],
      "metadata": {
        "id": "0McpMrr6GvY3"
      }
    },
    {
      "cell_type": "code",
      "source": [
        "def count_sentences('behemott.txt'):\n",
        "    try:\n",
        "        with open('behemott.txt', 'r', encoding='utf-8') as file:\n",
        "            content = file.read()\n",
        "            return content.count('.')\n",
        "    except FileNotFoundError:\n",
        "        print(f\"Файл '{behemott.txt}' не найден.\")\n",
        "        return 0"
      ],
      "metadata": {
        "id": "VD93aY3o5ZFa",
        "colab": {
          "base_uri": "https://localhost:8080/",
          "height": 106
        },
        "outputId": "09a1beb3-841b-470f-d231-a253242565d5"
      },
      "execution_count": null,
      "outputs": [
        {
          "output_type": "error",
          "ename": "SyntaxError",
          "evalue": "invalid syntax (<ipython-input-13-a80cb5eaa994>, line 1)",
          "traceback": [
            "\u001b[0;36m  File \u001b[0;32m\"<ipython-input-13-a80cb5eaa994>\"\u001b[0;36m, line \u001b[0;32m1\u001b[0m\n\u001b[0;31m    def count_sentences('behemott.txt'):\u001b[0m\n\u001b[0m                        ^\u001b[0m\n\u001b[0;31mSyntaxError\u001b[0m\u001b[0;31m:\u001b[0m invalid syntax\n"
          ]
        }
      ]
    },
    {
      "cell_type": "markdown",
      "source": [
        "Задание 10.5 Вывести количество предложений (точек) в файле"
      ],
      "metadata": {
        "id": "4kjSqDoWGnr3"
      }
    },
    {
      "cell_type": "code",
      "source": [
        "filename = 'behemott.txt'\n",
        "sentence_count = count_sentences('behemott.txt')\n",
        "print(f\"Количество предложений (точек) в файле: {sentence_count}\")"
      ],
      "metadata": {
        "colab": {
          "base_uri": "https://localhost:8080/"
        },
        "id": "kWdqIGR1-JbZ",
        "outputId": "04e2fd97-8942-47fd-a0f5-0a39f995d531"
      },
      "execution_count": null,
      "outputs": [
        {
          "output_type": "stream",
          "name": "stdout",
          "text": [
            "Количество предложений (точек) в файле: 0\n"
          ]
        }
      ]
    }
  ],
  "metadata": {
    "colab": {
      "toc_visible": true,
      "provenance": [],
      "include_colab_link": true
    },
    "kernelspec": {
      "display_name": "Python 3",
      "name": "python3"
    }
  },
  "nbformat": 4,
  "nbformat_minor": 0
}